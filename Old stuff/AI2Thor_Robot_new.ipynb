{
 "cells": [
  {
   "cell_type": "markdown",
   "metadata": {
    "id": "BZZtILJe_mte"
   },
   "source": [
    "Possible ideas for the plan:\n",
    "Not entirely sure where we will use which technology(*vector,image-to text, etc.*), and also still need to finish the work division\n",
    "\n",
    "0-load all necessary data/methods/pip installs\n",
    "\n",
    "1-our application will first allow the user to state what scene they saw - using this input to feed to classification algorithm, trained on furniture dataset\n",
    "\n",
    "2-internally it will categorize what possible room it could have been, we need tokenization and a classifier for that\n",
    "\n",
    "3-It needs to relay which room it decides on - this means it needs to print output to the user\n",
    "\n",
    "5-then it will teleport to that room, for which we will use ai2thor's Teleport() function\n",
    "\n",
    "6-once teleported, it needs to communicate to the user if the current scene is similar to the scene that they were looking for\n",
    "\n",
    "7-calculate a similarity score - using text to vector(*did we do this for room-comparison or scene-comparison?*)\n",
    "\n",
    "for scene comparison\n",
    "\n",
    "*   7.1-if score high: print image(*wouldnt it already do that after teleporting?*). State which objects are closeby, (*in case the object they needed to find is behind something and thus could not normally be seen*). We can use the listing function of ai2thor/image recognition\n",
    "*   7.1.1-then let user say if the object is found\n",
    "\n",
    "    *   7.1.2-if yes: say \"great job, we did it\" or something, end interaction\n",
    "    *   7.1.3-if no: go to point 7.2\n",
    "\n",
    "*   7.2-if score average: tell user to take controls to let the agent move around in the room manually\n",
    "\n",
    "*   7.3-if score low: Say \"did not find the place\". Randomly teleport and start again at point 5\n",
    "\n",
    "(the easiest way is just to teleport() randomly and start at point 5)\n",
    "\n",
    "-friday presentation: both\n",
    "\n",
    "-final presentation: both\n",
    "\n",
    "-report: i think i can do most of that if its okay with you, i write quite fast.\n",
    "\n",
    "as you like.\n",
    "\n",
    "Notes: For similarity scores we might later need to adjust the level(from >90, to >95 or so if we find it neccessary).If maybe rotate then recalculate score. okay, let agent move/rotate not user. teleport does not need to be randomly. succes not most important. but recording the actions/communication and analyze communication between user/computer. both have descriptions and we also would know what is the quality of those. Also how well did similarity score perform. need to take into account user can say yes/no/alternative decription when asked questions by the agent, so would need to be able to handle such scenarios if we would have them."
   ]
  },
  {
   "cell_type": "code",
   "execution_count": 2,
   "metadata": {
    "id": "GQBCDu3_IYYq"
   },
   "outputs": [],
   "source": [
    "import random\n",
    "import warnings,logging\n",
    "warnings.simplefilter('ignore')\n",
    "logging.disable(logging.WARNING)"
   ]
  },
  {
   "cell_type": "code",
   "execution_count": 3,
   "metadata": {},
   "outputs": [],
   "source": [
    "import image_text as caption\n",
    "import room_classification as room\n",
    "import text_to_vector as vec\n",
    "from sklearn.metrics.pairwise import cosine_similarity\n"
   ]
  },
  {
   "cell_type": "code",
   "execution_count": 4,
   "metadata": {
    "colab": {
     "base_uri": "https://localhost:8080/"
    },
    "id": "IxBJ8_7deZLO",
    "outputId": "dc634953-cff6-4bca-8d2a-fa013b40f229"
   },
   "outputs": [],
   "source": [
    "# from google.colab import drive\n",
    "# drive.mount('/content/drive')"
   ]
  },
  {
   "cell_type": "code",
   "execution_count": 5,
   "metadata": {
    "colab": {
     "base_uri": "https://localhost:8080/"
    },
    "id": "jxBioLb7HHCr",
    "outputId": "3c6f90a6-4456-4238-863b-721d17ad9eaf"
   },
   "outputs": [],
   "source": [
    "# !pip install --upgrade ai2thor --quiet\n",
    "# !pip install ai2thor-colab prior --upgrade &> /dev/null"
   ]
  },
  {
   "cell_type": "code",
   "execution_count": 6,
   "metadata": {
    "colab": {
     "base_uri": "https://localhost:8080/",
     "height": 161
    },
    "id": "54gDkjSSHNwr",
    "outputId": "08666dd7-c589-4d9a-ebee-10aa42d351ff"
   },
   "outputs": [
    {
     "name": "stderr",
     "output_type": "stream",
     "text": [
      "E: Could not open lock file /var/lib/dpkg/lock-frontend - open (13: Permission denied)\n",
      "E: Unable to acquire the dpkg frontend lock (/var/lib/dpkg/lock-frontend), are you root?\n"
     ]
    },
    {
     "name": "stdout",
     "output_type": "stream",
     "text": [
      "[AI2-THOR WARNING] There has been an update to ProcTHOR-10K that must be used with AI2-THOR version 5.0+. To use the new version of ProcTHOR-10K, please update AI2-THOR to version 5.0+ by running:\n",
      "    pip install --upgrade ai2thor\n",
      "Alternatively, to downgrade to the old version of ProcTHOR-10K, run:\n",
      "   prior.load_dataset(\"procthor-10k\", revision=\"ab3cacd0fc17754d4c080a3fd50b18395fae8647\")\n"
     ]
    },
    {
     "name": "stderr",
     "output_type": "stream",
     "text": [
      "Loading train: 100%|███████████████████| 10000/10000 [00:00<00:00, 11746.13it/s]\n",
      "Loading val: 100%|███████████████████████| 1000/1000 [00:00<00:00, 12274.17it/s]\n",
      "Loading test: 100%|██████████████████████| 1000/1000 [00:00<00:00, 12359.74it/s]\n"
     ]
    }
   ],
   "source": [
    "import os\n",
    "os.system('apt-get install xvfb')\n",
    "\n",
    "import prior\n",
    "dataset = prior.load_dataset(\"procthor-10k\")\n",
    "house = dataset[\"train\"][11]\n",
    "\n",
    "# import ai2thor_colab\n",
    "# ai2thor_colab.start_xserver()"
   ]
  },
  {
   "cell_type": "code",
   "execution_count": 7,
   "metadata": {
    "colab": {
     "base_uri": "https://localhost:8080/"
    },
    "id": "VgU8W_hymi7R",
    "outputId": "f42ee291-0ab0-42b4-b028-0dcae54057f1"
   },
   "outputs": [],
   "source": [
    "from ai2thor.controller import Controller\n",
    "from ai2thor.platform import CloudRendering\n",
    "from PIL import Image\n",
    "\n",
    "controller = Controller(platform=CloudRendering)\n",
    "img = Image.fromarray(controller.last_event.frame)\n",
    "# controller = Controller(scene='FloorPlan30',platform=CloudRendering)\n",
    "# controller = Controller(scene=house, visibilityDistance=1.5 , width=150, height=100)\n"
   ]
  },
  {
   "cell_type": "code",
   "execution_count": 8,
   "metadata": {
    "id": "ezwwBbSVZT00"
   },
   "outputs": [],
   "source": [
    "def Teleporting():\n",
    "    event = controller.step(action=\"GetReachablePositions\")\n",
    "    reachable_positions = event.metadata[\"actionReturn\"]\n",
    "    event.metadata[\"actionReturn\"]\n",
    "    position = random.choice(reachable_positions)\n",
    "    rotation = random.choice(range(360))\n",
    "    event = controller.step(action=\"Teleport\", position=position, rotation=rotation)\n",
    "    img = Image.fromarray(controller.last_event.frame)\n",
    "    return img\n",
    "\n",
    "def Low_score_actions(): #i changed this function so it doesnt take input anymore and lets the agent decide\n",
    "    print('Close to the object, but i will rotate so we might find it.')\n",
    "    controller.step(\"RotateRight\")\n",
    "    img = Image.fromarray(controller.last_event.frame)\n",
    "    return img\n"
   ]
  },
  {
   "cell_type": "code",
   "execution_count": 9,
   "metadata": {
    "colab": {
     "base_uri": "https://localhost:8080/"
    },
    "id": "77Q_tT1pHsBO",
    "outputId": "2ff7bb5d-f38d-440a-8b0e-07b0d5b1a93e"
   },
   "outputs": [],
   "source": [
    "# !pip install nltk"
   ]
  },
  {
   "cell_type": "code",
   "execution_count": 10,
   "metadata": {
    "colab": {
     "base_uri": "https://localhost:8080/"
    },
    "id": "SJC7zPGNHqY-",
    "outputId": "3c16409b-dc61-42b6-afe4-31a1df588084"
   },
   "outputs": [],
   "source": [
    "import nltk\n",
    "# nltk.download('punkt')\n",
    "# nltk.download('stopwords')\n",
    "import pandas as pd\n",
    "from nltk.corpus import stopwords"
   ]
  },
  {
   "cell_type": "code",
   "execution_count": 11,
   "metadata": {
    "id": "oiOglIAOHuEZ"
   },
   "outputs": [],
   "source": [
    "def remove_stopwords_and_make_dataframe(caption):\n",
    "    # Tokenize the generated text into words\n",
    "    words = nltk.word_tokenize(caption)\n",
    "    # Remove stop words\n",
    "    stop_words = set(stopwords.words('english'))\n",
    "    filtered_words = [word for word in words if word.lower() not in stop_words]\n",
    "    # Join the filtered words into a string\n",
    "    filtered_text = ' '.join(filtered_words)\n",
    "    return filtered_text"
   ]
  },
  {
   "cell_type": "markdown",
   "metadata": {},
   "source": [
    "# run the robot"
   ]
  },
  {
   "cell_type": "code",
   "execution_count": 12,
   "metadata": {
    "colab": {
     "base_uri": "https://localhost:8080/",
     "height": 142
    },
    "id": "HfI3cBWL3MMs",
    "outputId": "e817d74d-b0fe-469f-ebda-b568c59efabd",
    "scrolled": true
   },
   "outputs": [
    {
     "name": "stdout",
     "output_type": "stream",
     "text": [
      "images/1.jpg :: next\n"
     ]
    },
    {
     "name": "stderr",
     "output_type": "stream",
     "text": [
      "100%|█████████████████████████████████████████████| 1/1 [00:00<00:00, 78.32it/s]\n",
      "100%|█████████████████████████████████████████████| 1/1 [00:00<00:00, 10.95it/s]\n",
      "100%|█████████████████████████████████████████████| 1/1 [00:00<00:00, 68.18it/s]\n",
      "100%|█████████████████████████████████████████████| 1/1 [00:00<00:00, 13.33it/s]\n",
      "100%|█████████████████████████████████████████████| 1/1 [00:00<00:00, 68.50it/s]\n",
      "100%|█████████████████████████████████████████████| 1/1 [00:00<00:00, 13.22it/s]\n"
     ]
    },
    {
     "name": "stdout",
     "output_type": "stream",
     "text": [
      "Close to the object, but i will rotate so we might find it.\n"
     ]
    },
    {
     "name": "stderr",
     "output_type": "stream",
     "text": [
      "100%|█████████████████████████████████████████████| 1/1 [00:00<00:00, 74.52it/s]\n",
      "100%|█████████████████████████████████████████████| 1/1 [00:00<00:00, 12.89it/s]\n",
      "100%|█████████████████████████████████████████████| 1/1 [00:00<00:00, 66.79it/s]\n",
      "100%|█████████████████████████████████████████████| 1/1 [00:00<00:00, 12.03it/s]\n"
     ]
    },
    {
     "name": "stdout",
     "output_type": "stream",
     "text": [
      "I'm not in the place, I'll teleport somewhere else\n"
     ]
    },
    {
     "name": "stderr",
     "output_type": "stream",
     "text": [
      "100%|█████████████████████████████████████████████| 1/1 [00:00<00:00, 69.10it/s]\n",
      "100%|█████████████████████████████████████████████| 1/1 [00:00<00:00, 12.79it/s]\n"
     ]
    },
    {
     "name": "stdout",
     "output_type": "stream",
     "text": [
      "Close to the object, but i will rotate so we might find it.\n"
     ]
    },
    {
     "name": "stderr",
     "output_type": "stream",
     "text": [
      "100%|█████████████████████████████████████████████| 1/1 [00:00<00:00, 74.52it/s]\n",
      "100%|█████████████████████████████████████████████| 1/1 [00:00<00:00, 13.72it/s]\n"
     ]
    },
    {
     "name": "stdout",
     "output_type": "stream",
     "text": [
      "I'm not in the place, I'll teleport somewhere else\n"
     ]
    },
    {
     "name": "stderr",
     "output_type": "stream",
     "text": [
      "100%|█████████████████████████████████████████████| 1/1 [00:00<00:00, 74.00it/s]\n",
      "100%|█████████████████████████████████████████████| 1/1 [00:00<00:00, 12.53it/s]\n"
     ]
    },
    {
     "name": "stdout",
     "output_type": "stream",
     "text": [
      "I'm not in the place, I'll teleport somewhere else\n"
     ]
    },
    {
     "name": "stderr",
     "output_type": "stream",
     "text": [
      "100%|█████████████████████████████████████████████| 1/1 [00:00<00:00, 68.65it/s]\n",
      "100%|█████████████████████████████████████████████| 1/1 [00:00<00:00, 13.26it/s]\n"
     ]
    },
    {
     "name": "stdout",
     "output_type": "stream",
     "text": [
      "I'm not in the place, I'll teleport somewhere else\n"
     ]
    },
    {
     "name": "stderr",
     "output_type": "stream",
     "text": [
      "100%|█████████████████████████████████████████████| 1/1 [00:00<00:00, 70.25it/s]\n",
      "100%|█████████████████████████████████████████████| 1/1 [00:00<00:00, 13.49it/s]\n"
     ]
    },
    {
     "name": "stdout",
     "output_type": "stream",
     "text": [
      "Close to the object, but i will rotate so we might find it.\n"
     ]
    },
    {
     "name": "stderr",
     "output_type": "stream",
     "text": [
      "100%|█████████████████████████████████████████████| 1/1 [00:00<00:00, 71.44it/s]\n",
      "100%|█████████████████████████████████████████████| 1/1 [00:00<00:00, 13.09it/s]\n",
      "100%|█████████████████████████████████████████████| 1/1 [00:00<00:00, 71.56it/s]\n",
      "100%|█████████████████████████████████████████████| 1/1 [00:00<00:00, 13.08it/s]\n"
     ]
    },
    {
     "name": "stdout",
     "output_type": "stream",
     "text": [
      "I'm not in the place, I'll teleport somewhere else\n"
     ]
    },
    {
     "name": "stderr",
     "output_type": "stream",
     "text": [
      "100%|█████████████████████████████████████████████| 1/1 [00:00<00:00, 73.10it/s]\n",
      "100%|█████████████████████████████████████████████| 1/1 [00:00<00:00, 13.60it/s]\n"
     ]
    },
    {
     "name": "stdout",
     "output_type": "stream",
     "text": [
      "I'm not in the place, I'll teleport somewhere else\n"
     ]
    },
    {
     "name": "stderr",
     "output_type": "stream",
     "text": [
      "100%|█████████████████████████████████████████████| 1/1 [00:00<00:00, 72.89it/s]\n",
      "100%|█████████████████████████████████████████████| 1/1 [00:00<00:00, 13.41it/s]\n"
     ]
    },
    {
     "name": "stdout",
     "output_type": "stream",
     "text": [
      "I'm not in the place, I'll teleport somewhere else\n"
     ]
    },
    {
     "name": "stderr",
     "output_type": "stream",
     "text": [
      "100%|█████████████████████████████████████████████| 1/1 [00:00<00:00, 70.42it/s]\n",
      "100%|█████████████████████████████████████████████| 1/1 [00:00<00:00, 13.65it/s]\n"
     ]
    },
    {
     "name": "stdout",
     "output_type": "stream",
     "text": [
      "I'm not in the place, I'll teleport somewhere else\n"
     ]
    },
    {
     "name": "stderr",
     "output_type": "stream",
     "text": [
      "100%|█████████████████████████████████████████████| 1/1 [00:00<00:00, 70.82it/s]\n",
      "100%|█████████████████████████████████████████████| 1/1 [00:00<00:00, 13.66it/s]\n"
     ]
    },
    {
     "name": "stdout",
     "output_type": "stream",
     "text": [
      "I'm not in the place, I'll teleport somewhere else\n",
      "Did not find the place\n",
      "images/2.jpg :: next\n"
     ]
    },
    {
     "name": "stderr",
     "output_type": "stream",
     "text": [
      "100%|█████████████████████████████████████████████| 1/1 [00:00<00:00, 72.33it/s]\n",
      "100%|█████████████████████████████████████████████| 1/1 [00:00<00:00, 12.60it/s]\n",
      "100%|█████████████████████████████████████████████| 1/1 [00:00<00:00, 73.27it/s]\n",
      "100%|█████████████████████████████████████████████| 1/1 [00:00<00:00, 14.26it/s]\n",
      "100%|█████████████████████████████████████████████| 1/1 [00:00<00:00, 73.73it/s]\n",
      "100%|█████████████████████████████████████████████| 1/1 [00:00<00:00, 12.30it/s]\n"
     ]
    },
    {
     "name": "stdout",
     "output_type": "stream",
     "text": [
      "I'm not in the place, I'll teleport somewhere else\n"
     ]
    },
    {
     "name": "stderr",
     "output_type": "stream",
     "text": [
      "100%|█████████████████████████████████████████████| 1/1 [00:00<00:00, 73.16it/s]\n",
      "100%|█████████████████████████████████████████████| 1/1 [00:00<00:00, 14.14it/s]\n"
     ]
    },
    {
     "name": "stdout",
     "output_type": "stream",
     "text": [
      "Close to the object, but i will rotate so we might find it.\n"
     ]
    },
    {
     "name": "stderr",
     "output_type": "stream",
     "text": [
      "100%|█████████████████████████████████████████████| 1/1 [00:00<00:00, 73.72it/s]\n",
      "100%|█████████████████████████████████████████████| 1/1 [00:00<00:00, 13.08it/s]\n",
      "100%|█████████████████████████████████████████████| 1/1 [00:00<00:00, 70.85it/s]\n",
      "100%|█████████████████████████████████████████████| 1/1 [00:00<00:00, 14.01it/s]\n",
      "100%|█████████████████████████████████████████████| 1/1 [00:00<00:00, 76.90it/s]\n",
      "100%|█████████████████████████████████████████████| 1/1 [00:00<00:00, 14.39it/s]\n",
      "100%|█████████████████████████████████████████████| 1/1 [00:00<00:00, 67.62it/s]\n",
      "100%|█████████████████████████████████████████████| 1/1 [00:00<00:00, 14.44it/s]\n"
     ]
    },
    {
     "name": "stdout",
     "output_type": "stream",
     "text": [
      "I'm not in the place, I'll teleport somewhere else\n"
     ]
    },
    {
     "name": "stderr",
     "output_type": "stream",
     "text": [
      "100%|█████████████████████████████████████████████| 1/1 [00:00<00:00, 71.86it/s]\n",
      "100%|█████████████████████████████████████████████| 1/1 [00:00<00:00, 14.05it/s]\n",
      "100%|█████████████████████████████████████████████| 1/1 [00:00<00:00, 74.45it/s]\n",
      "100%|█████████████████████████████████████████████| 1/1 [00:00<00:00, 12.93it/s]\n",
      "100%|█████████████████████████████████████████████| 1/1 [00:00<00:00, 74.36it/s]\n",
      "100%|█████████████████████████████████████████████| 1/1 [00:00<00:00, 14.20it/s]\n"
     ]
    },
    {
     "name": "stdout",
     "output_type": "stream",
     "text": [
      "I'm not in the place, I'll teleport somewhere else\n"
     ]
    },
    {
     "name": "stderr",
     "output_type": "stream",
     "text": [
      "100%|█████████████████████████████████████████████| 1/1 [00:00<00:00, 74.92it/s]\n",
      "100%|█████████████████████████████████████████████| 1/1 [00:00<00:00, 13.21it/s]\n"
     ]
    },
    {
     "name": "stdout",
     "output_type": "stream",
     "text": [
      "I'm not in the place, I'll teleport somewhere else\n"
     ]
    },
    {
     "name": "stderr",
     "output_type": "stream",
     "text": [
      "100%|█████████████████████████████████████████████| 1/1 [00:00<00:00, 75.07it/s]\n",
      "100%|█████████████████████████████████████████████| 1/1 [00:00<00:00, 13.31it/s]\n"
     ]
    },
    {
     "name": "stdout",
     "output_type": "stream",
     "text": [
      "I'm not in the place, I'll teleport somewhere else\n"
     ]
    },
    {
     "name": "stderr",
     "output_type": "stream",
     "text": [
      "100%|█████████████████████████████████████████████| 1/1 [00:00<00:00, 70.82it/s]\n",
      "100%|█████████████████████████████████████████████| 1/1 [00:00<00:00, 13.32it/s]\n",
      "100%|█████████████████████████████████████████████| 1/1 [00:00<00:00, 70.85it/s]\n",
      "100%|█████████████████████████████████████████████| 1/1 [00:00<00:00, 13.81it/s]\n"
     ]
    },
    {
     "name": "stdout",
     "output_type": "stream",
     "text": [
      "I'm not in the place, I'll teleport somewhere else\n"
     ]
    },
    {
     "name": "stderr",
     "output_type": "stream",
     "text": [
      "100%|█████████████████████████████████████████████| 1/1 [00:00<00:00, 69.43it/s]\n",
      "100%|█████████████████████████████████████████████| 1/1 [00:00<00:00, 12.82it/s]\n"
     ]
    },
    {
     "name": "stdout",
     "output_type": "stream",
     "text": [
      "I'm not in the place, I'll teleport somewhere else\n",
      "Did not find the place\n",
      "images/3.jpg :: next\n"
     ]
    },
    {
     "name": "stderr",
     "output_type": "stream",
     "text": [
      "100%|█████████████████████████████████████████████| 1/1 [00:00<00:00, 69.55it/s]\n",
      "100%|█████████████████████████████████████████████| 1/1 [00:00<00:00, 14.11it/s]\n",
      "100%|█████████████████████████████████████████████| 1/1 [00:00<00:00, 71.37it/s]\n",
      "100%|█████████████████████████████████████████████| 1/1 [00:00<00:00, 13.33it/s]\n",
      "100%|█████████████████████████████████████████████| 1/1 [00:00<00:00, 73.52it/s]\n",
      "100%|█████████████████████████████████████████████| 1/1 [00:00<00:00, 12.06it/s]\n",
      "100%|█████████████████████████████████████████████| 1/1 [00:00<00:00, 72.21it/s]\n",
      "100%|█████████████████████████████████████████████| 1/1 [00:00<00:00, 13.26it/s]\n",
      "100%|█████████████████████████████████████████████| 1/1 [00:00<00:00, 74.24it/s]\n",
      "100%|█████████████████████████████████████████████| 1/1 [00:00<00:00, 13.33it/s]\n",
      "100%|█████████████████████████████████████████████| 1/1 [00:00<00:00, 72.30it/s]\n",
      "100%|█████████████████████████████████████████████| 1/1 [00:00<00:00, 14.01it/s]\n",
      "100%|█████████████████████████████████████████████| 1/1 [00:00<00:00, 77.83it/s]\n",
      "100%|█████████████████████████████████████████████| 1/1 [00:00<00:00, 14.41it/s]\n",
      "100%|█████████████████████████████████████████████| 1/1 [00:00<00:00, 56.88it/s]\n",
      "100%|█████████████████████████████████████████████| 1/1 [00:00<00:00, 14.69it/s]\n",
      "100%|█████████████████████████████████████████████| 1/1 [00:00<00:00, 68.59it/s]\n",
      "100%|█████████████████████████████████████████████| 1/1 [00:00<00:00, 12.64it/s]\n",
      "100%|█████████████████████████████████████████████| 1/1 [00:00<00:00, 70.00it/s]\n",
      "100%|█████████████████████████████████████████████| 1/1 [00:00<00:00, 13.56it/s]\n",
      "100%|█████████████████████████████████████████████| 1/1 [00:00<00:00, 62.73it/s]\n",
      "100%|█████████████████████████████████████████████| 1/1 [00:00<00:00, 13.07it/s]\n",
      "100%|█████████████████████████████████████████████| 1/1 [00:00<00:00, 69.95it/s]\n",
      "100%|█████████████████████████████████████████████| 1/1 [00:00<00:00, 13.07it/s]\n",
      "100%|█████████████████████████████████████████████| 1/1 [00:00<00:00, 41.03it/s]\n",
      "100%|█████████████████████████████████████████████| 1/1 [00:00<00:00, 13.30it/s]\n",
      "100%|█████████████████████████████████████████████| 1/1 [00:00<00:00, 67.21it/s]\n",
      "100%|█████████████████████████████████████████████| 1/1 [00:00<00:00, 13.79it/s]\n",
      "100%|█████████████████████████████████████████████| 1/1 [00:00<00:00, 71.80it/s]\n",
      "100%|█████████████████████████████████████████████| 1/1 [00:00<00:00, 12.52it/s]\n",
      "100%|█████████████████████████████████████████████| 1/1 [00:00<00:00, 66.98it/s]\n",
      "100%|█████████████████████████████████████████████| 1/1 [00:00<00:00, 12.55it/s]\n"
     ]
    },
    {
     "name": "stdout",
     "output_type": "stream",
     "text": [
      "Did not find the place\n",
      "images/4.jpg :: next\n"
     ]
    },
    {
     "name": "stderr",
     "output_type": "stream",
     "text": [
      "100%|█████████████████████████████████████████████| 1/1 [00:00<00:00, 71.83it/s]\n",
      "100%|█████████████████████████████████████████████| 1/1 [00:00<00:00, 13.41it/s]\n",
      "100%|█████████████████████████████████████████████| 1/1 [00:00<00:00, 69.84it/s]\n",
      "100%|█████████████████████████████████████████████| 1/1 [00:00<00:00, 13.27it/s]\n"
     ]
    },
    {
     "name": "stdout",
     "output_type": "stream",
     "text": [
      "I'm not in the place, I'll teleport somewhere else\n"
     ]
    },
    {
     "name": "stderr",
     "output_type": "stream",
     "text": [
      "100%|█████████████████████████████████████████████| 1/1 [00:00<00:00, 69.41it/s]\n",
      "100%|█████████████████████████████████████████████| 1/1 [00:00<00:00, 11.68it/s]\n",
      "100%|█████████████████████████████████████████████| 1/1 [00:00<00:00, 69.90it/s]\n",
      "100%|█████████████████████████████████████████████| 1/1 [00:00<00:00, 11.56it/s]\n",
      "100%|█████████████████████████████████████████████| 1/1 [00:00<00:00, 70.10it/s]\n",
      "100%|█████████████████████████████████████████████| 1/1 [00:00<00:00, 12.70it/s]\n"
     ]
    },
    {
     "name": "stdout",
     "output_type": "stream",
     "text": [
      "I'm not in the place, I'll teleport somewhere else\n"
     ]
    },
    {
     "name": "stderr",
     "output_type": "stream",
     "text": [
      "100%|█████████████████████████████████████████████| 1/1 [00:00<00:00, 73.12it/s]\n",
      "100%|█████████████████████████████████████████████| 1/1 [00:00<00:00, 13.10it/s]\n",
      "100%|█████████████████████████████████████████████| 1/1 [00:00<00:00, 70.62it/s]\n",
      "100%|█████████████████████████████████████████████| 1/1 [00:00<00:00, 12.48it/s]\n"
     ]
    },
    {
     "name": "stdout",
     "output_type": "stream",
     "text": [
      "I'm not in the place, I'll teleport somewhere else\n"
     ]
    },
    {
     "name": "stderr",
     "output_type": "stream",
     "text": [
      "100%|█████████████████████████████████████████████| 1/1 [00:00<00:00, 71.98it/s]\n",
      "100%|█████████████████████████████████████████████| 1/1 [00:00<00:00, 12.80it/s]\n"
     ]
    },
    {
     "name": "stdout",
     "output_type": "stream",
     "text": [
      "I'm not in the place, I'll teleport somewhere else\n"
     ]
    },
    {
     "name": "stderr",
     "output_type": "stream",
     "text": [
      "100%|█████████████████████████████████████████████| 1/1 [00:00<00:00, 72.31it/s]\n",
      "100%|█████████████████████████████████████████████| 1/1 [00:00<00:00, 13.03it/s]\n",
      "100%|█████████████████████████████████████████████| 1/1 [00:00<00:00, 70.16it/s]\n",
      "100%|█████████████████████████████████████████████| 1/1 [00:00<00:00, 12.65it/s]\n",
      "100%|█████████████████████████████████████████████| 1/1 [00:00<00:00, 68.26it/s]\n",
      "100%|█████████████████████████████████████████████| 1/1 [00:00<00:00, 12.92it/s]\n"
     ]
    },
    {
     "name": "stdout",
     "output_type": "stream",
     "text": [
      "I'm not in the place, I'll teleport somewhere else\n"
     ]
    },
    {
     "name": "stderr",
     "output_type": "stream",
     "text": [
      "100%|█████████████████████████████████████████████| 1/1 [00:00<00:00, 70.20it/s]\n",
      "100%|█████████████████████████████████████████████| 1/1 [00:00<00:00, 13.00it/s]\n",
      "100%|█████████████████████████████████████████████| 1/1 [00:00<00:00, 71.11it/s]\n",
      "100%|█████████████████████████████████████████████| 1/1 [00:00<00:00, 12.46it/s]\n"
     ]
    },
    {
     "name": "stdout",
     "output_type": "stream",
     "text": [
      "Close to the object, but i will rotate so we might find it.\n"
     ]
    },
    {
     "name": "stderr",
     "output_type": "stream",
     "text": [
      "100%|█████████████████████████████████████████████| 1/1 [00:00<00:00, 69.70it/s]\n",
      "100%|█████████████████████████████████████████████| 1/1 [00:00<00:00, 13.24it/s]\n",
      "100%|█████████████████████████████████████████████| 1/1 [00:00<00:00, 75.00it/s]\n",
      "100%|█████████████████████████████████████████████| 1/1 [00:00<00:00, 13.25it/s]\n"
     ]
    },
    {
     "name": "stdout",
     "output_type": "stream",
     "text": [
      "I'm not in the place, I'll teleport somewhere else\n"
     ]
    },
    {
     "name": "stderr",
     "output_type": "stream",
     "text": [
      "100%|█████████████████████████████████████████████| 1/1 [00:00<00:00, 72.48it/s]\n",
      "100%|█████████████████████████████████████████████| 1/1 [00:00<00:00, 13.75it/s]\n"
     ]
    },
    {
     "name": "stdout",
     "output_type": "stream",
     "text": [
      "Did not find the place\n",
      "images/5.jpg :: next\n"
     ]
    },
    {
     "name": "stderr",
     "output_type": "stream",
     "text": [
      "100%|█████████████████████████████████████████████| 1/1 [00:00<00:00, 74.19it/s]\n",
      "100%|█████████████████████████████████████████████| 1/1 [00:00<00:00, 13.20it/s]\n",
      "100%|█████████████████████████████████████████████| 1/1 [00:00<00:00, 73.15it/s]\n",
      "100%|█████████████████████████████████████████████| 1/1 [00:00<00:00, 12.99it/s]\n",
      "100%|█████████████████████████████████████████████| 1/1 [00:00<00:00, 69.71it/s]\n",
      "100%|█████████████████████████████████████████████| 1/1 [00:00<00:00, 13.41it/s]\n",
      "100%|█████████████████████████████████████████████| 1/1 [00:00<00:00, 74.19it/s]\n",
      "100%|█████████████████████████████████████████████| 1/1 [00:00<00:00, 13.39it/s]\n",
      "100%|█████████████████████████████████████████████| 1/1 [00:00<00:00, 69.47it/s]\n",
      "100%|█████████████████████████████████████████████| 1/1 [00:00<00:00, 13.30it/s]\n",
      "100%|█████████████████████████████████████████████| 1/1 [00:00<00:00, 75.48it/s]\n",
      "100%|█████████████████████████████████████████████| 1/1 [00:00<00:00, 12.96it/s]\n",
      "100%|█████████████████████████████████████████████| 1/1 [00:00<00:00, 71.04it/s]\n",
      "100%|█████████████████████████████████████████████| 1/1 [00:00<00:00, 11.89it/s]\n",
      "100%|█████████████████████████████████████████████| 1/1 [00:00<00:00, 73.83it/s]\n",
      "100%|█████████████████████████████████████████████| 1/1 [00:00<00:00, 13.16it/s]\n",
      "100%|█████████████████████████████████████████████| 1/1 [00:00<00:00, 70.52it/s]\n",
      "100%|█████████████████████████████████████████████| 1/1 [00:00<00:00, 13.05it/s]\n",
      "100%|█████████████████████████████████████████████| 1/1 [00:00<00:00, 66.69it/s]\n",
      "100%|█████████████████████████████████████████████| 1/1 [00:00<00:00, 13.01it/s]\n",
      "100%|█████████████████████████████████████████████| 1/1 [00:00<00:00, 69.64it/s]\n",
      "100%|█████████████████████████████████████████████| 1/1 [00:00<00:00, 12.73it/s]\n",
      "100%|█████████████████████████████████████████████| 1/1 [00:00<00:00, 69.89it/s]\n",
      "100%|█████████████████████████████████████████████| 1/1 [00:00<00:00, 13.17it/s]\n",
      "100%|█████████████████████████████████████████████| 1/1 [00:00<00:00, 68.39it/s]\n",
      "100%|█████████████████████████████████████████████| 1/1 [00:00<00:00, 11.98it/s]\n",
      "100%|█████████████████████████████████████████████| 1/1 [00:00<00:00, 70.20it/s]\n",
      "100%|█████████████████████████████████████████████| 1/1 [00:00<00:00, 11.35it/s]\n",
      "100%|█████████████████████████████████████████████| 1/1 [00:00<00:00, 69.63it/s]\n",
      "100%|█████████████████████████████████████████████| 1/1 [00:00<00:00, 13.32it/s]\n",
      "100%|█████████████████████████████████████████████| 1/1 [00:00<00:00, 70.95it/s]\n",
      "100%|█████████████████████████████████████████████| 1/1 [00:00<00:00, 13.47it/s]\n"
     ]
    },
    {
     "name": "stdout",
     "output_type": "stream",
     "text": [
      "Did not find the place\n",
      "images/6.jpg :: next\n"
     ]
    },
    {
     "name": "stderr",
     "output_type": "stream",
     "text": [
      "100%|█████████████████████████████████████████████| 1/1 [00:00<00:00, 68.82it/s]\n",
      "100%|█████████████████████████████████████████████| 1/1 [00:00<00:00, 13.00it/s]\n",
      "100%|█████████████████████████████████████████████| 1/1 [00:00<00:00, 45.68it/s]\n",
      "100%|█████████████████████████████████████████████| 1/1 [00:00<00:00, 12.59it/s]\n",
      "100%|█████████████████████████████████████████████| 1/1 [00:00<00:00, 69.56it/s]\n",
      "100%|█████████████████████████████████████████████| 1/1 [00:00<00:00, 13.50it/s]\n"
     ]
    },
    {
     "name": "stdout",
     "output_type": "stream",
     "text": [
      "I'm not in the place, I'll teleport somewhere else\n"
     ]
    },
    {
     "name": "stderr",
     "output_type": "stream",
     "text": [
      "100%|█████████████████████████████████████████████| 1/1 [00:00<00:00, 69.40it/s]\n",
      "100%|█████████████████████████████████████████████| 1/1 [00:00<00:00, 13.70it/s]\n"
     ]
    },
    {
     "name": "stdout",
     "output_type": "stream",
     "text": [
      "I'm not in the place, I'll teleport somewhere else\n"
     ]
    },
    {
     "name": "stderr",
     "output_type": "stream",
     "text": [
      "100%|█████████████████████████████████████████████| 1/1 [00:00<00:00, 61.51it/s]\n",
      "100%|█████████████████████████████████████████████| 1/1 [00:00<00:00, 12.42it/s]\n",
      "100%|█████████████████████████████████████████████| 1/1 [00:00<00:00, 74.29it/s]\n",
      "100%|█████████████████████████████████████████████| 1/1 [00:00<00:00, 12.53it/s]\n"
     ]
    },
    {
     "name": "stdout",
     "output_type": "stream",
     "text": [
      "I'm not in the place, I'll teleport somewhere else\n"
     ]
    },
    {
     "name": "stderr",
     "output_type": "stream",
     "text": [
      "100%|█████████████████████████████████████████████| 1/1 [00:00<00:00, 74.38it/s]\n",
      "100%|█████████████████████████████████████████████| 1/1 [00:00<00:00, 12.93it/s]\n"
     ]
    },
    {
     "name": "stdout",
     "output_type": "stream",
     "text": [
      "I'm not in the place, I'll teleport somewhere else\n"
     ]
    },
    {
     "name": "stderr",
     "output_type": "stream",
     "text": [
      "100%|█████████████████████████████████████████████| 1/1 [00:00<00:00, 68.75it/s]\n",
      "100%|█████████████████████████████████████████████| 1/1 [00:00<00:00, 13.11it/s]\n",
      "100%|█████████████████████████████████████████████| 1/1 [00:00<00:00, 71.37it/s]\n",
      "100%|█████████████████████████████████████████████| 1/1 [00:00<00:00, 12.90it/s]\n",
      "100%|█████████████████████████████████████████████| 1/1 [00:00<00:00, 66.37it/s]\n",
      "100%|█████████████████████████████████████████████| 1/1 [00:00<00:00, 12.18it/s]\n"
     ]
    },
    {
     "name": "stdout",
     "output_type": "stream",
     "text": [
      "I'm not in the place, I'll teleport somewhere else\n"
     ]
    },
    {
     "name": "stderr",
     "output_type": "stream",
     "text": [
      "100%|█████████████████████████████████████████████| 1/1 [00:00<00:00, 70.15it/s]\n",
      "100%|█████████████████████████████████████████████| 1/1 [00:00<00:00, 12.59it/s]\n"
     ]
    },
    {
     "name": "stdout",
     "output_type": "stream",
     "text": [
      "I'm not in the place, I'll teleport somewhere else\n"
     ]
    },
    {
     "name": "stderr",
     "output_type": "stream",
     "text": [
      "100%|█████████████████████████████████████████████| 1/1 [00:00<00:00, 37.82it/s]\n",
      "100%|█████████████████████████████████████████████| 1/1 [00:00<00:00, 13.14it/s]\n"
     ]
    },
    {
     "name": "stdout",
     "output_type": "stream",
     "text": [
      "I'm not in the place, I'll teleport somewhere else\n"
     ]
    },
    {
     "name": "stderr",
     "output_type": "stream",
     "text": [
      "100%|█████████████████████████████████████████████| 1/1 [00:00<00:00, 74.29it/s]\n",
      "100%|█████████████████████████████████████████████| 1/1 [00:00<00:00, 13.52it/s]\n"
     ]
    },
    {
     "name": "stdout",
     "output_type": "stream",
     "text": [
      "I'm not in the place, I'll teleport somewhere else\n"
     ]
    },
    {
     "name": "stderr",
     "output_type": "stream",
     "text": [
      "100%|█████████████████████████████████████████████| 1/1 [00:00<00:00, 72.75it/s]\n",
      "100%|█████████████████████████████████████████████| 1/1 [00:00<00:00, 13.39it/s]\n"
     ]
    },
    {
     "name": "stdout",
     "output_type": "stream",
     "text": [
      "I'm not in the place, I'll teleport somewhere else\n"
     ]
    },
    {
     "name": "stderr",
     "output_type": "stream",
     "text": [
      "100%|█████████████████████████████████████████████| 1/1 [00:00<00:00, 70.34it/s]\n",
      "100%|█████████████████████████████████████████████| 1/1 [00:00<00:00, 12.57it/s]\n"
     ]
    },
    {
     "name": "stdout",
     "output_type": "stream",
     "text": [
      "I'm not in the place, I'll teleport somewhere else\n"
     ]
    },
    {
     "name": "stderr",
     "output_type": "stream",
     "text": [
      "100%|█████████████████████████████████████████████| 1/1 [00:00<00:00, 74.70it/s]\n",
      "100%|█████████████████████████████████████████████| 1/1 [00:00<00:00, 13.28it/s]\n"
     ]
    },
    {
     "name": "stdout",
     "output_type": "stream",
     "text": [
      "Did not find the place\n",
      "images/7.jpg :: next\n"
     ]
    },
    {
     "name": "stderr",
     "output_type": "stream",
     "text": [
      "100%|█████████████████████████████████████████████| 1/1 [00:00<00:00, 75.85it/s]\n",
      "100%|█████████████████████████████████████████████| 1/1 [00:00<00:00, 12.64it/s]\n",
      "100%|█████████████████████████████████████████████| 1/1 [00:00<00:00, 70.06it/s]\n",
      "100%|█████████████████████████████████████████████| 1/1 [00:00<00:00, 13.33it/s]\n",
      "100%|█████████████████████████████████████████████| 1/1 [00:00<00:00, 72.77it/s]\n",
      "100%|█████████████████████████████████████████████| 1/1 [00:00<00:00, 12.56it/s]\n",
      "100%|█████████████████████████████████████████████| 1/1 [00:00<00:00, 74.16it/s]\n",
      "100%|█████████████████████████████████████████████| 1/1 [00:00<00:00, 12.59it/s]\n"
     ]
    },
    {
     "name": "stdout",
     "output_type": "stream",
     "text": [
      "I'm not in the place, I'll teleport somewhere else\n"
     ]
    },
    {
     "name": "stderr",
     "output_type": "stream",
     "text": [
      "100%|█████████████████████████████████████████████| 1/1 [00:00<00:00, 71.18it/s]\n",
      "100%|█████████████████████████████████████████████| 1/1 [00:00<00:00, 12.11it/s]\n",
      "100%|█████████████████████████████████████████████| 1/1 [00:00<00:00, 67.63it/s]\n",
      "100%|█████████████████████████████████████████████| 1/1 [00:00<00:00, 12.99it/s]\n"
     ]
    },
    {
     "name": "stdout",
     "output_type": "stream",
     "text": [
      "I'm not in the place, I'll teleport somewhere else\n"
     ]
    },
    {
     "name": "stderr",
     "output_type": "stream",
     "text": [
      "100%|█████████████████████████████████████████████| 1/1 [00:00<00:00, 68.39it/s]\n",
      "100%|█████████████████████████████████████████████| 1/1 [00:00<00:00, 13.05it/s]\n"
     ]
    },
    {
     "name": "stdout",
     "output_type": "stream",
     "text": [
      "I'm not in the place, I'll teleport somewhere else\n"
     ]
    },
    {
     "name": "stderr",
     "output_type": "stream",
     "text": [
      "100%|█████████████████████████████████████████████| 1/1 [00:00<00:00, 70.63it/s]\n",
      "100%|█████████████████████████████████████████████| 1/1 [00:00<00:00, 13.16it/s]\n"
     ]
    },
    {
     "name": "stdout",
     "output_type": "stream",
     "text": [
      "I'm not in the place, I'll teleport somewhere else\n"
     ]
    },
    {
     "name": "stderr",
     "output_type": "stream",
     "text": [
      "100%|█████████████████████████████████████████████| 1/1 [00:00<00:00, 69.10it/s]\n",
      "100%|█████████████████████████████████████████████| 1/1 [00:00<00:00, 13.56it/s]\n"
     ]
    },
    {
     "name": "stdout",
     "output_type": "stream",
     "text": [
      "I'm not in the place, I'll teleport somewhere else\n"
     ]
    },
    {
     "name": "stderr",
     "output_type": "stream",
     "text": [
      "100%|█████████████████████████████████████████████| 1/1 [00:00<00:00, 68.39it/s]\n",
      "100%|█████████████████████████████████████████████| 1/1 [00:00<00:00, 13.12it/s]\n"
     ]
    },
    {
     "name": "stdout",
     "output_type": "stream",
     "text": [
      "I'm not in the place, I'll teleport somewhere else\n"
     ]
    },
    {
     "name": "stderr",
     "output_type": "stream",
     "text": [
      "100%|█████████████████████████████████████████████| 1/1 [00:00<00:00, 67.36it/s]\n",
      "100%|█████████████████████████████████████████████| 1/1 [00:00<00:00, 12.42it/s]\n"
     ]
    },
    {
     "name": "stdout",
     "output_type": "stream",
     "text": [
      "I'm not in the place, I'll teleport somewhere else\n"
     ]
    },
    {
     "name": "stderr",
     "output_type": "stream",
     "text": [
      "100%|█████████████████████████████████████████████| 1/1 [00:00<00:00, 71.62it/s]\n",
      "100%|█████████████████████████████████████████████| 1/1 [00:00<00:00, 12.78it/s]\n",
      "100%|█████████████████████████████████████████████| 1/1 [00:00<00:00, 72.11it/s]\n",
      "100%|█████████████████████████████████████████████| 1/1 [00:00<00:00, 13.57it/s]\n",
      "100%|█████████████████████████████████████████████| 1/1 [00:00<00:00, 69.87it/s]\n",
      "100%|█████████████████████████████████████████████| 1/1 [00:00<00:00, 11.99it/s]\n"
     ]
    },
    {
     "name": "stdout",
     "output_type": "stream",
     "text": [
      "I'm not in the place, I'll teleport somewhere else\n"
     ]
    },
    {
     "name": "stderr",
     "output_type": "stream",
     "text": [
      "100%|█████████████████████████████████████████████| 1/1 [00:00<00:00, 69.69it/s]\n",
      "100%|█████████████████████████████████████████████| 1/1 [00:00<00:00, 13.25it/s]\n"
     ]
    },
    {
     "name": "stdout",
     "output_type": "stream",
     "text": [
      "I'm not in the place, I'll teleport somewhere else\n"
     ]
    },
    {
     "name": "stderr",
     "output_type": "stream",
     "text": [
      "100%|█████████████████████████████████████████████| 1/1 [00:00<00:00, 69.09it/s]\n",
      "100%|█████████████████████████████████████████████| 1/1 [00:00<00:00, 14.51it/s]\n"
     ]
    },
    {
     "name": "stdout",
     "output_type": "stream",
     "text": [
      "I'm not in the place, I'll teleport somewhere else\n",
      "Did not find the place\n",
      "images/8.jpg :: next\n"
     ]
    },
    {
     "name": "stderr",
     "output_type": "stream",
     "text": [
      "100%|█████████████████████████████████████████████| 1/1 [00:00<00:00, 74.73it/s]\n",
      "100%|█████████████████████████████████████████████| 1/1 [00:00<00:00, 11.89it/s]\n",
      "100%|█████████████████████████████████████████████| 1/1 [00:00<00:00, 68.49it/s]\n",
      "100%|█████████████████████████████████████████████| 1/1 [00:00<00:00, 13.26it/s]\n",
      "100%|█████████████████████████████████████████████| 1/1 [00:00<00:00, 67.19it/s]\n",
      "100%|█████████████████████████████████████████████| 1/1 [00:00<00:00, 11.97it/s]\n",
      "100%|█████████████████████████████████████████████| 1/1 [00:00<00:00, 67.74it/s]\n",
      "100%|█████████████████████████████████████████████| 1/1 [00:00<00:00, 12.95it/s]\n",
      "100%|█████████████████████████████████████████████| 1/1 [00:00<00:00, 67.52it/s]\n",
      "100%|█████████████████████████████████████████████| 1/1 [00:00<00:00, 13.96it/s]\n",
      "100%|█████████████████████████████████████████████| 1/1 [00:00<00:00, 64.55it/s]\n",
      "100%|█████████████████████████████████████████████| 1/1 [00:00<00:00, 13.84it/s]\n",
      "100%|█████████████████████████████████████████████| 1/1 [00:00<00:00, 68.40it/s]\n",
      "100%|█████████████████████████████████████████████| 1/1 [00:00<00:00, 13.41it/s]\n"
     ]
    },
    {
     "name": "stdout",
     "output_type": "stream",
     "text": [
      "Cosine Similarity Score: 0.9671649\n",
      "I'm in the place\n",
      "Results saved in DataFrame.\n",
      "images/9.jpg :: next\n"
     ]
    },
    {
     "name": "stderr",
     "output_type": "stream",
     "text": [
      "100%|█████████████████████████████████████████████| 1/1 [00:00<00:00, 66.46it/s]\n",
      "100%|█████████████████████████████████████████████| 1/1 [00:00<00:00, 13.89it/s]\n",
      "100%|█████████████████████████████████████████████| 1/1 [00:00<00:00, 67.65it/s]\n",
      "100%|█████████████████████████████████████████████| 1/1 [00:00<00:00, 12.67it/s]\n",
      "100%|█████████████████████████████████████████████| 1/1 [00:00<00:00, 67.66it/s]\n",
      "100%|█████████████████████████████████████████████| 1/1 [00:00<00:00, 13.49it/s]\n"
     ]
    },
    {
     "name": "stdout",
     "output_type": "stream",
     "text": [
      "I'm not in the place, I'll teleport somewhere else\n"
     ]
    },
    {
     "name": "stderr",
     "output_type": "stream",
     "text": [
      "100%|█████████████████████████████████████████████| 1/1 [00:00<00:00, 72.25it/s]\n",
      "100%|█████████████████████████████████████████████| 1/1 [00:00<00:00, 12.51it/s]\n",
      "100%|█████████████████████████████████████████████| 1/1 [00:00<00:00, 71.28it/s]\n",
      "100%|█████████████████████████████████████████████| 1/1 [00:00<00:00, 13.91it/s]\n"
     ]
    },
    {
     "name": "stdout",
     "output_type": "stream",
     "text": [
      "I'm not in the place, I'll teleport somewhere else\n"
     ]
    },
    {
     "name": "stderr",
     "output_type": "stream",
     "text": [
      "100%|█████████████████████████████████████████████| 1/1 [00:00<00:00, 37.90it/s]\n",
      "100%|█████████████████████████████████████████████| 1/1 [00:00<00:00, 14.11it/s]\n",
      "100%|█████████████████████████████████████████████| 1/1 [00:00<00:00, 71.05it/s]\n",
      "100%|█████████████████████████████████████████████| 1/1 [00:00<00:00, 12.80it/s]\n"
     ]
    },
    {
     "name": "stdout",
     "output_type": "stream",
     "text": [
      "Close to the object, but i will rotate so we might find it.\n"
     ]
    },
    {
     "name": "stderr",
     "output_type": "stream",
     "text": [
      "100%|█████████████████████████████████████████████| 1/1 [00:00<00:00, 61.12it/s]\n",
      "100%|█████████████████████████████████████████████| 1/1 [00:00<00:00, 13.51it/s]\n"
     ]
    },
    {
     "name": "stdout",
     "output_type": "stream",
     "text": [
      "I'm not in the place, I'll teleport somewhere else\n"
     ]
    },
    {
     "name": "stderr",
     "output_type": "stream",
     "text": [
      "100%|█████████████████████████████████████████████| 1/1 [00:00<00:00, 73.03it/s]\n",
      "100%|█████████████████████████████████████████████| 1/1 [00:00<00:00, 13.62it/s]\n"
     ]
    },
    {
     "name": "stdout",
     "output_type": "stream",
     "text": [
      "I'm not in the place, I'll teleport somewhere else\n"
     ]
    },
    {
     "name": "stderr",
     "output_type": "stream",
     "text": [
      "100%|█████████████████████████████████████████████| 1/1 [00:00<00:00, 69.19it/s]\n",
      "100%|█████████████████████████████████████████████| 1/1 [00:00<00:00, 12.70it/s]\n"
     ]
    },
    {
     "name": "stdout",
     "output_type": "stream",
     "text": [
      "I'm not in the place, I'll teleport somewhere else\n"
     ]
    },
    {
     "name": "stderr",
     "output_type": "stream",
     "text": [
      "100%|█████████████████████████████████████████████| 1/1 [00:00<00:00, 70.47it/s]\n",
      "100%|█████████████████████████████████████████████| 1/1 [00:00<00:00, 13.19it/s]\n"
     ]
    },
    {
     "name": "stdout",
     "output_type": "stream",
     "text": [
      "I'm not in the place, I'll teleport somewhere else\n"
     ]
    },
    {
     "name": "stderr",
     "output_type": "stream",
     "text": [
      "100%|█████████████████████████████████████████████| 1/1 [00:00<00:00, 69.99it/s]\n",
      "100%|█████████████████████████████████████████████| 1/1 [00:00<00:00, 13.97it/s]\n",
      "100%|█████████████████████████████████████████████| 1/1 [00:00<00:00, 70.36it/s]\n",
      "100%|█████████████████████████████████████████████| 1/1 [00:00<00:00, 13.15it/s]\n"
     ]
    },
    {
     "name": "stdout",
     "output_type": "stream",
     "text": [
      "I'm not in the place, I'll teleport somewhere else\n"
     ]
    },
    {
     "name": "stderr",
     "output_type": "stream",
     "text": [
      "100%|█████████████████████████████████████████████| 1/1 [00:00<00:00, 70.87it/s]\n",
      "100%|█████████████████████████████████████████████| 1/1 [00:00<00:00, 12.73it/s]\n"
     ]
    },
    {
     "name": "stdout",
     "output_type": "stream",
     "text": [
      "I'm not in the place, I'll teleport somewhere else\n"
     ]
    },
    {
     "name": "stderr",
     "output_type": "stream",
     "text": [
      "100%|█████████████████████████████████████████████| 1/1 [00:00<00:00, 73.21it/s]\n",
      "100%|█████████████████████████████████████████████| 1/1 [00:00<00:00, 13.89it/s]\n",
      "100%|█████████████████████████████████████████████| 1/1 [00:00<00:00, 68.44it/s]\n",
      "100%|█████████████████████████████████████████████| 1/1 [00:00<00:00, 11.86it/s]\n"
     ]
    },
    {
     "name": "stdout",
     "output_type": "stream",
     "text": [
      "I'm not in the place, I'll teleport somewhere else\n",
      "Did not find the place\n",
      "images/10.jpg :: next\n"
     ]
    },
    {
     "name": "stderr",
     "output_type": "stream",
     "text": [
      "100%|█████████████████████████████████████████████| 1/1 [00:00<00:00, 74.19it/s]\n",
      "100%|█████████████████████████████████████████████| 1/1 [00:00<00:00, 13.66it/s]\n",
      "100%|█████████████████████████████████████████████| 1/1 [00:00<00:00, 67.91it/s]\n",
      "100%|█████████████████████████████████████████████| 1/1 [00:00<00:00, 12.11it/s]\n",
      "100%|█████████████████████████████████████████████| 1/1 [00:00<00:00, 73.40it/s]\n",
      "100%|█████████████████████████████████████████████| 1/1 [00:00<00:00, 13.55it/s]\n",
      "100%|█████████████████████████████████████████████| 1/1 [00:00<00:00, 72.11it/s]\n",
      "100%|█████████████████████████████████████████████| 1/1 [00:00<00:00, 13.57it/s]\n",
      "100%|█████████████████████████████████████████████| 1/1 [00:00<00:00, 67.31it/s]\n",
      "100%|█████████████████████████████████████████████| 1/1 [00:00<00:00, 13.19it/s]\n",
      "100%|█████████████████████████████████████████████| 1/1 [00:00<00:00, 65.96it/s]\n",
      "100%|█████████████████████████████████████████████| 1/1 [00:00<00:00, 11.58it/s]\n",
      "100%|█████████████████████████████████████████████| 1/1 [00:00<00:00, 64.92it/s]\n",
      "100%|█████████████████████████████████████████████| 1/1 [00:00<00:00, 13.64it/s]\n",
      "100%|█████████████████████████████████████████████| 1/1 [00:00<00:00, 70.43it/s]\n",
      "100%|█████████████████████████████████████████████| 1/1 [00:00<00:00, 14.01it/s]\n",
      "100%|█████████████████████████████████████████████| 1/1 [00:00<00:00, 70.26it/s]\n",
      "100%|█████████████████████████████████████████████| 1/1 [00:00<00:00, 13.49it/s]\n"
     ]
    },
    {
     "name": "stdout",
     "output_type": "stream",
     "text": [
      "Cosine Similarity Score: 0.94512445\n",
      "I'm in the place\n",
      "Results saved in DataFrame.\n",
      "images/11.jpg :: next\n"
     ]
    },
    {
     "name": "stderr",
     "output_type": "stream",
     "text": [
      "100%|█████████████████████████████████████████████| 1/1 [00:00<00:00, 72.83it/s]\n",
      "100%|█████████████████████████████████████████████| 1/1 [00:00<00:00, 13.46it/s]\n",
      "100%|█████████████████████████████████████████████| 1/1 [00:00<00:00, 73.42it/s]\n",
      "100%|█████████████████████████████████████████████| 1/1 [00:00<00:00, 12.83it/s]\n",
      "100%|█████████████████████████████████████████████| 1/1 [00:00<00:00, 68.96it/s]\n",
      "100%|█████████████████████████████████████████████| 1/1 [00:00<00:00, 14.18it/s]\n"
     ]
    },
    {
     "name": "stdout",
     "output_type": "stream",
     "text": [
      "Close to the object, but i will rotate so we might find it.\n"
     ]
    },
    {
     "name": "stderr",
     "output_type": "stream",
     "text": [
      "100%|█████████████████████████████████████████████| 1/1 [00:00<00:00, 65.15it/s]\n",
      "100%|█████████████████████████████████████████████| 1/1 [00:00<00:00, 13.96it/s]\n"
     ]
    },
    {
     "name": "stdout",
     "output_type": "stream",
     "text": [
      "I'm not in the place, I'll teleport somewhere else\n"
     ]
    },
    {
     "name": "stderr",
     "output_type": "stream",
     "text": [
      "100%|█████████████████████████████████████████████| 1/1 [00:00<00:00, 73.27it/s]\n",
      "100%|█████████████████████████████████████████████| 1/1 [00:00<00:00, 13.30it/s]\n"
     ]
    },
    {
     "name": "stdout",
     "output_type": "stream",
     "text": [
      "Close to the object, but i will rotate so we might find it.\n"
     ]
    },
    {
     "name": "stderr",
     "output_type": "stream",
     "text": [
      "100%|█████████████████████████████████████████████| 1/1 [00:00<00:00, 64.94it/s]\n",
      "100%|█████████████████████████████████████████████| 1/1 [00:00<00:00, 12.20it/s]\n"
     ]
    },
    {
     "name": "stdout",
     "output_type": "stream",
     "text": [
      "I'm not in the place, I'll teleport somewhere else\n"
     ]
    },
    {
     "name": "stderr",
     "output_type": "stream",
     "text": [
      "100%|█████████████████████████████████████████████| 1/1 [00:00<00:00, 68.88it/s]\n",
      "100%|█████████████████████████████████████████████| 1/1 [00:00<00:00, 13.29it/s]\n",
      "100%|█████████████████████████████████████████████| 1/1 [00:00<00:00, 69.65it/s]\n",
      "100%|█████████████████████████████████████████████| 1/1 [00:00<00:00, 12.64it/s]\n"
     ]
    },
    {
     "name": "stdout",
     "output_type": "stream",
     "text": [
      "Close to the object, but i will rotate so we might find it.\n"
     ]
    },
    {
     "name": "stderr",
     "output_type": "stream",
     "text": [
      "100%|█████████████████████████████████████████████| 1/1 [00:00<00:00, 66.35it/s]\n",
      "100%|█████████████████████████████████████████████| 1/1 [00:00<00:00, 13.78it/s]\n",
      "100%|█████████████████████████████████████████████| 1/1 [00:00<00:00, 72.31it/s]\n",
      "100%|█████████████████████████████████████████████| 1/1 [00:00<00:00, 12.63it/s]\n"
     ]
    },
    {
     "name": "stdout",
     "output_type": "stream",
     "text": [
      "Close to the object, but i will rotate so we might find it.\n"
     ]
    },
    {
     "name": "stderr",
     "output_type": "stream",
     "text": [
      "100%|█████████████████████████████████████████████| 1/1 [00:00<00:00, 70.74it/s]\n",
      "100%|█████████████████████████████████████████████| 1/1 [00:00<00:00, 13.37it/s]\n"
     ]
    },
    {
     "name": "stdout",
     "output_type": "stream",
     "text": [
      "I'm not in the place, I'll teleport somewhere else\n"
     ]
    },
    {
     "name": "stderr",
     "output_type": "stream",
     "text": [
      "100%|█████████████████████████████████████████████| 1/1 [00:00<00:00, 38.30it/s]\n",
      "100%|█████████████████████████████████████████████| 1/1 [00:00<00:00, 13.80it/s]\n",
      "100%|█████████████████████████████████████████████| 1/1 [00:00<00:00, 69.25it/s]\n",
      "100%|█████████████████████████████████████████████| 1/1 [00:00<00:00, 14.46it/s]\n"
     ]
    },
    {
     "name": "stdout",
     "output_type": "stream",
     "text": [
      "I'm not in the place, I'll teleport somewhere else\n"
     ]
    },
    {
     "name": "stderr",
     "output_type": "stream",
     "text": [
      "100%|█████████████████████████████████████████████| 1/1 [00:00<00:00, 72.62it/s]\n",
      "100%|█████████████████████████████████████████████| 1/1 [00:00<00:00, 13.48it/s]\n",
      "100%|█████████████████████████████████████████████| 1/1 [00:00<00:00, 70.27it/s]\n",
      "100%|█████████████████████████████████████████████| 1/1 [00:00<00:00, 12.38it/s]\n",
      "100%|█████████████████████████████████████████████| 1/1 [00:00<00:00, 70.22it/s]\n",
      "100%|█████████████████████████████████████████████| 1/1 [00:00<00:00, 12.11it/s]\n"
     ]
    },
    {
     "name": "stdout",
     "output_type": "stream",
     "text": [
      "I'm not in the place, I'll teleport somewhere else\n",
      "Did not find the place\n",
      "images/12.jpg :: next\n"
     ]
    },
    {
     "name": "stderr",
     "output_type": "stream",
     "text": [
      "100%|█████████████████████████████████████████████| 1/1 [00:00<00:00, 72.49it/s]\n",
      "100%|█████████████████████████████████████████████| 1/1 [00:00<00:00, 13.16it/s]\n",
      "100%|█████████████████████████████████████████████| 1/1 [00:00<00:00, 72.35it/s]\n",
      "100%|█████████████████████████████████████████████| 1/1 [00:00<00:00, 12.14it/s]\n"
     ]
    },
    {
     "name": "stdout",
     "output_type": "stream",
     "text": [
      "I'm not in the place, I'll teleport somewhere else\n"
     ]
    },
    {
     "name": "stderr",
     "output_type": "stream",
     "text": [
      "100%|█████████████████████████████████████████████| 1/1 [00:00<00:00, 69.27it/s]\n",
      "100%|█████████████████████████████████████████████| 1/1 [00:00<00:00, 14.03it/s]\n"
     ]
    },
    {
     "name": "stdout",
     "output_type": "stream",
     "text": [
      "Close to the object, but i will rotate so we might find it.\n"
     ]
    },
    {
     "name": "stderr",
     "output_type": "stream",
     "text": [
      "100%|█████████████████████████████████████████████| 1/1 [00:00<00:00, 76.04it/s]\n",
      "100%|█████████████████████████████████████████████| 1/1 [00:00<00:00, 12.25it/s]\n"
     ]
    },
    {
     "name": "stdout",
     "output_type": "stream",
     "text": [
      "I'm not in the place, I'll teleport somewhere else\n"
     ]
    },
    {
     "name": "stderr",
     "output_type": "stream",
     "text": [
      "100%|█████████████████████████████████████████████| 1/1 [00:00<00:00, 71.91it/s]\n",
      "100%|█████████████████████████████████████████████| 1/1 [00:00<00:00, 13.33it/s]\n"
     ]
    },
    {
     "name": "stdout",
     "output_type": "stream",
     "text": [
      "I'm not in the place, I'll teleport somewhere else\n"
     ]
    },
    {
     "name": "stderr",
     "output_type": "stream",
     "text": [
      "100%|█████████████████████████████████████████████| 1/1 [00:00<00:00, 50.25it/s]\n",
      "100%|█████████████████████████████████████████████| 1/1 [00:00<00:00, 13.55it/s]\n"
     ]
    },
    {
     "name": "stdout",
     "output_type": "stream",
     "text": [
      "I'm not in the place, I'll teleport somewhere else\n"
     ]
    },
    {
     "name": "stderr",
     "output_type": "stream",
     "text": [
      "100%|█████████████████████████████████████████████| 1/1 [00:00<00:00, 73.16it/s]\n",
      "100%|█████████████████████████████████████████████| 1/1 [00:00<00:00, 12.70it/s]\n",
      "100%|█████████████████████████████████████████████| 1/1 [00:00<00:00, 71.75it/s]\n",
      "100%|█████████████████████████████████████████████| 1/1 [00:00<00:00, 11.64it/s]\n"
     ]
    },
    {
     "name": "stdout",
     "output_type": "stream",
     "text": [
      "I'm not in the place, I'll teleport somewhere else\n"
     ]
    },
    {
     "name": "stderr",
     "output_type": "stream",
     "text": [
      "100%|█████████████████████████████████████████████| 1/1 [00:00<00:00, 66.76it/s]\n",
      "100%|█████████████████████████████████████████████| 1/1 [00:00<00:00, 14.22it/s]\n"
     ]
    },
    {
     "name": "stdout",
     "output_type": "stream",
     "text": [
      "I'm not in the place, I'll teleport somewhere else\n"
     ]
    },
    {
     "name": "stderr",
     "output_type": "stream",
     "text": [
      "100%|█████████████████████████████████████████████| 1/1 [00:00<00:00, 70.00it/s]\n",
      "100%|█████████████████████████████████████████████| 1/1 [00:00<00:00, 11.92it/s]\n"
     ]
    },
    {
     "name": "stdout",
     "output_type": "stream",
     "text": [
      "I'm not in the place, I'll teleport somewhere else\n"
     ]
    },
    {
     "name": "stderr",
     "output_type": "stream",
     "text": [
      "100%|█████████████████████████████████████████████| 1/1 [00:00<00:00, 68.53it/s]\n",
      "100%|█████████████████████████████████████████████| 1/1 [00:00<00:00, 13.49it/s]\n",
      "100%|█████████████████████████████████████████████| 1/1 [00:00<00:00, 69.46it/s]\n",
      "100%|█████████████████████████████████████████████| 1/1 [00:00<00:00, 13.47it/s]\n"
     ]
    },
    {
     "name": "stdout",
     "output_type": "stream",
     "text": [
      "I'm not in the place, I'll teleport somewhere else\n"
     ]
    },
    {
     "name": "stderr",
     "output_type": "stream",
     "text": [
      "100%|█████████████████████████████████████████████| 1/1 [00:00<00:00, 67.54it/s]\n",
      "100%|█████████████████████████████████████████████| 1/1 [00:00<00:00, 11.92it/s]\n"
     ]
    },
    {
     "name": "stdout",
     "output_type": "stream",
     "text": [
      "Close to the object, but i will rotate so we might find it.\n"
     ]
    },
    {
     "name": "stderr",
     "output_type": "stream",
     "text": [
      "100%|█████████████████████████████████████████████| 1/1 [00:00<00:00, 70.96it/s]\n",
      "100%|█████████████████████████████████████████████| 1/1 [00:00<00:00, 13.04it/s]\n"
     ]
    },
    {
     "name": "stdout",
     "output_type": "stream",
     "text": [
      "I'm not in the place, I'll teleport somewhere else\n"
     ]
    },
    {
     "name": "stderr",
     "output_type": "stream",
     "text": [
      "100%|█████████████████████████████████████████████| 1/1 [00:00<00:00, 68.14it/s]\n",
      "100%|█████████████████████████████████████████████| 1/1 [00:00<00:00, 12.88it/s]\n"
     ]
    },
    {
     "name": "stdout",
     "output_type": "stream",
     "text": [
      "I'm not in the place, I'll teleport somewhere else\n"
     ]
    },
    {
     "name": "stderr",
     "output_type": "stream",
     "text": [
      "100%|█████████████████████████████████████████████| 1/1 [00:00<00:00, 69.76it/s]\n",
      "100%|█████████████████████████████████████████████| 1/1 [00:00<00:00, 12.61it/s]\n"
     ]
    },
    {
     "name": "stdout",
     "output_type": "stream",
     "text": [
      "I'm not in the place, I'll teleport somewhere else\n",
      "Did not find the place\n",
      "images/13.jpg :: next\n"
     ]
    },
    {
     "name": "stderr",
     "output_type": "stream",
     "text": [
      "100%|█████████████████████████████████████████████| 1/1 [00:00<00:00, 70.78it/s]\n",
      "100%|█████████████████████████████████████████████| 1/1 [00:00<00:00, 12.76it/s]\n",
      "100%|█████████████████████████████████████████████| 1/1 [00:00<00:00, 72.50it/s]\n",
      "100%|█████████████████████████████████████████████| 1/1 [00:00<00:00, 12.34it/s]\n"
     ]
    },
    {
     "name": "stdout",
     "output_type": "stream",
     "text": [
      "Close to the object, but i will rotate so we might find it.\n"
     ]
    },
    {
     "name": "stderr",
     "output_type": "stream",
     "text": [
      "100%|█████████████████████████████████████████████| 1/1 [00:00<00:00, 65.29it/s]\n",
      "100%|█████████████████████████████████████████████| 1/1 [00:00<00:00, 13.46it/s]\n",
      "100%|█████████████████████████████████████████████| 1/1 [00:00<00:00, 71.52it/s]\n",
      "100%|█████████████████████████████████████████████| 1/1 [00:00<00:00, 13.43it/s]\n"
     ]
    },
    {
     "name": "stdout",
     "output_type": "stream",
     "text": [
      "I'm not in the place, I'll teleport somewhere else\n"
     ]
    },
    {
     "name": "stderr",
     "output_type": "stream",
     "text": [
      "100%|█████████████████████████████████████████████| 1/1 [00:00<00:00, 55.68it/s]\n",
      "100%|█████████████████████████████████████████████| 1/1 [00:00<00:00, 12.81it/s]\n"
     ]
    },
    {
     "name": "stdout",
     "output_type": "stream",
     "text": [
      "I'm not in the place, I'll teleport somewhere else\n"
     ]
    },
    {
     "name": "stderr",
     "output_type": "stream",
     "text": [
      "100%|█████████████████████████████████████████████| 1/1 [00:00<00:00, 67.30it/s]\n",
      "100%|█████████████████████████████████████████████| 1/1 [00:00<00:00, 13.76it/s]\n"
     ]
    },
    {
     "name": "stdout",
     "output_type": "stream",
     "text": [
      "I'm not in the place, I'll teleport somewhere else\n"
     ]
    },
    {
     "name": "stderr",
     "output_type": "stream",
     "text": [
      "100%|█████████████████████████████████████████████| 1/1 [00:00<00:00, 70.32it/s]\n",
      "100%|█████████████████████████████████████████████| 1/1 [00:00<00:00, 13.55it/s]\n",
      "100%|█████████████████████████████████████████████| 1/1 [00:00<00:00, 67.86it/s]\n",
      "100%|█████████████████████████████████████████████| 1/1 [00:00<00:00, 12.00it/s]\n"
     ]
    },
    {
     "name": "stdout",
     "output_type": "stream",
     "text": [
      "Close to the object, but i will rotate so we might find it.\n"
     ]
    },
    {
     "name": "stderr",
     "output_type": "stream",
     "text": [
      "100%|█████████████████████████████████████████████| 1/1 [00:00<00:00, 68.04it/s]\n",
      "100%|█████████████████████████████████████████████| 1/1 [00:00<00:00, 11.84it/s]\n",
      "100%|█████████████████████████████████████████████| 1/1 [00:00<00:00, 67.75it/s]\n",
      "100%|█████████████████████████████████████████████| 1/1 [00:00<00:00, 13.66it/s]\n"
     ]
    },
    {
     "name": "stdout",
     "output_type": "stream",
     "text": [
      "Close to the object, but i will rotate so we might find it.\n"
     ]
    },
    {
     "name": "stderr",
     "output_type": "stream",
     "text": [
      "100%|█████████████████████████████████████████████| 1/1 [00:00<00:00, 71.48it/s]\n",
      "100%|█████████████████████████████████████████████| 1/1 [00:00<00:00, 14.27it/s]\n"
     ]
    },
    {
     "name": "stdout",
     "output_type": "stream",
     "text": [
      "I'm not in the place, I'll teleport somewhere else\n"
     ]
    },
    {
     "name": "stderr",
     "output_type": "stream",
     "text": [
      "100%|█████████████████████████████████████████████| 1/1 [00:00<00:00, 70.43it/s]\n",
      "100%|█████████████████████████████████████████████| 1/1 [00:00<00:00, 15.04it/s]\n"
     ]
    },
    {
     "name": "stdout",
     "output_type": "stream",
     "text": [
      "I'm not in the place, I'll teleport somewhere else\n"
     ]
    },
    {
     "name": "stderr",
     "output_type": "stream",
     "text": [
      "100%|█████████████████████████████████████████████| 1/1 [00:00<00:00, 71.08it/s]\n",
      "100%|█████████████████████████████████████████████| 1/1 [00:00<00:00, 13.73it/s]\n",
      "100%|█████████████████████████████████████████████| 1/1 [00:00<00:00, 70.64it/s]\n",
      "100%|█████████████████████████████████████████████| 1/1 [00:00<00:00, 12.31it/s]\n",
      "100%|█████████████████████████████████████████████| 1/1 [00:00<00:00, 69.74it/s]\n",
      "100%|█████████████████████████████████████████████| 1/1 [00:00<00:00, 11.24it/s]\n"
     ]
    },
    {
     "name": "stdout",
     "output_type": "stream",
     "text": [
      "Close to the object, but i will rotate so we might find it.\n"
     ]
    },
    {
     "name": "stderr",
     "output_type": "stream",
     "text": [
      "100%|█████████████████████████████████████████████| 1/1 [00:00<00:00, 70.48it/s]\n",
      "100%|█████████████████████████████████████████████| 1/1 [00:00<00:00, 12.88it/s]\n"
     ]
    },
    {
     "name": "stdout",
     "output_type": "stream",
     "text": [
      "I'm not in the place, I'll teleport somewhere else\n",
      "Did not find the place\n",
      "images/14.jpg :: next\n"
     ]
    },
    {
     "name": "stderr",
     "output_type": "stream",
     "text": [
      "100%|█████████████████████████████████████████████| 1/1 [00:00<00:00, 69.76it/s]\n",
      "100%|█████████████████████████████████████████████| 1/1 [00:00<00:00, 13.62it/s]\n",
      "100%|█████████████████████████████████████████████| 1/1 [00:00<00:00, 68.27it/s]\n",
      "100%|█████████████████████████████████████████████| 1/1 [00:00<00:00, 13.42it/s]\n",
      "100%|█████████████████████████████████████████████| 1/1 [00:00<00:00, 66.01it/s]\n",
      "100%|█████████████████████████████████████████████| 1/1 [00:00<00:00, 14.82it/s]\n",
      "100%|█████████████████████████████████████████████| 1/1 [00:00<00:00, 69.55it/s]\n",
      "100%|█████████████████████████████████████████████| 1/1 [00:00<00:00, 12.95it/s]\n"
     ]
    },
    {
     "name": "stdout",
     "output_type": "stream",
     "text": [
      "I'm not in the place, I'll teleport somewhere else\n"
     ]
    },
    {
     "name": "stderr",
     "output_type": "stream",
     "text": [
      "100%|█████████████████████████████████████████████| 1/1 [00:00<00:00, 72.20it/s]\n",
      "100%|█████████████████████████████████████████████| 1/1 [00:00<00:00, 12.27it/s]\n",
      "100%|█████████████████████████████████████████████| 1/1 [00:00<00:00, 71.67it/s]\n",
      "100%|█████████████████████████████████████████████| 1/1 [00:00<00:00, 13.09it/s]\n"
     ]
    },
    {
     "name": "stdout",
     "output_type": "stream",
     "text": [
      "I'm not in the place, I'll teleport somewhere else\n"
     ]
    },
    {
     "name": "stderr",
     "output_type": "stream",
     "text": [
      "100%|█████████████████████████████████████████████| 1/1 [00:00<00:00, 71.72it/s]\n",
      "100%|█████████████████████████████████████████████| 1/1 [00:00<00:00, 11.83it/s]\n"
     ]
    },
    {
     "name": "stdout",
     "output_type": "stream",
     "text": [
      "I'm not in the place, I'll teleport somewhere else\n"
     ]
    },
    {
     "name": "stderr",
     "output_type": "stream",
     "text": [
      "100%|█████████████████████████████████████████████| 1/1 [00:00<00:00, 70.13it/s]\n",
      "100%|█████████████████████████████████████████████| 1/1 [00:00<00:00, 13.40it/s]\n"
     ]
    },
    {
     "name": "stdout",
     "output_type": "stream",
     "text": [
      "I'm not in the place, I'll teleport somewhere else\n"
     ]
    },
    {
     "name": "stderr",
     "output_type": "stream",
     "text": [
      "100%|█████████████████████████████████████████████| 1/1 [00:00<00:00, 38.49it/s]\n",
      "100%|█████████████████████████████████████████████| 1/1 [00:00<00:00, 13.37it/s]\n"
     ]
    },
    {
     "name": "stdout",
     "output_type": "stream",
     "text": [
      "I'm not in the place, I'll teleport somewhere else\n"
     ]
    },
    {
     "name": "stderr",
     "output_type": "stream",
     "text": [
      "100%|█████████████████████████████████████████████| 1/1 [00:00<00:00, 57.51it/s]\n",
      "100%|█████████████████████████████████████████████| 1/1 [00:00<00:00, 12.48it/s]\n"
     ]
    },
    {
     "name": "stdout",
     "output_type": "stream",
     "text": [
      "I'm not in the place, I'll teleport somewhere else\n"
     ]
    },
    {
     "name": "stderr",
     "output_type": "stream",
     "text": [
      "100%|█████████████████████████████████████████████| 1/1 [00:00<00:00, 70.63it/s]\n",
      "100%|█████████████████████████████████████████████| 1/1 [00:00<00:00, 12.88it/s]\n"
     ]
    },
    {
     "name": "stdout",
     "output_type": "stream",
     "text": [
      "I'm not in the place, I'll teleport somewhere else\n"
     ]
    },
    {
     "name": "stderr",
     "output_type": "stream",
     "text": [
      "100%|█████████████████████████████████████████████| 1/1 [00:00<00:00, 68.53it/s]\n",
      "100%|█████████████████████████████████████████████| 1/1 [00:00<00:00, 13.49it/s]\n"
     ]
    },
    {
     "name": "stdout",
     "output_type": "stream",
     "text": [
      "I'm not in the place, I'll teleport somewhere else\n"
     ]
    },
    {
     "name": "stderr",
     "output_type": "stream",
     "text": [
      "100%|█████████████████████████████████████████████| 1/1 [00:00<00:00, 69.48it/s]\n",
      "100%|█████████████████████████████████████████████| 1/1 [00:00<00:00, 13.76it/s]\n",
      "100%|█████████████████████████████████████████████| 1/1 [00:00<00:00, 66.66it/s]\n",
      "100%|█████████████████████████████████████████████| 1/1 [00:00<00:00, 13.55it/s]\n",
      "100%|█████████████████████████████████████████████| 1/1 [00:00<00:00, 68.58it/s]\n",
      "100%|█████████████████████████████████████████████| 1/1 [00:00<00:00, 13.42it/s]\n"
     ]
    },
    {
     "name": "stdout",
     "output_type": "stream",
     "text": [
      "I'm not in the place, I'll teleport somewhere else\n"
     ]
    },
    {
     "name": "stderr",
     "output_type": "stream",
     "text": [
      "100%|█████████████████████████████████████████████| 1/1 [00:00<00:00, 72.09it/s]\n",
      "100%|█████████████████████████████████████████████| 1/1 [00:00<00:00, 12.26it/s]\n"
     ]
    },
    {
     "name": "stdout",
     "output_type": "stream",
     "text": [
      "Close to the object, but i will rotate so we might find it.\n",
      "Did not find the place\n",
      "images/15.jpg :: next\n"
     ]
    },
    {
     "name": "stderr",
     "output_type": "stream",
     "text": [
      "100%|█████████████████████████████████████████████| 1/1 [00:00<00:00, 41.15it/s]\n",
      "100%|█████████████████████████████████████████████| 1/1 [00:00<00:00, 15.35it/s]\n",
      "100%|█████████████████████████████████████████████| 1/1 [00:00<00:00, 64.96it/s]\n",
      "100%|█████████████████████████████████████████████| 1/1 [00:00<00:00, 13.20it/s]\n",
      "100%|█████████████████████████████████████████████| 1/1 [00:00<00:00, 61.71it/s]\n",
      "100%|█████████████████████████████████████████████| 1/1 [00:00<00:00, 14.93it/s]\n",
      "100%|█████████████████████████████████████████████| 1/1 [00:00<00:00, 69.36it/s]\n",
      "100%|█████████████████████████████████████████████| 1/1 [00:00<00:00, 13.54it/s]\n",
      "100%|█████████████████████████████████████████████| 1/1 [00:00<00:00, 60.46it/s]\n",
      "100%|█████████████████████████████████████████████| 1/1 [00:00<00:00, 14.56it/s]\n",
      "100%|█████████████████████████████████████████████| 1/1 [00:00<00:00, 69.67it/s]\n",
      "100%|█████████████████████████████████████████████| 1/1 [00:00<00:00, 14.00it/s]\n",
      "100%|█████████████████████████████████████████████| 1/1 [00:00<00:00, 66.34it/s]\n",
      "100%|█████████████████████████████████████████████| 1/1 [00:00<00:00, 14.34it/s]\n",
      "100%|█████████████████████████████████████████████| 1/1 [00:00<00:00, 68.73it/s]\n",
      "100%|█████████████████████████████████████████████| 1/1 [00:00<00:00, 14.95it/s]\n",
      "100%|█████████████████████████████████████████████| 1/1 [00:00<00:00, 73.58it/s]\n",
      "100%|█████████████████████████████████████████████| 1/1 [00:00<00:00, 13.61it/s]\n",
      "100%|█████████████████████████████████████████████| 1/1 [00:00<00:00, 66.19it/s]\n",
      "100%|█████████████████████████████████████████████| 1/1 [00:00<00:00, 14.12it/s]\n",
      "100%|█████████████████████████████████████████████| 1/1 [00:00<00:00, 68.06it/s]\n",
      "100%|█████████████████████████████████████████████| 1/1 [00:00<00:00, 13.07it/s]\n",
      "100%|█████████████████████████████████████████████| 1/1 [00:00<00:00, 72.44it/s]\n",
      "100%|█████████████████████████████████████████████| 1/1 [00:00<00:00, 13.19it/s]\n"
     ]
    },
    {
     "name": "stdout",
     "output_type": "stream",
     "text": [
      "Close to the object, but i will rotate so we might find it.\n"
     ]
    },
    {
     "name": "stderr",
     "output_type": "stream",
     "text": [
      "100%|█████████████████████████████████████████████| 1/1 [00:00<00:00, 69.11it/s]\n",
      "100%|█████████████████████████████████████████████| 1/1 [00:00<00:00, 13.34it/s]\n",
      "100%|█████████████████████████████████████████████| 1/1 [00:00<00:00, 72.15it/s]\n",
      "100%|█████████████████████████████████████████████| 1/1 [00:00<00:00, 13.80it/s]\n",
      "100%|█████████████████████████████████████████████| 1/1 [00:00<00:00, 40.41it/s]\n",
      "100%|█████████████████████████████████████████████| 1/1 [00:00<00:00, 12.32it/s]\n",
      "100%|█████████████████████████████████████████████| 1/1 [00:00<00:00, 68.44it/s]\n",
      "100%|█████████████████████████████████████████████| 1/1 [00:00<00:00, 13.34it/s]\n"
     ]
    },
    {
     "name": "stdout",
     "output_type": "stream",
     "text": [
      "Did not find the place\n",
      "images/16.jpg :: next\n"
     ]
    },
    {
     "name": "stderr",
     "output_type": "stream",
     "text": [
      "100%|█████████████████████████████████████████████| 1/1 [00:00<00:00, 69.83it/s]\n",
      "100%|█████████████████████████████████████████████| 1/1 [00:00<00:00, 12.79it/s]\n",
      "100%|█████████████████████████████████████████████| 1/1 [00:00<00:00, 61.93it/s]\n",
      "100%|█████████████████████████████████████████████| 1/1 [00:00<00:00, 13.15it/s]\n"
     ]
    },
    {
     "name": "stdout",
     "output_type": "stream",
     "text": [
      "I'm not in the place, I'll teleport somewhere else\n"
     ]
    },
    {
     "name": "stderr",
     "output_type": "stream",
     "text": [
      "100%|█████████████████████████████████████████████| 1/1 [00:00<00:00, 71.84it/s]\n",
      "100%|█████████████████████████████████████████████| 1/1 [00:00<00:00, 13.20it/s]\n"
     ]
    },
    {
     "name": "stdout",
     "output_type": "stream",
     "text": [
      "I'm not in the place, I'll teleport somewhere else\n"
     ]
    },
    {
     "name": "stderr",
     "output_type": "stream",
     "text": [
      "100%|█████████████████████████████████████████████| 1/1 [00:00<00:00, 71.48it/s]\n",
      "100%|█████████████████████████████████████████████| 1/1 [00:00<00:00, 14.00it/s]\n"
     ]
    },
    {
     "name": "stdout",
     "output_type": "stream",
     "text": [
      "I'm not in the place, I'll teleport somewhere else\n"
     ]
    },
    {
     "name": "stderr",
     "output_type": "stream",
     "text": [
      "100%|█████████████████████████████████████████████| 1/1 [00:00<00:00, 73.23it/s]\n",
      "100%|█████████████████████████████████████████████| 1/1 [00:00<00:00, 12.63it/s]\n",
      "100%|█████████████████████████████████████████████| 1/1 [00:00<00:00, 70.29it/s]\n",
      "100%|█████████████████████████████████████████████| 1/1 [00:00<00:00, 11.03it/s]\n"
     ]
    },
    {
     "name": "stdout",
     "output_type": "stream",
     "text": [
      "I'm not in the place, I'll teleport somewhere else\n"
     ]
    },
    {
     "name": "stderr",
     "output_type": "stream",
     "text": [
      "100%|█████████████████████████████████████████████| 1/1 [00:00<00:00, 72.84it/s]\n",
      "100%|█████████████████████████████████████████████| 1/1 [00:00<00:00, 13.37it/s]\n"
     ]
    },
    {
     "name": "stdout",
     "output_type": "stream",
     "text": [
      "I'm not in the place, I'll teleport somewhere else\n"
     ]
    },
    {
     "name": "stderr",
     "output_type": "stream",
     "text": [
      "100%|█████████████████████████████████████████████| 1/1 [00:00<00:00, 72.87it/s]\n",
      "100%|█████████████████████████████████████████████| 1/1 [00:00<00:00, 13.19it/s]\n",
      "100%|█████████████████████████████████████████████| 1/1 [00:00<00:00, 67.03it/s]\n",
      "100%|█████████████████████████████████████████████| 1/1 [00:00<00:00, 13.23it/s]\n"
     ]
    },
    {
     "name": "stdout",
     "output_type": "stream",
     "text": [
      "I'm not in the place, I'll teleport somewhere else\n"
     ]
    },
    {
     "name": "stderr",
     "output_type": "stream",
     "text": [
      "100%|█████████████████████████████████████████████| 1/1 [00:00<00:00, 70.17it/s]\n",
      "100%|█████████████████████████████████████████████| 1/1 [00:00<00:00, 13.18it/s]\n",
      "100%|█████████████████████████████████████████████| 1/1 [00:00<00:00, 66.74it/s]\n",
      "100%|█████████████████████████████████████████████| 1/1 [00:00<00:00, 13.31it/s]\n",
      "100%|█████████████████████████████████████████████| 1/1 [00:00<00:00, 70.64it/s]\n",
      "100%|█████████████████████████████████████████████| 1/1 [00:00<00:00, 13.10it/s]\n",
      "100%|█████████████████████████████████████████████| 1/1 [00:00<00:00, 68.73it/s]\n",
      "100%|█████████████████████████████████████████████| 1/1 [00:00<00:00, 13.14it/s]\n"
     ]
    },
    {
     "name": "stdout",
     "output_type": "stream",
     "text": [
      "I'm not in the place, I'll teleport somewhere else\n"
     ]
    },
    {
     "name": "stderr",
     "output_type": "stream",
     "text": [
      "100%|█████████████████████████████████████████████| 1/1 [00:00<00:00, 66.39it/s]\n",
      "100%|█████████████████████████████████████████████| 1/1 [00:00<00:00, 12.07it/s]\n"
     ]
    },
    {
     "name": "stdout",
     "output_type": "stream",
     "text": [
      "I'm not in the place, I'll teleport somewhere else\n"
     ]
    },
    {
     "name": "stderr",
     "output_type": "stream",
     "text": [
      "100%|█████████████████████████████████████████████| 1/1 [00:00<00:00, 69.55it/s]\n",
      "100%|█████████████████████████████████████████████| 1/1 [00:00<00:00, 12.42it/s]\n"
     ]
    },
    {
     "name": "stdout",
     "output_type": "stream",
     "text": [
      "Close to the object, but i will rotate so we might find it.\n"
     ]
    },
    {
     "name": "stderr",
     "output_type": "stream",
     "text": [
      "100%|█████████████████████████████████████████████| 1/1 [00:00<00:00, 69.56it/s]\n",
      "100%|█████████████████████████████████████████████| 1/1 [00:00<00:00, 13.10it/s]\n"
     ]
    },
    {
     "name": "stdout",
     "output_type": "stream",
     "text": [
      "I'm not in the place, I'll teleport somewhere else\n",
      "Did not find the place\n",
      "images/17.jpg :: next\n"
     ]
    },
    {
     "name": "stderr",
     "output_type": "stream",
     "text": [
      "100%|█████████████████████████████████████████████| 1/1 [00:00<00:00, 72.00it/s]\n",
      "100%|█████████████████████████████████████████████| 1/1 [00:00<00:00, 11.71it/s]\n",
      "100%|█████████████████████████████████████████████| 1/1 [00:00<00:00, 69.52it/s]\n",
      "100%|█████████████████████████████████████████████| 1/1 [00:00<00:00, 12.97it/s]\n"
     ]
    },
    {
     "name": "stdout",
     "output_type": "stream",
     "text": [
      "I'm not in the place, I'll teleport somewhere else\n"
     ]
    },
    {
     "name": "stderr",
     "output_type": "stream",
     "text": [
      "100%|█████████████████████████████████████████████| 1/1 [00:00<00:00, 67.23it/s]\n",
      "100%|█████████████████████████████████████████████| 1/1 [00:00<00:00, 12.09it/s]\n",
      "100%|█████████████████████████████████████████████| 1/1 [00:00<00:00, 72.77it/s]\n",
      "100%|█████████████████████████████████████████████| 1/1 [00:00<00:00, 13.56it/s]\n"
     ]
    },
    {
     "name": "stdout",
     "output_type": "stream",
     "text": [
      "I'm not in the place, I'll teleport somewhere else\n"
     ]
    },
    {
     "name": "stderr",
     "output_type": "stream",
     "text": [
      "100%|█████████████████████████████████████████████| 1/1 [00:00<00:00, 70.23it/s]\n",
      "100%|█████████████████████████████████████████████| 1/1 [00:00<00:00, 13.36it/s]\n"
     ]
    },
    {
     "name": "stdout",
     "output_type": "stream",
     "text": [
      "I'm not in the place, I'll teleport somewhere else\n"
     ]
    },
    {
     "name": "stderr",
     "output_type": "stream",
     "text": [
      "100%|█████████████████████████████████████████████| 1/1 [00:00<00:00, 66.30it/s]\n",
      "100%|█████████████████████████████████████████████| 1/1 [00:00<00:00, 12.97it/s]\n",
      "100%|█████████████████████████████████████████████| 1/1 [00:00<00:00, 72.84it/s]\n",
      "100%|█████████████████████████████████████████████| 1/1 [00:00<00:00, 12.84it/s]\n",
      "100%|█████████████████████████████████████████████| 1/1 [00:00<00:00, 69.97it/s]\n",
      "100%|█████████████████████████████████████████████| 1/1 [00:00<00:00, 11.80it/s]\n",
      "100%|█████████████████████████████████████████████| 1/1 [00:00<00:00, 67.75it/s]\n",
      "100%|█████████████████████████████████████████████| 1/1 [00:00<00:00, 13.23it/s]\n"
     ]
    },
    {
     "name": "stdout",
     "output_type": "stream",
     "text": [
      "I'm not in the place, I'll teleport somewhere else\n"
     ]
    },
    {
     "name": "stderr",
     "output_type": "stream",
     "text": [
      "100%|█████████████████████████████████████████████| 1/1 [00:00<00:00, 69.83it/s]\n",
      "100%|█████████████████████████████████████████████| 1/1 [00:00<00:00, 13.14it/s]\n"
     ]
    },
    {
     "name": "stdout",
     "output_type": "stream",
     "text": [
      "I'm not in the place, I'll teleport somewhere else\n"
     ]
    },
    {
     "name": "stderr",
     "output_type": "stream",
     "text": [
      "100%|█████████████████████████████████████████████| 1/1 [00:00<00:00, 69.70it/s]\n",
      "100%|█████████████████████████████████████████████| 1/1 [00:00<00:00, 13.42it/s]\n"
     ]
    },
    {
     "name": "stdout",
     "output_type": "stream",
     "text": [
      "I'm not in the place, I'll teleport somewhere else\n"
     ]
    },
    {
     "name": "stderr",
     "output_type": "stream",
     "text": [
      "100%|█████████████████████████████████████████████| 1/1 [00:00<00:00, 74.07it/s]\n",
      "100%|█████████████████████████████████████████████| 1/1 [00:00<00:00, 12.31it/s]\n",
      "100%|█████████████████████████████████████████████| 1/1 [00:00<00:00, 65.87it/s]\n",
      "100%|█████████████████████████████████████████████| 1/1 [00:00<00:00, 12.88it/s]\n"
     ]
    },
    {
     "name": "stdout",
     "output_type": "stream",
     "text": [
      "I'm not in the place, I'll teleport somewhere else\n"
     ]
    },
    {
     "name": "stderr",
     "output_type": "stream",
     "text": [
      "100%|█████████████████████████████████████████████| 1/1 [00:00<00:00, 72.23it/s]\n",
      "100%|█████████████████████████████████████████████| 1/1 [00:00<00:00, 13.11it/s]\n"
     ]
    },
    {
     "name": "stdout",
     "output_type": "stream",
     "text": [
      "I'm not in the place, I'll teleport somewhere else\n"
     ]
    },
    {
     "name": "stderr",
     "output_type": "stream",
     "text": [
      "100%|█████████████████████████████████████████████| 1/1 [00:00<00:00, 73.77it/s]\n",
      "100%|█████████████████████████████████████████████| 1/1 [00:00<00:00, 13.04it/s]\n"
     ]
    },
    {
     "name": "stdout",
     "output_type": "stream",
     "text": [
      "I'm not in the place, I'll teleport somewhere else\n"
     ]
    },
    {
     "name": "stderr",
     "output_type": "stream",
     "text": [
      "100%|█████████████████████████████████████████████| 1/1 [00:00<00:00, 68.62it/s]\n",
      "100%|█████████████████████████████████████████████| 1/1 [00:00<00:00, 12.87it/s]\n"
     ]
    },
    {
     "name": "stdout",
     "output_type": "stream",
     "text": [
      "Did not find the place\n",
      "images/18.jpg :: next\n"
     ]
    },
    {
     "name": "stderr",
     "output_type": "stream",
     "text": [
      "100%|█████████████████████████████████████████████| 1/1 [00:00<00:00, 74.42it/s]\n",
      "100%|█████████████████████████████████████████████| 1/1 [00:00<00:00, 13.55it/s]\n",
      "100%|█████████████████████████████████████████████| 1/1 [00:00<00:00, 64.06it/s]\n",
      "100%|█████████████████████████████████████████████| 1/1 [00:00<00:00, 13.41it/s]\n"
     ]
    },
    {
     "name": "stdout",
     "output_type": "stream",
     "text": [
      "Close to the object, but i will rotate so we might find it.\n"
     ]
    },
    {
     "name": "stderr",
     "output_type": "stream",
     "text": [
      "100%|█████████████████████████████████████████████| 1/1 [00:00<00:00, 35.03it/s]\n",
      "100%|█████████████████████████████████████████████| 1/1 [00:00<00:00, 13.10it/s]\n"
     ]
    },
    {
     "name": "stdout",
     "output_type": "stream",
     "text": [
      "I'm not in the place, I'll teleport somewhere else\n"
     ]
    },
    {
     "name": "stderr",
     "output_type": "stream",
     "text": [
      "100%|█████████████████████████████████████████████| 1/1 [00:00<00:00, 73.10it/s]\n",
      "100%|█████████████████████████████████████████████| 1/1 [00:00<00:00, 13.25it/s]\n"
     ]
    },
    {
     "name": "stdout",
     "output_type": "stream",
     "text": [
      "I'm not in the place, I'll teleport somewhere else\n"
     ]
    },
    {
     "name": "stderr",
     "output_type": "stream",
     "text": [
      "100%|█████████████████████████████████████████████| 1/1 [00:00<00:00, 74.15it/s]\n",
      "100%|█████████████████████████████████████████████| 1/1 [00:00<00:00, 14.26it/s]\n"
     ]
    },
    {
     "name": "stdout",
     "output_type": "stream",
     "text": [
      "Close to the object, but i will rotate so we might find it.\n"
     ]
    },
    {
     "name": "stderr",
     "output_type": "stream",
     "text": [
      "100%|█████████████████████████████████████████████| 1/1 [00:00<00:00, 70.19it/s]\n",
      "100%|█████████████████████████████████████████████| 1/1 [00:00<00:00, 12.81it/s]\n",
      "100%|█████████████████████████████████████████████| 1/1 [00:00<00:00, 71.36it/s]\n",
      "100%|█████████████████████████████████████████████| 1/1 [00:00<00:00, 14.18it/s]\n"
     ]
    },
    {
     "name": "stdout",
     "output_type": "stream",
     "text": [
      "I'm not in the place, I'll teleport somewhere else\n"
     ]
    },
    {
     "name": "stderr",
     "output_type": "stream",
     "text": [
      "100%|█████████████████████████████████████████████| 1/1 [00:00<00:00, 70.13it/s]\n",
      "100%|█████████████████████████████████████████████| 1/1 [00:00<00:00, 12.66it/s]\n"
     ]
    },
    {
     "name": "stdout",
     "output_type": "stream",
     "text": [
      "Close to the object, but i will rotate so we might find it.\n"
     ]
    },
    {
     "name": "stderr",
     "output_type": "stream",
     "text": [
      "100%|█████████████████████████████████████████████| 1/1 [00:00<00:00, 72.45it/s]\n",
      "100%|█████████████████████████████████████████████| 1/1 [00:00<00:00, 13.32it/s]\n"
     ]
    },
    {
     "name": "stdout",
     "output_type": "stream",
     "text": [
      "I'm not in the place, I'll teleport somewhere else\n"
     ]
    },
    {
     "name": "stderr",
     "output_type": "stream",
     "text": [
      "100%|█████████████████████████████████████████████| 1/1 [00:00<00:00, 40.34it/s]\n",
      "100%|█████████████████████████████████████████████| 1/1 [00:00<00:00, 11.94it/s]\n",
      "100%|█████████████████████████████████████████████| 1/1 [00:00<00:00, 70.43it/s]\n",
      "100%|█████████████████████████████████████████████| 1/1 [00:00<00:00, 12.47it/s]\n"
     ]
    },
    {
     "name": "stdout",
     "output_type": "stream",
     "text": [
      "I'm not in the place, I'll teleport somewhere else\n"
     ]
    },
    {
     "name": "stderr",
     "output_type": "stream",
     "text": [
      "100%|█████████████████████████████████████████████| 1/1 [00:00<00:00, 72.81it/s]\n",
      "100%|█████████████████████████████████████████████| 1/1 [00:00<00:00, 13.72it/s]\n",
      "100%|█████████████████████████████████████████████| 1/1 [00:00<00:00, 68.68it/s]\n",
      "100%|█████████████████████████████████████████████| 1/1 [00:00<00:00, 12.93it/s]\n"
     ]
    },
    {
     "name": "stdout",
     "output_type": "stream",
     "text": [
      "I'm not in the place, I'll teleport somewhere else\n"
     ]
    },
    {
     "name": "stderr",
     "output_type": "stream",
     "text": [
      "100%|█████████████████████████████████████████████| 1/1 [00:00<00:00, 71.77it/s]\n",
      "100%|█████████████████████████████████████████████| 1/1 [00:00<00:00, 11.65it/s]\n"
     ]
    },
    {
     "name": "stdout",
     "output_type": "stream",
     "text": [
      "Close to the object, but i will rotate so we might find it.\n"
     ]
    },
    {
     "name": "stderr",
     "output_type": "stream",
     "text": [
      "100%|█████████████████████████████████████████████| 1/1 [00:00<00:00, 71.47it/s]\n",
      "100%|█████████████████████████████████████████████| 1/1 [00:00<00:00, 14.76it/s]\n"
     ]
    },
    {
     "name": "stdout",
     "output_type": "stream",
     "text": [
      "I'm not in the place, I'll teleport somewhere else\n"
     ]
    },
    {
     "name": "stderr",
     "output_type": "stream",
     "text": [
      "100%|█████████████████████████████████████████████| 1/1 [00:00<00:00, 69.36it/s]\n",
      "100%|█████████████████████████████████████████████| 1/1 [00:00<00:00, 14.80it/s]\n"
     ]
    },
    {
     "name": "stdout",
     "output_type": "stream",
     "text": [
      "I'm not in the place, I'll teleport somewhere else\n",
      "Did not find the place\n",
      "images/19.jpg :: next\n"
     ]
    },
    {
     "name": "stderr",
     "output_type": "stream",
     "text": [
      "100%|█████████████████████████████████████████████| 1/1 [00:00<00:00, 71.66it/s]\n",
      "100%|█████████████████████████████████████████████| 1/1 [00:00<00:00, 13.37it/s]\n",
      "100%|█████████████████████████████████████████████| 1/1 [00:00<00:00, 66.57it/s]\n",
      "100%|█████████████████████████████████████████████| 1/1 [00:00<00:00, 13.20it/s]\n"
     ]
    },
    {
     "name": "stdout",
     "output_type": "stream",
     "text": [
      "I'm not in the place, I'll teleport somewhere else\n"
     ]
    },
    {
     "name": "stderr",
     "output_type": "stream",
     "text": [
      "100%|█████████████████████████████████████████████| 1/1 [00:00<00:00, 67.06it/s]\n",
      "100%|█████████████████████████████████████████████| 1/1 [00:00<00:00, 15.05it/s]\n"
     ]
    },
    {
     "name": "stdout",
     "output_type": "stream",
     "text": [
      "Close to the object, but i will rotate so we might find it.\n"
     ]
    },
    {
     "name": "stderr",
     "output_type": "stream",
     "text": [
      "100%|█████████████████████████████████████████████| 1/1 [00:00<00:00, 70.34it/s]\n",
      "100%|█████████████████████████████████████████████| 1/1 [00:00<00:00, 14.80it/s]\n",
      "100%|█████████████████████████████████████████████| 1/1 [00:00<00:00, 69.26it/s]\n",
      "100%|█████████████████████████████████████████████| 1/1 [00:00<00:00, 12.92it/s]\n",
      "100%|█████████████████████████████████████████████| 1/1 [00:00<00:00, 71.10it/s]\n",
      "100%|█████████████████████████████████████████████| 1/1 [00:00<00:00, 12.26it/s]\n"
     ]
    },
    {
     "name": "stdout",
     "output_type": "stream",
     "text": [
      "Close to the object, but i will rotate so we might find it.\n"
     ]
    },
    {
     "name": "stderr",
     "output_type": "stream",
     "text": [
      "100%|█████████████████████████████████████████████| 1/1 [00:00<00:00, 67.70it/s]\n",
      "100%|█████████████████████████████████████████████| 1/1 [00:00<00:00, 12.93it/s]\n"
     ]
    },
    {
     "name": "stdout",
     "output_type": "stream",
     "text": [
      "I'm not in the place, I'll teleport somewhere else\n"
     ]
    },
    {
     "name": "stderr",
     "output_type": "stream",
     "text": [
      "100%|█████████████████████████████████████████████| 1/1 [00:00<00:00, 66.19it/s]\n",
      "100%|█████████████████████████████████████████████| 1/1 [00:00<00:00, 12.97it/s]\n",
      "100%|█████████████████████████████████████████████| 1/1 [00:00<00:00, 65.81it/s]\n",
      "100%|█████████████████████████████████████████████| 1/1 [00:00<00:00, 12.10it/s]\n"
     ]
    },
    {
     "name": "stdout",
     "output_type": "stream",
     "text": [
      "Close to the object, but i will rotate so we might find it.\n"
     ]
    },
    {
     "name": "stderr",
     "output_type": "stream",
     "text": [
      "100%|█████████████████████████████████████████████| 1/1 [00:00<00:00, 66.70it/s]\n",
      "100%|█████████████████████████████████████████████| 1/1 [00:00<00:00, 13.18it/s]\n",
      "100%|█████████████████████████████████████████████| 1/1 [00:00<00:00, 66.33it/s]\n",
      "100%|█████████████████████████████████████████████| 1/1 [00:00<00:00, 15.87it/s]\n"
     ]
    },
    {
     "name": "stdout",
     "output_type": "stream",
     "text": [
      "I'm not in the place, I'll teleport somewhere else\n"
     ]
    },
    {
     "name": "stderr",
     "output_type": "stream",
     "text": [
      "100%|█████████████████████████████████████████████| 1/1 [00:00<00:00, 66.56it/s]\n",
      "100%|█████████████████████████████████████████████| 1/1 [00:00<00:00, 11.70it/s]\n",
      "100%|█████████████████████████████████████████████| 1/1 [00:00<00:00, 64.80it/s]\n",
      "100%|█████████████████████████████████████████████| 1/1 [00:00<00:00, 13.71it/s]\n"
     ]
    },
    {
     "name": "stdout",
     "output_type": "stream",
     "text": [
      "Close to the object, but i will rotate so we might find it.\n"
     ]
    },
    {
     "name": "stderr",
     "output_type": "stream",
     "text": [
      "100%|█████████████████████████████████████████████| 1/1 [00:00<00:00, 64.72it/s]\n",
      "100%|█████████████████████████████████████████████| 1/1 [00:00<00:00, 15.25it/s]\n",
      "100%|█████████████████████████████████████████████| 1/1 [00:00<00:00, 70.94it/s]\n",
      "100%|█████████████████████████████████████████████| 1/1 [00:00<00:00, 11.98it/s]\n",
      "100%|█████████████████████████████████████████████| 1/1 [00:00<00:00, 72.80it/s]\n",
      "100%|█████████████████████████████████████████████| 1/1 [00:00<00:00, 16.20it/s]\n"
     ]
    },
    {
     "name": "stdout",
     "output_type": "stream",
     "text": [
      "I'm not in the place, I'll teleport somewhere else\n",
      "Did not find the place\n",
      "images/20.jpg :: next\n"
     ]
    },
    {
     "name": "stderr",
     "output_type": "stream",
     "text": [
      "100%|█████████████████████████████████████████████| 1/1 [00:00<00:00, 73.90it/s]\n",
      "100%|█████████████████████████████████████████████| 1/1 [00:00<00:00, 13.46it/s]\n",
      "100%|█████████████████████████████████████████████| 1/1 [00:00<00:00, 72.88it/s]\n",
      "100%|█████████████████████████████████████████████| 1/1 [00:00<00:00, 13.03it/s]\n"
     ]
    },
    {
     "name": "stdout",
     "output_type": "stream",
     "text": [
      "Cosine Similarity Score: 0.9625952\n",
      "I'm in the place\n",
      "Results saved in DataFrame.\n",
      "images/21.jpg :: next\n"
     ]
    },
    {
     "name": "stderr",
     "output_type": "stream",
     "text": [
      "100%|█████████████████████████████████████████████| 1/1 [00:00<00:00, 71.94it/s]\n",
      "100%|█████████████████████████████████████████████| 1/1 [00:00<00:00, 13.27it/s]\n",
      "100%|█████████████████████████████████████████████| 1/1 [00:00<00:00, 68.84it/s]\n",
      "100%|█████████████████████████████████████████████| 1/1 [00:00<00:00, 13.25it/s]\n",
      "100%|█████████████████████████████████████████████| 1/1 [00:00<00:00, 69.63it/s]\n",
      "100%|█████████████████████████████████████████████| 1/1 [00:00<00:00, 14.16it/s]\n",
      "100%|█████████████████████████████████████████████| 1/1 [00:00<00:00, 71.03it/s]\n",
      "100%|█████████████████████████████████████████████| 1/1 [00:00<00:00, 14.56it/s]\n"
     ]
    },
    {
     "name": "stdout",
     "output_type": "stream",
     "text": [
      "I'm not in the place, I'll teleport somewhere else\n"
     ]
    },
    {
     "name": "stderr",
     "output_type": "stream",
     "text": [
      "100%|█████████████████████████████████████████████| 1/1 [00:00<00:00, 64.17it/s]\n",
      "100%|█████████████████████████████████████████████| 1/1 [00:00<00:00, 14.72it/s]\n"
     ]
    },
    {
     "name": "stdout",
     "output_type": "stream",
     "text": [
      "I'm not in the place, I'll teleport somewhere else\n"
     ]
    },
    {
     "name": "stderr",
     "output_type": "stream",
     "text": [
      "100%|█████████████████████████████████████████████| 1/1 [00:00<00:00, 72.04it/s]\n",
      "100%|█████████████████████████████████████████████| 1/1 [00:00<00:00, 12.68it/s]\n",
      "100%|█████████████████████████████████████████████| 1/1 [00:00<00:00, 70.78it/s]\n",
      "100%|█████████████████████████████████████████████| 1/1 [00:00<00:00, 13.45it/s]\n"
     ]
    },
    {
     "name": "stdout",
     "output_type": "stream",
     "text": [
      "I'm not in the place, I'll teleport somewhere else\n"
     ]
    },
    {
     "name": "stderr",
     "output_type": "stream",
     "text": [
      "100%|█████████████████████████████████████████████| 1/1 [00:00<00:00, 70.70it/s]\n",
      "100%|█████████████████████████████████████████████| 1/1 [00:00<00:00, 13.35it/s]\n"
     ]
    },
    {
     "name": "stdout",
     "output_type": "stream",
     "text": [
      "I'm not in the place, I'll teleport somewhere else\n"
     ]
    },
    {
     "name": "stderr",
     "output_type": "stream",
     "text": [
      "100%|█████████████████████████████████████████████| 1/1 [00:00<00:00, 69.73it/s]\n",
      "100%|█████████████████████████████████████████████| 1/1 [00:00<00:00, 14.02it/s]\n",
      "100%|█████████████████████████████████████████████| 1/1 [00:00<00:00, 70.42it/s]\n",
      "100%|█████████████████████████████████████████████| 1/1 [00:00<00:00, 11.76it/s]\n"
     ]
    },
    {
     "name": "stdout",
     "output_type": "stream",
     "text": [
      "I'm not in the place, I'll teleport somewhere else\n"
     ]
    },
    {
     "name": "stderr",
     "output_type": "stream",
     "text": [
      "100%|█████████████████████████████████████████████| 1/1 [00:00<00:00, 72.45it/s]\n",
      "100%|█████████████████████████████████████████████| 1/1 [00:00<00:00, 11.50it/s]\n"
     ]
    },
    {
     "name": "stdout",
     "output_type": "stream",
     "text": [
      "I'm not in the place, I'll teleport somewhere else\n"
     ]
    },
    {
     "name": "stderr",
     "output_type": "stream",
     "text": [
      "100%|█████████████████████████████████████████████| 1/1 [00:00<00:00, 70.85it/s]\n",
      "100%|█████████████████████████████████████████████| 1/1 [00:00<00:00, 13.25it/s]\n"
     ]
    },
    {
     "name": "stdout",
     "output_type": "stream",
     "text": [
      "I'm not in the place, I'll teleport somewhere else\n"
     ]
    },
    {
     "name": "stderr",
     "output_type": "stream",
     "text": [
      "100%|█████████████████████████████████████████████| 1/1 [00:00<00:00, 66.45it/s]\n",
      "100%|█████████████████████████████████████████████| 1/1 [00:00<00:00, 13.10it/s]\n"
     ]
    },
    {
     "name": "stdout",
     "output_type": "stream",
     "text": [
      "I'm not in the place, I'll teleport somewhere else\n"
     ]
    },
    {
     "name": "stderr",
     "output_type": "stream",
     "text": [
      "100%|█████████████████████████████████████████████| 1/1 [00:00<00:00, 67.37it/s]\n",
      "100%|█████████████████████████████████████████████| 1/1 [00:00<00:00, 13.85it/s]\n"
     ]
    },
    {
     "name": "stdout",
     "output_type": "stream",
     "text": [
      "I'm not in the place, I'll teleport somewhere else\n"
     ]
    },
    {
     "name": "stderr",
     "output_type": "stream",
     "text": [
      "100%|█████████████████████████████████████████████| 1/1 [00:00<00:00, 67.53it/s]\n",
      "100%|█████████████████████████████████████████████| 1/1 [00:00<00:00, 13.64it/s]\n"
     ]
    },
    {
     "name": "stdout",
     "output_type": "stream",
     "text": [
      "I'm not in the place, I'll teleport somewhere else\n"
     ]
    },
    {
     "name": "stderr",
     "output_type": "stream",
     "text": [
      "100%|█████████████████████████████████████████████| 1/1 [00:00<00:00, 46.32it/s]\n",
      "100%|█████████████████████████████████████████████| 1/1 [00:00<00:00, 14.12it/s]\n"
     ]
    },
    {
     "name": "stdout",
     "output_type": "stream",
     "text": [
      "Did not find the place\n",
      "images/22.jpg :: next\n"
     ]
    },
    {
     "name": "stderr",
     "output_type": "stream",
     "text": [
      "100%|█████████████████████████████████████████████| 1/1 [00:00<00:00, 69.43it/s]\n",
      "100%|█████████████████████████████████████████████| 1/1 [00:00<00:00, 13.49it/s]\n",
      "100%|█████████████████████████████████████████████| 1/1 [00:00<00:00, 69.90it/s]\n",
      "100%|█████████████████████████████████████████████| 1/1 [00:00<00:00, 10.94it/s]\n"
     ]
    },
    {
     "name": "stdout",
     "output_type": "stream",
     "text": [
      "I'm not in the place, I'll teleport somewhere else\n"
     ]
    },
    {
     "name": "stderr",
     "output_type": "stream",
     "text": [
      "100%|█████████████████████████████████████████████| 1/1 [00:00<00:00, 54.39it/s]\n",
      "100%|█████████████████████████████████████████████| 1/1 [00:00<00:00, 12.99it/s]\n"
     ]
    },
    {
     "name": "stdout",
     "output_type": "stream",
     "text": [
      "I'm not in the place, I'll teleport somewhere else\n"
     ]
    },
    {
     "name": "stderr",
     "output_type": "stream",
     "text": [
      "100%|█████████████████████████████████████████████| 1/1 [00:00<00:00, 54.37it/s]\n",
      "100%|█████████████████████████████████████████████| 1/1 [00:00<00:00, 13.54it/s]\n",
      "100%|█████████████████████████████████████████████| 1/1 [00:00<00:00, 69.01it/s]\n",
      "100%|█████████████████████████████████████████████| 1/1 [00:00<00:00, 13.17it/s]\n"
     ]
    },
    {
     "name": "stdout",
     "output_type": "stream",
     "text": [
      "I'm not in the place, I'll teleport somewhere else\n"
     ]
    },
    {
     "name": "stderr",
     "output_type": "stream",
     "text": [
      "100%|█████████████████████████████████████████████| 1/1 [00:00<00:00, 71.45it/s]\n",
      "100%|█████████████████████████████████████████████| 1/1 [00:00<00:00, 12.91it/s]\n"
     ]
    },
    {
     "name": "stdout",
     "output_type": "stream",
     "text": [
      "I'm not in the place, I'll teleport somewhere else\n"
     ]
    },
    {
     "name": "stderr",
     "output_type": "stream",
     "text": [
      "100%|█████████████████████████████████████████████| 1/1 [00:00<00:00, 69.01it/s]\n",
      "100%|█████████████████████████████████████████████| 1/1 [00:00<00:00, 13.07it/s]\n"
     ]
    },
    {
     "name": "stdout",
     "output_type": "stream",
     "text": [
      "I'm not in the place, I'll teleport somewhere else\n"
     ]
    },
    {
     "name": "stderr",
     "output_type": "stream",
     "text": [
      "100%|█████████████████████████████████████████████| 1/1 [00:00<00:00, 72.88it/s]\n",
      "100%|█████████████████████████████████████████████| 1/1 [00:00<00:00, 13.34it/s]\n",
      "100%|█████████████████████████████████████████████| 1/1 [00:00<00:00, 69.23it/s]\n",
      "100%|█████████████████████████████████████████████| 1/1 [00:00<00:00, 13.17it/s]\n"
     ]
    },
    {
     "name": "stdout",
     "output_type": "stream",
     "text": [
      "I'm not in the place, I'll teleport somewhere else\n"
     ]
    },
    {
     "name": "stderr",
     "output_type": "stream",
     "text": [
      "100%|█████████████████████████████████████████████| 1/1 [00:00<00:00, 71.85it/s]\n",
      "100%|█████████████████████████████████████████████| 1/1 [00:00<00:00, 13.53it/s]\n",
      "100%|█████████████████████████████████████████████| 1/1 [00:00<00:00, 69.91it/s]\n",
      "100%|█████████████████████████████████████████████| 1/1 [00:00<00:00, 13.63it/s]\n"
     ]
    },
    {
     "name": "stdout",
     "output_type": "stream",
     "text": [
      "I'm not in the place, I'll teleport somewhere else\n"
     ]
    },
    {
     "name": "stderr",
     "output_type": "stream",
     "text": [
      "100%|█████████████████████████████████████████████| 1/1 [00:00<00:00, 72.88it/s]\n",
      "100%|█████████████████████████████████████████████| 1/1 [00:00<00:00, 13.26it/s]\n"
     ]
    },
    {
     "name": "stdout",
     "output_type": "stream",
     "text": [
      "I'm not in the place, I'll teleport somewhere else\n"
     ]
    },
    {
     "name": "stderr",
     "output_type": "stream",
     "text": [
      "100%|█████████████████████████████████████████████| 1/1 [00:00<00:00, 70.40it/s]\n",
      "100%|█████████████████████████████████████████████| 1/1 [00:00<00:00, 12.01it/s]\n"
     ]
    },
    {
     "name": "stdout",
     "output_type": "stream",
     "text": [
      "I'm not in the place, I'll teleport somewhere else\n"
     ]
    },
    {
     "name": "stderr",
     "output_type": "stream",
     "text": [
      "100%|█████████████████████████████████████████████| 1/1 [00:00<00:00, 69.70it/s]\n",
      "100%|█████████████████████████████████████████████| 1/1 [00:00<00:00, 12.96it/s]\n",
      "100%|█████████████████████████████████████████████| 1/1 [00:00<00:00, 68.80it/s]\n",
      "100%|█████████████████████████████████████████████| 1/1 [00:00<00:00, 13.36it/s]\n"
     ]
    },
    {
     "name": "stdout",
     "output_type": "stream",
     "text": [
      "I'm not in the place, I'll teleport somewhere else\n"
     ]
    },
    {
     "name": "stderr",
     "output_type": "stream",
     "text": [
      "100%|█████████████████████████████████████████████| 1/1 [00:00<00:00, 66.78it/s]\n",
      "100%|█████████████████████████████████████████████| 1/1 [00:00<00:00, 13.79it/s]\n"
     ]
    },
    {
     "name": "stdout",
     "output_type": "stream",
     "text": [
      "I'm not in the place, I'll teleport somewhere else\n",
      "Did not find the place\n",
      "images/23.jpg :: next\n"
     ]
    },
    {
     "name": "stderr",
     "output_type": "stream",
     "text": [
      "100%|█████████████████████████████████████████████| 1/1 [00:00<00:00, 69.96it/s]\n",
      "100%|█████████████████████████████████████████████| 1/1 [00:00<00:00, 13.76it/s]\n",
      "100%|█████████████████████████████████████████████| 1/1 [00:00<00:00, 67.39it/s]\n",
      "100%|█████████████████████████████████████████████| 1/1 [00:00<00:00, 12.59it/s]\n",
      "100%|█████████████████████████████████████████████| 1/1 [00:00<00:00, 72.76it/s]\n",
      "100%|█████████████████████████████████████████████| 1/1 [00:00<00:00, 12.71it/s]\n",
      "100%|█████████████████████████████████████████████| 1/1 [00:00<00:00, 71.21it/s]\n",
      "100%|█████████████████████████████████████████████| 1/1 [00:00<00:00, 13.34it/s]\n",
      "100%|█████████████████████████████████████████████| 1/1 [00:00<00:00, 65.81it/s]\n",
      "100%|█████████████████████████████████████████████| 1/1 [00:00<00:00, 13.75it/s]\n",
      "100%|█████████████████████████████████████████████| 1/1 [00:00<00:00, 68.97it/s]\n",
      "100%|█████████████████████████████████████████████| 1/1 [00:00<00:00, 13.22it/s]\n",
      "100%|█████████████████████████████████████████████| 1/1 [00:00<00:00, 68.80it/s]\n",
      "100%|█████████████████████████████████████████████| 1/1 [00:00<00:00, 11.83it/s]\n",
      "100%|█████████████████████████████████████████████| 1/1 [00:00<00:00, 71.91it/s]\n",
      "100%|█████████████████████████████████████████████| 1/1 [00:00<00:00, 13.60it/s]\n",
      "100%|█████████████████████████████████████████████| 1/1 [00:00<00:00, 66.65it/s]\n",
      "100%|█████████████████████████████████████████████| 1/1 [00:00<00:00, 13.14it/s]\n",
      "100%|█████████████████████████████████████████████| 1/1 [00:00<00:00, 64.63it/s]\n",
      "100%|█████████████████████████████████████████████| 1/1 [00:00<00:00, 13.28it/s]\n",
      "100%|█████████████████████████████████████████████| 1/1 [00:00<00:00, 68.69it/s]\n",
      "100%|█████████████████████████████████████████████| 1/1 [00:00<00:00, 13.30it/s]\n",
      "100%|█████████████████████████████████████████████| 1/1 [00:00<00:00, 41.91it/s]\n",
      "100%|█████████████████████████████████████████████| 1/1 [00:00<00:00, 12.22it/s]\n",
      "100%|█████████████████████████████████████████████| 1/1 [00:00<00:00, 71.74it/s]\n",
      "100%|█████████████████████████████████████████████| 1/1 [00:00<00:00, 14.06it/s]\n",
      "100%|█████████████████████████████████████████████| 1/1 [00:00<00:00, 70.46it/s]\n",
      "100%|█████████████████████████████████████████████| 1/1 [00:00<00:00, 13.49it/s]\n",
      "100%|█████████████████████████████████████████████| 1/1 [00:00<00:00, 61.63it/s]\n",
      "100%|█████████████████████████████████████████████| 1/1 [00:00<00:00, 13.33it/s]\n",
      "100%|█████████████████████████████████████████████| 1/1 [00:00<00:00, 70.92it/s]\n",
      "100%|█████████████████████████████████████████████| 1/1 [00:00<00:00, 13.60it/s]\n"
     ]
    },
    {
     "name": "stdout",
     "output_type": "stream",
     "text": [
      "Did not find the place\n",
      "images/24.jpg :: next\n"
     ]
    },
    {
     "name": "stderr",
     "output_type": "stream",
     "text": [
      "100%|█████████████████████████████████████████████| 1/1 [00:00<00:00, 69.04it/s]\n",
      "100%|█████████████████████████████████████████████| 1/1 [00:00<00:00, 12.08it/s]\n",
      "100%|█████████████████████████████████████████████| 1/1 [00:00<00:00, 69.05it/s]\n",
      "100%|█████████████████████████████████████████████| 1/1 [00:00<00:00, 12.13it/s]\n",
      "100%|█████████████████████████████████████████████| 1/1 [00:00<00:00, 69.65it/s]\n",
      "100%|█████████████████████████████████████████████| 1/1 [00:00<00:00, 12.39it/s]\n"
     ]
    },
    {
     "name": "stdout",
     "output_type": "stream",
     "text": [
      "I'm not in the place, I'll teleport somewhere else\n"
     ]
    },
    {
     "name": "stderr",
     "output_type": "stream",
     "text": [
      "100%|█████████████████████████████████████████████| 1/1 [00:00<00:00, 37.58it/s]\n",
      "100%|█████████████████████████████████████████████| 1/1 [00:00<00:00, 11.93it/s]\n",
      "100%|█████████████████████████████████████████████| 1/1 [00:00<00:00, 68.05it/s]\n",
      "100%|█████████████████████████████████████████████| 1/1 [00:00<00:00, 11.67it/s]\n",
      "100%|█████████████████████████████████████████████| 1/1 [00:00<00:00, 69.40it/s]\n",
      "100%|█████████████████████████████████████████████| 1/1 [00:00<00:00, 13.77it/s]\n",
      "100%|█████████████████████████████████████████████| 1/1 [00:00<00:00, 65.56it/s]\n",
      "100%|█████████████████████████████████████████████| 1/1 [00:00<00:00, 13.32it/s]\n"
     ]
    },
    {
     "name": "stdout",
     "output_type": "stream",
     "text": [
      "I'm not in the place, I'll teleport somewhere else\n"
     ]
    },
    {
     "name": "stderr",
     "output_type": "stream",
     "text": [
      "100%|█████████████████████████████████████████████| 1/1 [00:00<00:00, 66.57it/s]\n",
      "100%|█████████████████████████████████████████████| 1/1 [00:00<00:00, 12.90it/s]\n"
     ]
    },
    {
     "name": "stdout",
     "output_type": "stream",
     "text": [
      "I'm not in the place, I'll teleport somewhere else\n"
     ]
    },
    {
     "name": "stderr",
     "output_type": "stream",
     "text": [
      "100%|█████████████████████████████████████████████| 1/1 [00:00<00:00, 68.30it/s]\n",
      "100%|█████████████████████████████████████████████| 1/1 [00:00<00:00, 12.72it/s]\n"
     ]
    },
    {
     "name": "stdout",
     "output_type": "stream",
     "text": [
      "I'm not in the place, I'll teleport somewhere else\n"
     ]
    },
    {
     "name": "stderr",
     "output_type": "stream",
     "text": [
      "100%|█████████████████████████████████████████████| 1/1 [00:00<00:00, 67.57it/s]\n",
      "100%|█████████████████████████████████████████████| 1/1 [00:00<00:00, 13.35it/s]\n",
      "100%|█████████████████████████████████████████████| 1/1 [00:00<00:00, 72.07it/s]\n",
      "100%|█████████████████████████████████████████████| 1/1 [00:00<00:00, 12.60it/s]\n",
      "100%|█████████████████████████████████████████████| 1/1 [00:00<00:00, 66.56it/s]\n",
      "100%|█████████████████████████████████████████████| 1/1 [00:00<00:00, 13.21it/s]\n"
     ]
    },
    {
     "name": "stdout",
     "output_type": "stream",
     "text": [
      "I'm not in the place, I'll teleport somewhere else\n"
     ]
    },
    {
     "name": "stderr",
     "output_type": "stream",
     "text": [
      "100%|█████████████████████████████████████████████| 1/1 [00:00<00:00, 66.81it/s]\n",
      "100%|█████████████████████████████████████████████| 1/1 [00:00<00:00, 12.76it/s]\n",
      "100%|█████████████████████████████████████████████| 1/1 [00:00<00:00, 67.24it/s]\n",
      "100%|█████████████████████████████████████████████| 1/1 [00:00<00:00, 12.51it/s]\n",
      "100%|█████████████████████████████████████████████| 1/1 [00:00<00:00, 70.19it/s]\n",
      "100%|█████████████████████████████████████████████| 1/1 [00:00<00:00, 12.41it/s]\n"
     ]
    },
    {
     "name": "stdout",
     "output_type": "stream",
     "text": [
      "I'm not in the place, I'll teleport somewhere else\n"
     ]
    },
    {
     "name": "stderr",
     "output_type": "stream",
     "text": [
      "100%|█████████████████████████████████████████████| 1/1 [00:00<00:00, 69.81it/s]\n",
      "100%|█████████████████████████████████████████████| 1/1 [00:00<00:00, 13.22it/s]\n"
     ]
    },
    {
     "name": "stdout",
     "output_type": "stream",
     "text": [
      "Did not find the place\n",
      "images/25.jpg :: next\n"
     ]
    },
    {
     "name": "stderr",
     "output_type": "stream",
     "text": [
      "100%|█████████████████████████████████████████████| 1/1 [00:00<00:00, 70.56it/s]\n",
      "100%|█████████████████████████████████████████████| 1/1 [00:00<00:00, 13.00it/s]\n",
      "100%|█████████████████████████████████████████████| 1/1 [00:00<00:00, 68.66it/s]\n",
      "100%|█████████████████████████████████████████████| 1/1 [00:00<00:00, 13.48it/s]\n"
     ]
    },
    {
     "name": "stdout",
     "output_type": "stream",
     "text": [
      "I'm not in the place, I'll teleport somewhere else\n"
     ]
    },
    {
     "name": "stderr",
     "output_type": "stream",
     "text": [
      "100%|█████████████████████████████████████████████| 1/1 [00:00<00:00, 70.69it/s]\n",
      "100%|█████████████████████████████████████████████| 1/1 [00:00<00:00, 12.52it/s]\n",
      "100%|█████████████████████████████████████████████| 1/1 [00:00<00:00, 75.63it/s]\n",
      "100%|█████████████████████████████████████████████| 1/1 [00:00<00:00, 13.12it/s]\n"
     ]
    },
    {
     "name": "stdout",
     "output_type": "stream",
     "text": [
      "I'm not in the place, I'll teleport somewhere else\n"
     ]
    },
    {
     "name": "stderr",
     "output_type": "stream",
     "text": [
      "100%|█████████████████████████████████████████████| 1/1 [00:00<00:00, 53.88it/s]\n",
      "100%|█████████████████████████████████████████████| 1/1 [00:00<00:00, 12.48it/s]\n",
      "100%|█████████████████████████████████████████████| 1/1 [00:00<00:00, 73.71it/s]\n",
      "100%|█████████████████████████████████████████████| 1/1 [00:00<00:00, 12.04it/s]\n"
     ]
    },
    {
     "name": "stdout",
     "output_type": "stream",
     "text": [
      "I'm not in the place, I'll teleport somewhere else\n"
     ]
    },
    {
     "name": "stderr",
     "output_type": "stream",
     "text": [
      "100%|█████████████████████████████████████████████| 1/1 [00:00<00:00, 72.46it/s]\n",
      "100%|█████████████████████████████████████████████| 1/1 [00:00<00:00, 12.37it/s]\n"
     ]
    },
    {
     "name": "stdout",
     "output_type": "stream",
     "text": [
      "I'm not in the place, I'll teleport somewhere else\n"
     ]
    },
    {
     "name": "stderr",
     "output_type": "stream",
     "text": [
      "100%|█████████████████████████████████████████████| 1/1 [00:00<00:00, 38.36it/s]\n",
      "100%|█████████████████████████████████████████████| 1/1 [00:00<00:00, 13.03it/s]\n"
     ]
    },
    {
     "name": "stdout",
     "output_type": "stream",
     "text": [
      "I'm not in the place, I'll teleport somewhere else\n"
     ]
    },
    {
     "name": "stderr",
     "output_type": "stream",
     "text": [
      "100%|█████████████████████████████████████████████| 1/1 [00:00<00:00, 67.19it/s]\n",
      "100%|█████████████████████████████████████████████| 1/1 [00:00<00:00, 12.71it/s]\n",
      "100%|█████████████████████████████████████████████| 1/1 [00:00<00:00, 68.15it/s]\n",
      "100%|█████████████████████████████████████████████| 1/1 [00:00<00:00, 12.87it/s]\n"
     ]
    },
    {
     "name": "stdout",
     "output_type": "stream",
     "text": [
      "I'm not in the place, I'll teleport somewhere else\n"
     ]
    },
    {
     "name": "stderr",
     "output_type": "stream",
     "text": [
      "100%|█████████████████████████████████████████████| 1/1 [00:00<00:00, 72.58it/s]\n",
      "100%|█████████████████████████████████████████████| 1/1 [00:00<00:00, 13.08it/s]\n",
      "100%|█████████████████████████████████████████████| 1/1 [00:00<00:00, 71.85it/s]\n",
      "100%|█████████████████████████████████████████████| 1/1 [00:00<00:00, 11.56it/s]\n",
      "100%|█████████████████████████████████████████████| 1/1 [00:00<00:00, 67.60it/s]\n",
      "100%|█████████████████████████████████████████████| 1/1 [00:00<00:00, 12.94it/s]\n",
      "100%|█████████████████████████████████████████████| 1/1 [00:00<00:00, 70.84it/s]\n",
      "100%|█████████████████████████████████████████████| 1/1 [00:00<00:00, 13.14it/s]\n"
     ]
    },
    {
     "name": "stdout",
     "output_type": "stream",
     "text": [
      "I'm not in the place, I'll teleport somewhere else\n"
     ]
    },
    {
     "name": "stderr",
     "output_type": "stream",
     "text": [
      "100%|█████████████████████████████████████████████| 1/1 [00:00<00:00, 70.78it/s]\n",
      "100%|█████████████████████████████████████████████| 1/1 [00:00<00:00, 12.98it/s]\n",
      "100%|█████████████████████████████████████████████| 1/1 [00:00<00:00, 69.07it/s]\n",
      "100%|█████████████████████████████████████████████| 1/1 [00:00<00:00, 13.42it/s]\n"
     ]
    },
    {
     "name": "stdout",
     "output_type": "stream",
     "text": [
      "I'm not in the place, I'll teleport somewhere else\n",
      "Did not find the place\n",
      "images/26.jpg :: next\n"
     ]
    },
    {
     "name": "stderr",
     "output_type": "stream",
     "text": [
      "100%|█████████████████████████████████████████████| 1/1 [00:00<00:00, 60.67it/s]\n",
      "100%|█████████████████████████████████████████████| 1/1 [00:00<00:00, 12.99it/s]\n",
      "100%|█████████████████████████████████████████████| 1/1 [00:00<00:00, 70.29it/s]\n",
      "100%|█████████████████████████████████████████████| 1/1 [00:00<00:00, 13.08it/s]\n",
      "100%|█████████████████████████████████████████████| 1/1 [00:00<00:00, 71.92it/s]\n",
      "100%|█████████████████████████████████████████████| 1/1 [00:00<00:00, 13.23it/s]\n",
      "100%|█████████████████████████████████████████████| 1/1 [00:00<00:00, 42.50it/s]\n",
      "100%|█████████████████████████████████████████████| 1/1 [00:00<00:00, 13.08it/s]\n"
     ]
    },
    {
     "name": "stdout",
     "output_type": "stream",
     "text": [
      "I'm not in the place, I'll teleport somewhere else\n"
     ]
    },
    {
     "name": "stderr",
     "output_type": "stream",
     "text": [
      "100%|█████████████████████████████████████████████| 1/1 [00:00<00:00, 68.72it/s]\n",
      "100%|█████████████████████████████████████████████| 1/1 [00:00<00:00, 11.79it/s]\n"
     ]
    },
    {
     "name": "stdout",
     "output_type": "stream",
     "text": [
      "I'm not in the place, I'll teleport somewhere else\n"
     ]
    },
    {
     "name": "stderr",
     "output_type": "stream",
     "text": [
      "100%|█████████████████████████████████████████████| 1/1 [00:00<00:00, 72.82it/s]\n",
      "100%|█████████████████████████████████████████████| 1/1 [00:00<00:00, 13.01it/s]\n",
      "100%|█████████████████████████████████████████████| 1/1 [00:00<00:00, 38.87it/s]\n",
      "100%|█████████████████████████████████████████████| 1/1 [00:00<00:00, 13.02it/s]\n"
     ]
    },
    {
     "name": "stdout",
     "output_type": "stream",
     "text": [
      "I'm not in the place, I'll teleport somewhere else\n"
     ]
    },
    {
     "name": "stderr",
     "output_type": "stream",
     "text": [
      "100%|█████████████████████████████████████████████| 1/1 [00:00<00:00, 68.91it/s]\n",
      "100%|█████████████████████████████████████████████| 1/1 [00:00<00:00, 13.04it/s]\n"
     ]
    },
    {
     "name": "stdout",
     "output_type": "stream",
     "text": [
      "I'm not in the place, I'll teleport somewhere else\n"
     ]
    },
    {
     "name": "stderr",
     "output_type": "stream",
     "text": [
      "100%|█████████████████████████████████████████████| 1/1 [00:00<00:00, 61.01it/s]\n",
      "100%|█████████████████████████████████████████████| 1/1 [00:00<00:00, 12.47it/s]\n"
     ]
    },
    {
     "name": "stdout",
     "output_type": "stream",
     "text": [
      "I'm not in the place, I'll teleport somewhere else\n"
     ]
    },
    {
     "name": "stderr",
     "output_type": "stream",
     "text": [
      "100%|█████████████████████████████████████████████| 1/1 [00:00<00:00, 68.40it/s]\n",
      "100%|█████████████████████████████████████████████| 1/1 [00:00<00:00, 12.64it/s]\n",
      "100%|█████████████████████████████████████████████| 1/1 [00:00<00:00, 69.27it/s]\n",
      "100%|█████████████████████████████████████████████| 1/1 [00:00<00:00, 12.23it/s]\n",
      "100%|█████████████████████████████████████████████| 1/1 [00:00<00:00, 72.31it/s]\n",
      "100%|█████████████████████████████████████████████| 1/1 [00:00<00:00, 11.65it/s]\n"
     ]
    },
    {
     "name": "stdout",
     "output_type": "stream",
     "text": [
      "I'm not in the place, I'll teleport somewhere else\n"
     ]
    },
    {
     "name": "stderr",
     "output_type": "stream",
     "text": [
      "100%|█████████████████████████████████████████████| 1/1 [00:00<00:00, 67.44it/s]\n",
      "100%|█████████████████████████████████████████████| 1/1 [00:00<00:00, 13.32it/s]\n"
     ]
    },
    {
     "name": "stdout",
     "output_type": "stream",
     "text": [
      "I'm not in the place, I'll teleport somewhere else\n"
     ]
    },
    {
     "name": "stderr",
     "output_type": "stream",
     "text": [
      "100%|█████████████████████████████████████████████| 1/1 [00:00<00:00, 67.59it/s]\n",
      "100%|█████████████████████████████████████████████| 1/1 [00:00<00:00, 13.29it/s]\n",
      "100%|█████████████████████████████████████████████| 1/1 [00:00<00:00, 70.05it/s]\n",
      "100%|█████████████████████████████████████████████| 1/1 [00:00<00:00, 13.10it/s]\n"
     ]
    },
    {
     "name": "stdout",
     "output_type": "stream",
     "text": [
      "Close to the object, but i will rotate so we might find it.\n"
     ]
    },
    {
     "name": "stderr",
     "output_type": "stream",
     "text": [
      "100%|█████████████████████████████████████████████| 1/1 [00:00<00:00, 70.05it/s]\n",
      "100%|█████████████████████████████████████████████| 1/1 [00:00<00:00, 12.51it/s]\n"
     ]
    },
    {
     "name": "stdout",
     "output_type": "stream",
     "text": [
      "Did not find the place\n",
      "images/27.jpg :: next\n"
     ]
    },
    {
     "name": "stderr",
     "output_type": "stream",
     "text": [
      "100%|█████████████████████████████████████████████| 1/1 [00:00<00:00, 62.22it/s]\n",
      "100%|█████████████████████████████████████████████| 1/1 [00:00<00:00, 12.73it/s]\n",
      "100%|█████████████████████████████████████████████| 1/1 [00:00<00:00, 72.41it/s]\n",
      "100%|█████████████████████████████████████████████| 1/1 [00:00<00:00, 12.35it/s]\n"
     ]
    },
    {
     "name": "stdout",
     "output_type": "stream",
     "text": [
      "I'm not in the place, I'll teleport somewhere else\n"
     ]
    },
    {
     "name": "stderr",
     "output_type": "stream",
     "text": [
      "100%|█████████████████████████████████████████████| 1/1 [00:00<00:00, 67.65it/s]\n",
      "100%|█████████████████████████████████████████████| 1/1 [00:00<00:00, 12.85it/s]\n",
      "100%|█████████████████████████████████████████████| 1/1 [00:00<00:00, 69.42it/s]\n",
      "100%|█████████████████████████████████████████████| 1/1 [00:00<00:00, 12.97it/s]\n"
     ]
    },
    {
     "name": "stdout",
     "output_type": "stream",
     "text": [
      "Close to the object, but i will rotate so we might find it.\n"
     ]
    },
    {
     "name": "stderr",
     "output_type": "stream",
     "text": [
      "100%|█████████████████████████████████████████████| 1/1 [00:00<00:00, 69.61it/s]\n",
      "100%|█████████████████████████████████████████████| 1/1 [00:00<00:00, 12.76it/s]\n",
      "100%|█████████████████████████████████████████████| 1/1 [00:00<00:00, 66.64it/s]\n",
      "100%|█████████████████████████████████████████████| 1/1 [00:00<00:00, 10.30it/s]\n"
     ]
    },
    {
     "name": "stdout",
     "output_type": "stream",
     "text": [
      "I'm not in the place, I'll teleport somewhere else\n"
     ]
    },
    {
     "name": "stderr",
     "output_type": "stream",
     "text": [
      "100%|█████████████████████████████████████████████| 1/1 [00:00<00:00, 67.13it/s]\n",
      "100%|█████████████████████████████████████████████| 1/1 [00:00<00:00, 13.04it/s]\n"
     ]
    },
    {
     "name": "stdout",
     "output_type": "stream",
     "text": [
      "Close to the object, but i will rotate so we might find it.\n"
     ]
    },
    {
     "name": "stderr",
     "output_type": "stream",
     "text": [
      "100%|█████████████████████████████████████████████| 1/1 [00:00<00:00, 63.18it/s]\n",
      "100%|█████████████████████████████████████████████| 1/1 [00:00<00:00, 12.97it/s]\n"
     ]
    },
    {
     "name": "stdout",
     "output_type": "stream",
     "text": [
      "Cosine Similarity Score: 0.97331744\n",
      "I'm in the place\n",
      "Results saved in DataFrame.\n",
      "images/28.jpg :: next\n"
     ]
    },
    {
     "name": "stderr",
     "output_type": "stream",
     "text": [
      "100%|█████████████████████████████████████████████| 1/1 [00:00<00:00, 68.04it/s]\n",
      "100%|█████████████████████████████████████████████| 1/1 [00:00<00:00, 12.78it/s]\n",
      "100%|█████████████████████████████████████████████| 1/1 [00:00<00:00, 70.68it/s]\n",
      "100%|█████████████████████████████████████████████| 1/1 [00:00<00:00, 11.76it/s]\n"
     ]
    },
    {
     "name": "stdout",
     "output_type": "stream",
     "text": [
      "Cosine Similarity Score: 0.99916226\n",
      "I'm in the place\n",
      "Results saved in DataFrame.\n",
      "images/29.jpg :: next\n"
     ]
    },
    {
     "name": "stderr",
     "output_type": "stream",
     "text": [
      "100%|█████████████████████████████████████████████| 1/1 [00:00<00:00, 63.03it/s]\n",
      "100%|█████████████████████████████████████████████| 1/1 [00:00<00:00, 13.23it/s]\n",
      "100%|█████████████████████████████████████████████| 1/1 [00:00<00:00, 69.14it/s]\n",
      "100%|█████████████████████████████████████████████| 1/1 [00:00<00:00, 12.79it/s]\n",
      "100%|█████████████████████████████████████████████| 1/1 [00:00<00:00, 68.41it/s]\n",
      "100%|█████████████████████████████████████████████| 1/1 [00:00<00:00, 12.26it/s]\n",
      "100%|█████████████████████████████████████████████| 1/1 [00:00<00:00, 37.48it/s]\n",
      "100%|█████████████████████████████████████████████| 1/1 [00:00<00:00, 12.17it/s]\n"
     ]
    },
    {
     "name": "stdout",
     "output_type": "stream",
     "text": [
      "Close to the object, but i will rotate so we might find it.\n"
     ]
    },
    {
     "name": "stderr",
     "output_type": "stream",
     "text": [
      "100%|█████████████████████████████████████████████| 1/1 [00:00<00:00, 65.07it/s]\n",
      "100%|█████████████████████████████████████████████| 1/1 [00:00<00:00, 12.41it/s]\n",
      "100%|█████████████████████████████████████████████| 1/1 [00:00<00:00, 67.34it/s]\n",
      "100%|█████████████████████████████████████████████| 1/1 [00:00<00:00, 12.99it/s]\n",
      "100%|█████████████████████████████████████████████| 1/1 [00:00<00:00, 63.43it/s]\n",
      "100%|█████████████████████████████████████████████| 1/1 [00:00<00:00, 15.91it/s]\n",
      "100%|█████████████████████████████████████████████| 1/1 [00:00<00:00, 67.58it/s]\n",
      "100%|█████████████████████████████████████████████| 1/1 [00:00<00:00, 12.53it/s]\n",
      "100%|█████████████████████████████████████████████| 1/1 [00:00<00:00, 66.58it/s]\n",
      "100%|█████████████████████████████████████████████| 1/1 [00:00<00:00, 13.74it/s]\n",
      "100%|█████████████████████████████████████████████| 1/1 [00:00<00:00, 66.93it/s]\n",
      "100%|█████████████████████████████████████████████| 1/1 [00:00<00:00, 12.71it/s]\n"
     ]
    },
    {
     "name": "stdout",
     "output_type": "stream",
     "text": [
      "Close to the object, but i will rotate so we might find it.\n"
     ]
    },
    {
     "name": "stderr",
     "output_type": "stream",
     "text": [
      "100%|█████████████████████████████████████████████| 1/1 [00:00<00:00, 66.18it/s]\n",
      "100%|█████████████████████████████████████████████| 1/1 [00:00<00:00, 12.34it/s]\n",
      "100%|█████████████████████████████████████████████| 1/1 [00:00<00:00, 72.35it/s]\n",
      "100%|█████████████████████████████████████████████| 1/1 [00:00<00:00, 13.60it/s]\n",
      "100%|█████████████████████████████████████████████| 1/1 [00:00<00:00, 73.32it/s]\n",
      "100%|█████████████████████████████████████████████| 1/1 [00:00<00:00, 13.16it/s]\n",
      "100%|█████████████████████████████████████████████| 1/1 [00:00<00:00, 58.70it/s]\n",
      "100%|█████████████████████████████████████████████| 1/1 [00:00<00:00, 13.35it/s]\n",
      "100%|█████████████████████████████████████████████| 1/1 [00:00<00:00, 70.32it/s]\n",
      "100%|█████████████████████████████████████████████| 1/1 [00:00<00:00, 11.98it/s]\n",
      "100%|█████████████████████████████████████████████| 1/1 [00:00<00:00, 64.96it/s]\n",
      "100%|█████████████████████████████████████████████| 1/1 [00:00<00:00, 11.97it/s]\n"
     ]
    },
    {
     "name": "stdout",
     "output_type": "stream",
     "text": [
      "Cosine Similarity Score: 0.94831866\n",
      "I'm in the place\n",
      "Results saved in DataFrame.\n",
      "images/30.jpg :: next\n"
     ]
    },
    {
     "name": "stderr",
     "output_type": "stream",
     "text": [
      "100%|█████████████████████████████████████████████| 1/1 [00:00<00:00, 66.88it/s]\n",
      "100%|█████████████████████████████████████████████| 1/1 [00:00<00:00, 11.83it/s]\n",
      "100%|█████████████████████████████████████████████| 1/1 [00:00<00:00, 71.56it/s]\n",
      "100%|█████████████████████████████████████████████| 1/1 [00:00<00:00, 12.19it/s]\n",
      "100%|█████████████████████████████████████████████| 1/1 [00:00<00:00, 69.27it/s]\n",
      "100%|█████████████████████████████████████████████| 1/1 [00:00<00:00, 13.38it/s]\n",
      "100%|█████████████████████████████████████████████| 1/1 [00:00<00:00, 65.37it/s]\n",
      "100%|█████████████████████████████████████████████| 1/1 [00:00<00:00, 13.14it/s]\n"
     ]
    },
    {
     "name": "stdout",
     "output_type": "stream",
     "text": [
      "I'm not in the place, I'll teleport somewhere else\n"
     ]
    },
    {
     "name": "stderr",
     "output_type": "stream",
     "text": [
      "100%|█████████████████████████████████████████████| 1/1 [00:00<00:00, 64.37it/s]\n",
      "100%|█████████████████████████████████████████████| 1/1 [00:00<00:00, 13.37it/s]\n"
     ]
    },
    {
     "name": "stdout",
     "output_type": "stream",
     "text": [
      "I'm not in the place, I'll teleport somewhere else\n"
     ]
    },
    {
     "name": "stderr",
     "output_type": "stream",
     "text": [
      "100%|█████████████████████████████████████████████| 1/1 [00:00<00:00, 72.95it/s]\n",
      "100%|█████████████████████████████████████████████| 1/1 [00:00<00:00, 12.74it/s]\n",
      "100%|█████████████████████████████████████████████| 1/1 [00:00<00:00, 68.42it/s]\n",
      "100%|█████████████████████████████████████████████| 1/1 [00:00<00:00, 12.99it/s]\n",
      "100%|█████████████████████████████████████████████| 1/1 [00:00<00:00, 68.16it/s]\n",
      "100%|█████████████████████████████████████████████| 1/1 [00:00<00:00, 13.25it/s]\n",
      "100%|█████████████████████████████████████████████| 1/1 [00:00<00:00, 60.46it/s]\n",
      "100%|█████████████████████████████████████████████| 1/1 [00:00<00:00, 13.92it/s]\n"
     ]
    },
    {
     "name": "stdout",
     "output_type": "stream",
     "text": [
      "Close to the object, but i will rotate so we might find it.\n"
     ]
    },
    {
     "name": "stderr",
     "output_type": "stream",
     "text": [
      "100%|█████████████████████████████████████████████| 1/1 [00:00<00:00, 67.27it/s]\n",
      "100%|█████████████████████████████████████████████| 1/1 [00:00<00:00, 13.21it/s]\n"
     ]
    },
    {
     "name": "stdout",
     "output_type": "stream",
     "text": [
      "I'm not in the place, I'll teleport somewhere else\n"
     ]
    },
    {
     "name": "stderr",
     "output_type": "stream",
     "text": [
      "100%|█████████████████████████████████████████████| 1/1 [00:00<00:00, 70.08it/s]\n",
      "100%|█████████████████████████████████████████████| 1/1 [00:00<00:00, 12.44it/s]\n"
     ]
    },
    {
     "name": "stdout",
     "output_type": "stream",
     "text": [
      "I'm not in the place, I'll teleport somewhere else\n"
     ]
    },
    {
     "name": "stderr",
     "output_type": "stream",
     "text": [
      "100%|█████████████████████████████████████████████| 1/1 [00:00<00:00, 65.16it/s]\n",
      "100%|█████████████████████████████████████████████| 1/1 [00:00<00:00, 11.92it/s]\n"
     ]
    },
    {
     "name": "stdout",
     "output_type": "stream",
     "text": [
      "Close to the object, but i will rotate so we might find it.\n"
     ]
    },
    {
     "name": "stderr",
     "output_type": "stream",
     "text": [
      "100%|█████████████████████████████████████████████| 1/1 [00:00<00:00, 63.36it/s]\n",
      "100%|█████████████████████████████████████████████| 1/1 [00:00<00:00, 12.36it/s]\n"
     ]
    },
    {
     "name": "stdout",
     "output_type": "stream",
     "text": [
      "I'm not in the place, I'll teleport somewhere else\n"
     ]
    },
    {
     "name": "stderr",
     "output_type": "stream",
     "text": [
      "100%|█████████████████████████████████████████████| 1/1 [00:00<00:00, 70.76it/s]\n",
      "100%|█████████████████████████████████████████████| 1/1 [00:00<00:00, 13.11it/s]\n",
      "100%|█████████████████████████████████████████████| 1/1 [00:00<00:00, 68.30it/s]\n",
      "100%|█████████████████████████████████████████████| 1/1 [00:00<00:00, 12.06it/s]\n"
     ]
    },
    {
     "name": "stdout",
     "output_type": "stream",
     "text": [
      "I'm not in the place, I'll teleport somewhere else\n"
     ]
    },
    {
     "name": "stderr",
     "output_type": "stream",
     "text": [
      "100%|█████████████████████████████████████████████| 1/1 [00:00<00:00, 68.25it/s]\n",
      "100%|█████████████████████████████████████████████| 1/1 [00:00<00:00, 12.73it/s]\n"
     ]
    },
    {
     "name": "stdout",
     "output_type": "stream",
     "text": [
      "Did not find the place\n",
      "images/31.jpg :: next\n"
     ]
    },
    {
     "name": "stderr",
     "output_type": "stream",
     "text": [
      "100%|█████████████████████████████████████████████| 1/1 [00:00<00:00, 70.43it/s]\n",
      "100%|█████████████████████████████████████████████| 1/1 [00:00<00:00, 11.78it/s]\n",
      "100%|█████████████████████████████████████████████| 1/1 [00:00<00:00, 71.97it/s]\n",
      "100%|█████████████████████████████████████████████| 1/1 [00:00<00:00, 13.56it/s]\n",
      "100%|█████████████████████████████████████████████| 1/1 [00:00<00:00, 71.15it/s]\n",
      "100%|█████████████████████████████████████████████| 1/1 [00:00<00:00, 14.93it/s]\n",
      "100%|█████████████████████████████████████████████| 1/1 [00:00<00:00, 66.09it/s]\n",
      "100%|█████████████████████████████████████████████| 1/1 [00:00<00:00, 16.03it/s]\n",
      "100%|█████████████████████████████████████████████| 1/1 [00:00<00:00, 68.31it/s]\n",
      "100%|█████████████████████████████████████████████| 1/1 [00:00<00:00, 13.25it/s]\n",
      "100%|█████████████████████████████████████████████| 1/1 [00:00<00:00, 70.84it/s]\n",
      "100%|█████████████████████████████████████████████| 1/1 [00:00<00:00, 16.03it/s]\n",
      "100%|█████████████████████████████████████████████| 1/1 [00:00<00:00, 68.06it/s]\n",
      "100%|█████████████████████████████████████████████| 1/1 [00:00<00:00, 15.30it/s]\n",
      "100%|█████████████████████████████████████████████| 1/1 [00:00<00:00, 66.00it/s]\n",
      "100%|█████████████████████████████████████████████| 1/1 [00:00<00:00, 12.66it/s]\n",
      "100%|█████████████████████████████████████████████| 1/1 [00:00<00:00, 64.91it/s]\n",
      "100%|█████████████████████████████████████████████| 1/1 [00:00<00:00, 14.28it/s]\n",
      "100%|█████████████████████████████████████████████| 1/1 [00:00<00:00, 70.18it/s]\n",
      "100%|█████████████████████████████████████████████| 1/1 [00:00<00:00, 13.86it/s]\n",
      "100%|█████████████████████████████████████████████| 1/1 [00:00<00:00, 68.00it/s]\n",
      "100%|█████████████████████████████████████████████| 1/1 [00:00<00:00, 13.89it/s]\n",
      "100%|█████████████████████████████████████████████| 1/1 [00:00<00:00, 67.16it/s]\n",
      "100%|█████████████████████████████████████████████| 1/1 [00:00<00:00, 13.32it/s]\n"
     ]
    },
    {
     "name": "stdout",
     "output_type": "stream",
     "text": [
      "Cosine Similarity Score: 0.9831917\n",
      "I'm in the place\n",
      "Results saved in DataFrame.\n",
      "images/32.jpg :: next\n"
     ]
    },
    {
     "name": "stderr",
     "output_type": "stream",
     "text": [
      "100%|█████████████████████████████████████████████| 1/1 [00:00<00:00, 70.52it/s]\n",
      "100%|█████████████████████████████████████████████| 1/1 [00:00<00:00, 13.01it/s]\n",
      "100%|█████████████████████████████████████████████| 1/1 [00:00<00:00, 68.36it/s]\n",
      "100%|█████████████████████████████████████████████| 1/1 [00:00<00:00, 12.41it/s]\n",
      "100%|█████████████████████████████████████████████| 1/1 [00:00<00:00, 69.12it/s]\n",
      "100%|█████████████████████████████████████████████| 1/1 [00:00<00:00, 12.41it/s]\n",
      "100%|█████████████████████████████████████████████| 1/1 [00:00<00:00, 73.87it/s]\n",
      "100%|█████████████████████████████████████████████| 1/1 [00:00<00:00, 13.91it/s]\n"
     ]
    },
    {
     "name": "stdout",
     "output_type": "stream",
     "text": [
      "I'm not in the place, I'll teleport somewhere else\n"
     ]
    },
    {
     "name": "stderr",
     "output_type": "stream",
     "text": [
      "100%|█████████████████████████████████████████████| 1/1 [00:00<00:00, 70.93it/s]\n",
      "100%|█████████████████████████████████████████████| 1/1 [00:00<00:00, 12.91it/s]\n",
      "100%|█████████████████████████████████████████████| 1/1 [00:00<00:00, 70.72it/s]\n",
      "100%|█████████████████████████████████████████████| 1/1 [00:00<00:00, 12.95it/s]\n"
     ]
    },
    {
     "name": "stdout",
     "output_type": "stream",
     "text": [
      "Close to the object, but i will rotate so we might find it.\n"
     ]
    },
    {
     "name": "stderr",
     "output_type": "stream",
     "text": [
      "100%|█████████████████████████████████████████████| 1/1 [00:00<00:00, 69.49it/s]\n",
      "100%|█████████████████████████████████████████████| 1/1 [00:00<00:00, 13.78it/s]\n"
     ]
    },
    {
     "name": "stdout",
     "output_type": "stream",
     "text": [
      "I'm not in the place, I'll teleport somewhere else\n"
     ]
    },
    {
     "name": "stderr",
     "output_type": "stream",
     "text": [
      "100%|█████████████████████████████████████████████| 1/1 [00:00<00:00, 68.12it/s]\n",
      "100%|█████████████████████████████████████████████| 1/1 [00:00<00:00, 12.57it/s]\n"
     ]
    },
    {
     "name": "stdout",
     "output_type": "stream",
     "text": [
      "Close to the object, but i will rotate so we might find it.\n"
     ]
    },
    {
     "name": "stderr",
     "output_type": "stream",
     "text": [
      "100%|█████████████████████████████████████████████| 1/1 [00:00<00:00, 71.89it/s]\n",
      "100%|█████████████████████████████████████████████| 1/1 [00:00<00:00, 12.70it/s]\n"
     ]
    },
    {
     "name": "stdout",
     "output_type": "stream",
     "text": [
      "I'm not in the place, I'll teleport somewhere else\n"
     ]
    },
    {
     "name": "stderr",
     "output_type": "stream",
     "text": [
      "100%|█████████████████████████████████████████████| 1/1 [00:00<00:00, 69.77it/s]\n",
      "100%|█████████████████████████████████████████████| 1/1 [00:00<00:00, 12.76it/s]\n"
     ]
    },
    {
     "name": "stdout",
     "output_type": "stream",
     "text": [
      "I'm not in the place, I'll teleport somewhere else\n"
     ]
    },
    {
     "name": "stderr",
     "output_type": "stream",
     "text": [
      "100%|█████████████████████████████████████████████| 1/1 [00:00<00:00, 63.71it/s]\n",
      "100%|█████████████████████████████████████████████| 1/1 [00:00<00:00, 13.88it/s]\n",
      "100%|█████████████████████████████████████████████| 1/1 [00:00<00:00, 65.22it/s]\n",
      "100%|█████████████████████████████████████████████| 1/1 [00:00<00:00, 13.65it/s]\n"
     ]
    },
    {
     "name": "stdout",
     "output_type": "stream",
     "text": [
      "Close to the object, but i will rotate so we might find it.\n"
     ]
    },
    {
     "name": "stderr",
     "output_type": "stream",
     "text": [
      "100%|█████████████████████████████████████████████| 1/1 [00:00<00:00, 67.50it/s]\n",
      "100%|█████████████████████████████████████████████| 1/1 [00:00<00:00, 12.05it/s]\n"
     ]
    },
    {
     "name": "stdout",
     "output_type": "stream",
     "text": [
      "Cosine Similarity Score: 0.9394493\n",
      "I'm in the place\n",
      "Results saved in DataFrame.\n",
      "images/33.jpg :: next\n"
     ]
    },
    {
     "name": "stderr",
     "output_type": "stream",
     "text": [
      "100%|█████████████████████████████████████████████| 1/1 [00:00<00:00, 65.02it/s]\n",
      "100%|█████████████████████████████████████████████| 1/1 [00:00<00:00, 13.12it/s]\n",
      "100%|█████████████████████████████████████████████| 1/1 [00:00<00:00, 71.07it/s]\n",
      "100%|█████████████████████████████████████████████| 1/1 [00:00<00:00, 12.85it/s]\n"
     ]
    },
    {
     "name": "stdout",
     "output_type": "stream",
     "text": [
      "Close to the object, but i will rotate so we might find it.\n"
     ]
    },
    {
     "name": "stderr",
     "output_type": "stream",
     "text": [
      "100%|█████████████████████████████████████████████| 1/1 [00:00<00:00, 72.11it/s]\n",
      "100%|█████████████████████████████████████████████| 1/1 [00:00<00:00, 14.18it/s]\n",
      "100%|█████████████████████████████████████████████| 1/1 [00:00<00:00, 75.26it/s]\n",
      "100%|█████████████████████████████████████████████| 1/1 [00:00<00:00, 12.38it/s]\n",
      "100%|█████████████████████████████████████████████| 1/1 [00:00<00:00, 70.47it/s]\n",
      "100%|█████████████████████████████████████████████| 1/1 [00:00<00:00, 13.47it/s]\n",
      "100%|█████████████████████████████████████████████| 1/1 [00:00<00:00, 77.00it/s]\n",
      "100%|█████████████████████████████████████████████| 1/1 [00:00<00:00, 13.33it/s]\n"
     ]
    },
    {
     "name": "stdout",
     "output_type": "stream",
     "text": [
      "I'm not in the place, I'll teleport somewhere else\n"
     ]
    },
    {
     "name": "stderr",
     "output_type": "stream",
     "text": [
      "100%|█████████████████████████████████████████████| 1/1 [00:00<00:00, 69.24it/s]\n",
      "100%|█████████████████████████████████████████████| 1/1 [00:00<00:00, 12.89it/s]\n"
     ]
    },
    {
     "name": "stdout",
     "output_type": "stream",
     "text": [
      "I'm not in the place, I'll teleport somewhere else\n"
     ]
    },
    {
     "name": "stderr",
     "output_type": "stream",
     "text": [
      "100%|█████████████████████████████████████████████| 1/1 [00:00<00:00, 63.96it/s]\n",
      "100%|█████████████████████████████████████████████| 1/1 [00:00<00:00, 13.18it/s]\n",
      "100%|█████████████████████████████████████████████| 1/1 [00:00<00:00, 70.97it/s]\n",
      "100%|█████████████████████████████████████████████| 1/1 [00:00<00:00, 13.21it/s]\n",
      "100%|█████████████████████████████████████████████| 1/1 [00:00<00:00, 62.70it/s]\n",
      "100%|█████████████████████████████████████████████| 1/1 [00:00<00:00, 13.12it/s]\n"
     ]
    },
    {
     "name": "stdout",
     "output_type": "stream",
     "text": [
      "I'm not in the place, I'll teleport somewhere else\n"
     ]
    },
    {
     "name": "stderr",
     "output_type": "stream",
     "text": [
      "100%|█████████████████████████████████████████████| 1/1 [00:00<00:00, 68.72it/s]\n",
      "100%|█████████████████████████████████████████████| 1/1 [00:00<00:00, 13.03it/s]\n"
     ]
    },
    {
     "name": "stdout",
     "output_type": "stream",
     "text": [
      "Close to the object, but i will rotate so we might find it.\n"
     ]
    },
    {
     "name": "stderr",
     "output_type": "stream",
     "text": [
      "100%|█████████████████████████████████████████████| 1/1 [00:00<00:00, 69.02it/s]\n",
      "100%|█████████████████████████████████████████████| 1/1 [00:00<00:00, 13.08it/s]\n",
      "100%|█████████████████████████████████████████████| 1/1 [00:00<00:00, 70.16it/s]\n",
      "100%|█████████████████████████████████████████████| 1/1 [00:00<00:00, 13.12it/s]\n",
      "100%|█████████████████████████████████████████████| 1/1 [00:00<00:00, 68.82it/s]\n",
      "100%|█████████████████████████████████████████████| 1/1 [00:00<00:00, 13.23it/s]\n",
      "100%|█████████████████████████████████████████████| 1/1 [00:00<00:00, 70.62it/s]\n",
      "100%|█████████████████████████████████████████████| 1/1 [00:00<00:00, 12.71it/s]\n"
     ]
    },
    {
     "name": "stdout",
     "output_type": "stream",
     "text": [
      "Cosine Similarity Score: 0.94422644\n",
      "I'm in the place\n",
      "Results saved in DataFrame.\n",
      "images/34.jpg :: next\n"
     ]
    },
    {
     "name": "stderr",
     "output_type": "stream",
     "text": [
      "100%|█████████████████████████████████████████████| 1/1 [00:00<00:00, 68.92it/s]\n",
      "100%|█████████████████████████████████████████████| 1/1 [00:00<00:00, 13.06it/s]\n",
      "100%|█████████████████████████████████████████████| 1/1 [00:00<00:00, 66.06it/s]\n",
      "100%|█████████████████████████████████████████████| 1/1 [00:00<00:00, 13.57it/s]\n"
     ]
    },
    {
     "name": "stdout",
     "output_type": "stream",
     "text": [
      "Close to the object, but i will rotate so we might find it.\n"
     ]
    },
    {
     "name": "stderr",
     "output_type": "stream",
     "text": [
      "100%|█████████████████████████████████████████████| 1/1 [00:00<00:00, 71.79it/s]\n",
      "100%|█████████████████████████████████████████████| 1/1 [00:00<00:00, 12.76it/s]\n"
     ]
    },
    {
     "name": "stdout",
     "output_type": "stream",
     "text": [
      "I'm not in the place, I'll teleport somewhere else\n"
     ]
    },
    {
     "name": "stderr",
     "output_type": "stream",
     "text": [
      "100%|█████████████████████████████████████████████| 1/1 [00:00<00:00, 65.54it/s]\n",
      "100%|█████████████████████████████████████████████| 1/1 [00:00<00:00, 11.77it/s]\n"
     ]
    },
    {
     "name": "stdout",
     "output_type": "stream",
     "text": [
      "Close to the object, but i will rotate so we might find it.\n"
     ]
    },
    {
     "name": "stderr",
     "output_type": "stream",
     "text": [
      "100%|█████████████████████████████████████████████| 1/1 [00:00<00:00, 63.26it/s]\n",
      "100%|█████████████████████████████████████████████| 1/1 [00:00<00:00, 12.68it/s]\n"
     ]
    },
    {
     "name": "stdout",
     "output_type": "stream",
     "text": [
      "Close to the object, but i will rotate so we might find it.\n"
     ]
    },
    {
     "name": "stderr",
     "output_type": "stream",
     "text": [
      "100%|█████████████████████████████████████████████| 1/1 [00:00<00:00, 70.59it/s]\n",
      "100%|█████████████████████████████████████████████| 1/1 [00:00<00:00, 13.10it/s]\n",
      "100%|█████████████████████████████████████████████| 1/1 [00:00<00:00, 72.32it/s]\n",
      "100%|█████████████████████████████████████████████| 1/1 [00:00<00:00, 13.12it/s]\n",
      "100%|█████████████████████████████████████████████| 1/1 [00:00<00:00, 68.48it/s]\n",
      "100%|█████████████████████████████████████████████| 1/1 [00:00<00:00, 12.01it/s]\n",
      "100%|█████████████████████████████████████████████| 1/1 [00:00<00:00, 69.15it/s]\n",
      "100%|█████████████████████████████████████████████| 1/1 [00:00<00:00, 11.14it/s]\n",
      "100%|█████████████████████████████████████████████| 1/1 [00:00<00:00, 69.79it/s]\n",
      "100%|█████████████████████████████████████████████| 1/1 [00:00<00:00, 13.27it/s]\n"
     ]
    },
    {
     "name": "stdout",
     "output_type": "stream",
     "text": [
      "I'm not in the place, I'll teleport somewhere else\n"
     ]
    },
    {
     "name": "stderr",
     "output_type": "stream",
     "text": [
      "100%|█████████████████████████████████████████████| 1/1 [00:00<00:00, 72.80it/s]\n",
      "100%|█████████████████████████████████████████████| 1/1 [00:00<00:00, 13.13it/s]\n"
     ]
    },
    {
     "name": "stdout",
     "output_type": "stream",
     "text": [
      "I'm not in the place, I'll teleport somewhere else\n"
     ]
    },
    {
     "name": "stderr",
     "output_type": "stream",
     "text": [
      "100%|█████████████████████████████████████████████| 1/1 [00:00<00:00, 69.47it/s]\n",
      "100%|█████████████████████████████████████████████| 1/1 [00:00<00:00, 12.25it/s]\n"
     ]
    },
    {
     "name": "stdout",
     "output_type": "stream",
     "text": [
      "Close to the object, but i will rotate so we might find it.\n"
     ]
    },
    {
     "name": "stderr",
     "output_type": "stream",
     "text": [
      "100%|█████████████████████████████████████████████| 1/1 [00:00<00:00, 66.33it/s]\n",
      "100%|█████████████████████████████████████████████| 1/1 [00:00<00:00, 13.29it/s]\n",
      "100%|█████████████████████████████████████████████| 1/1 [00:00<00:00, 71.79it/s]\n",
      "100%|█████████████████████████████████████████████| 1/1 [00:00<00:00, 13.30it/s]\n",
      "100%|█████████████████████████████████████████████| 1/1 [00:00<00:00, 73.92it/s]\n",
      "100%|█████████████████████████████████████████████| 1/1 [00:00<00:00, 14.28it/s]\n"
     ]
    },
    {
     "name": "stdout",
     "output_type": "stream",
     "text": [
      "I'm not in the place, I'll teleport somewhere else\n"
     ]
    },
    {
     "name": "stderr",
     "output_type": "stream",
     "text": [
      "100%|█████████████████████████████████████████████| 1/1 [00:00<00:00, 71.36it/s]\n",
      "100%|█████████████████████████████████████████████| 1/1 [00:00<00:00, 14.11it/s]\n"
     ]
    },
    {
     "name": "stdout",
     "output_type": "stream",
     "text": [
      "Did not find the place\n",
      "images/35.jpg :: next\n"
     ]
    },
    {
     "name": "stderr",
     "output_type": "stream",
     "text": [
      "100%|█████████████████████████████████████████████| 1/1 [00:00<00:00, 71.29it/s]\n",
      "100%|█████████████████████████████████████████████| 1/1 [00:00<00:00, 13.59it/s]\n",
      "100%|█████████████████████████████████████████████| 1/1 [00:00<00:00, 72.13it/s]\n",
      "100%|█████████████████████████████████████████████| 1/1 [00:00<00:00, 11.83it/s]\n"
     ]
    },
    {
     "name": "stdout",
     "output_type": "stream",
     "text": [
      "I'm not in the place, I'll teleport somewhere else\n"
     ]
    },
    {
     "name": "stderr",
     "output_type": "stream",
     "text": [
      "100%|█████████████████████████████████████████████| 1/1 [00:00<00:00, 65.51it/s]\n",
      "100%|█████████████████████████████████████████████| 1/1 [00:00<00:00, 12.88it/s]\n"
     ]
    },
    {
     "name": "stdout",
     "output_type": "stream",
     "text": [
      "Close to the object, but i will rotate so we might find it.\n"
     ]
    },
    {
     "name": "stderr",
     "output_type": "stream",
     "text": [
      "100%|█████████████████████████████████████████████| 1/1 [00:00<00:00, 65.64it/s]\n",
      "100%|█████████████████████████████████████████████| 1/1 [00:00<00:00, 12.89it/s]\n"
     ]
    },
    {
     "name": "stdout",
     "output_type": "stream",
     "text": [
      "Close to the object, but i will rotate so we might find it.\n"
     ]
    },
    {
     "name": "stderr",
     "output_type": "stream",
     "text": [
      "100%|█████████████████████████████████████████████| 1/1 [00:00<00:00, 72.34it/s]\n",
      "100%|█████████████████████████████████████████████| 1/1 [00:00<00:00, 12.85it/s]\n",
      "100%|█████████████████████████████████████████████| 1/1 [00:00<00:00, 66.55it/s]\n",
      "100%|█████████████████████████████████████████████| 1/1 [00:00<00:00, 12.71it/s]\n"
     ]
    },
    {
     "name": "stdout",
     "output_type": "stream",
     "text": [
      "Close to the object, but i will rotate so we might find it.\n"
     ]
    },
    {
     "name": "stderr",
     "output_type": "stream",
     "text": [
      "100%|█████████████████████████████████████████████| 1/1 [00:00<00:00, 71.68it/s]\n",
      "100%|█████████████████████████████████████████████| 1/1 [00:00<00:00, 12.55it/s]\n"
     ]
    },
    {
     "name": "stdout",
     "output_type": "stream",
     "text": [
      "I'm not in the place, I'll teleport somewhere else\n"
     ]
    },
    {
     "name": "stderr",
     "output_type": "stream",
     "text": [
      "100%|█████████████████████████████████████████████| 1/1 [00:00<00:00, 68.04it/s]\n",
      "100%|█████████████████████████████████████████████| 1/1 [00:00<00:00, 13.16it/s]\n"
     ]
    },
    {
     "name": "stdout",
     "output_type": "stream",
     "text": [
      "Close to the object, but i will rotate so we might find it.\n"
     ]
    },
    {
     "name": "stderr",
     "output_type": "stream",
     "text": [
      "100%|█████████████████████████████████████████████| 1/1 [00:00<00:00, 71.57it/s]\n",
      "100%|█████████████████████████████████████████████| 1/1 [00:00<00:00, 12.19it/s]\n",
      "100%|█████████████████████████████████████████████| 1/1 [00:00<00:00, 73.21it/s]\n",
      "100%|█████████████████████████████████████████████| 1/1 [00:00<00:00, 12.99it/s]\n",
      "100%|█████████████████████████████████████████████| 1/1 [00:00<00:00, 71.99it/s]\n",
      "100%|█████████████████████████████████████████████| 1/1 [00:00<00:00, 11.82it/s]\n",
      "100%|█████████████████████████████████████████████| 1/1 [00:00<00:00, 70.63it/s]\n",
      "100%|█████████████████████████████████████████████| 1/1 [00:00<00:00, 12.43it/s]\n"
     ]
    },
    {
     "name": "stdout",
     "output_type": "stream",
     "text": [
      "I'm not in the place, I'll teleport somewhere else\n"
     ]
    },
    {
     "name": "stderr",
     "output_type": "stream",
     "text": [
      "100%|█████████████████████████████████████████████| 1/1 [00:00<00:00, 68.84it/s]\n",
      "100%|█████████████████████████████████████████████| 1/1 [00:00<00:00, 13.32it/s]\n"
     ]
    },
    {
     "name": "stdout",
     "output_type": "stream",
     "text": [
      "I'm not in the place, I'll teleport somewhere else\n"
     ]
    },
    {
     "name": "stderr",
     "output_type": "stream",
     "text": [
      "100%|█████████████████████████████████████████████| 1/1 [00:00<00:00, 68.93it/s]\n",
      "100%|█████████████████████████████████████████████| 1/1 [00:00<00:00, 12.87it/s]\n"
     ]
    },
    {
     "name": "stdout",
     "output_type": "stream",
     "text": [
      "I'm not in the place, I'll teleport somewhere else\n"
     ]
    },
    {
     "name": "stderr",
     "output_type": "stream",
     "text": [
      "100%|█████████████████████████████████████████████| 1/1 [00:00<00:00, 69.83it/s]\n",
      "100%|█████████████████████████████████████████████| 1/1 [00:00<00:00, 16.28it/s]\n",
      "100%|█████████████████████████████████████████████| 1/1 [00:00<00:00, 70.50it/s]\n",
      "100%|█████████████████████████████████████████████| 1/1 [00:00<00:00, 15.23it/s]\n"
     ]
    },
    {
     "name": "stdout",
     "output_type": "stream",
     "text": [
      "I'm not in the place, I'll teleport somewhere else\n",
      "Did not find the place\n",
      "images/36.jpg :: next\n"
     ]
    },
    {
     "name": "stderr",
     "output_type": "stream",
     "text": [
      "100%|█████████████████████████████████████████████| 1/1 [00:00<00:00, 70.14it/s]\n",
      "100%|█████████████████████████████████████████████| 1/1 [00:00<00:00, 13.19it/s]\n",
      "100%|█████████████████████████████████████████████| 1/1 [00:00<00:00, 70.90it/s]\n",
      "100%|█████████████████████████████████████████████| 1/1 [00:00<00:00, 12.64it/s]\n",
      "100%|█████████████████████████████████████████████| 1/1 [00:00<00:00, 69.24it/s]\n",
      "100%|█████████████████████████████████████████████| 1/1 [00:00<00:00, 13.57it/s]\n"
     ]
    },
    {
     "name": "stdout",
     "output_type": "stream",
     "text": [
      "I'm not in the place, I'll teleport somewhere else\n"
     ]
    },
    {
     "name": "stderr",
     "output_type": "stream",
     "text": [
      "100%|█████████████████████████████████████████████| 1/1 [00:00<00:00, 71.22it/s]\n",
      "100%|█████████████████████████████████████████████| 1/1 [00:00<00:00, 13.38it/s]\n",
      "100%|█████████████████████████████████████████████| 1/1 [00:00<00:00, 60.19it/s]\n",
      "100%|█████████████████████████████████████████████| 1/1 [00:00<00:00, 13.84it/s]\n"
     ]
    },
    {
     "name": "stdout",
     "output_type": "stream",
     "text": [
      "I'm not in the place, I'll teleport somewhere else\n"
     ]
    },
    {
     "name": "stderr",
     "output_type": "stream",
     "text": [
      "100%|█████████████████████████████████████████████| 1/1 [00:00<00:00, 68.31it/s]\n",
      "100%|█████████████████████████████████████████████| 1/1 [00:00<00:00, 13.63it/s]\n"
     ]
    },
    {
     "name": "stdout",
     "output_type": "stream",
     "text": [
      "I'm not in the place, I'll teleport somewhere else\n"
     ]
    },
    {
     "name": "stderr",
     "output_type": "stream",
     "text": [
      "100%|█████████████████████████████████████████████| 1/1 [00:00<00:00, 63.85it/s]\n",
      "100%|█████████████████████████████████████████████| 1/1 [00:00<00:00, 13.47it/s]\n",
      "100%|█████████████████████████████████████████████| 1/1 [00:00<00:00, 71.39it/s]\n",
      "100%|█████████████████████████████████████████████| 1/1 [00:00<00:00, 13.23it/s]\n",
      "100%|█████████████████████████████████████████████| 1/1 [00:00<00:00, 69.92it/s]\n",
      "100%|█████████████████████████████████████████████| 1/1 [00:00<00:00, 16.28it/s]\n",
      "100%|█████████████████████████████████████████████| 1/1 [00:00<00:00, 66.45it/s]\n",
      "100%|█████████████████████████████████████████████| 1/1 [00:00<00:00, 13.16it/s]\n",
      "100%|█████████████████████████████████████████████| 1/1 [00:00<00:00, 67.23it/s]\n",
      "100%|█████████████████████████████████████████████| 1/1 [00:00<00:00, 12.28it/s]\n",
      "100%|█████████████████████████████████████████████| 1/1 [00:00<00:00, 63.62it/s]\n",
      "100%|█████████████████████████████████████████████| 1/1 [00:00<00:00, 13.99it/s]\n",
      "100%|█████████████████████████████████████████████| 1/1 [00:00<00:00, 66.28it/s]\n",
      "100%|█████████████████████████████████████████████| 1/1 [00:00<00:00, 14.78it/s]\n",
      "100%|█████████████████████████████████████████████| 1/1 [00:00<00:00, 74.25it/s]\n",
      "100%|█████████████████████████████████████████████| 1/1 [00:00<00:00, 16.07it/s]\n"
     ]
    },
    {
     "name": "stdout",
     "output_type": "stream",
     "text": [
      "I'm not in the place, I'll teleport somewhere else\n"
     ]
    },
    {
     "name": "stderr",
     "output_type": "stream",
     "text": [
      "100%|█████████████████████████████████████████████| 1/1 [00:00<00:00, 71.83it/s]\n",
      "100%|█████████████████████████████████████████████| 1/1 [00:00<00:00, 13.49it/s]\n"
     ]
    },
    {
     "name": "stdout",
     "output_type": "stream",
     "text": [
      "Close to the object, but i will rotate so we might find it.\n"
     ]
    },
    {
     "name": "stderr",
     "output_type": "stream",
     "text": [
      "100%|█████████████████████████████████████████████| 1/1 [00:00<00:00, 71.19it/s]\n",
      "100%|█████████████████████████████████████████████| 1/1 [00:00<00:00, 17.06it/s]\n"
     ]
    },
    {
     "name": "stdout",
     "output_type": "stream",
     "text": [
      "Did not find the place\n",
      "images/37.jpg :: next\n"
     ]
    },
    {
     "name": "stderr",
     "output_type": "stream",
     "text": [
      "100%|█████████████████████████████████████████████| 1/1 [00:00<00:00, 71.25it/s]\n",
      "100%|█████████████████████████████████████████████| 1/1 [00:00<00:00, 13.42it/s]\n",
      "100%|█████████████████████████████████████████████| 1/1 [00:00<00:00, 68.92it/s]\n",
      "100%|█████████████████████████████████████████████| 1/1 [00:00<00:00, 12.98it/s]\n",
      "100%|█████████████████████████████████████████████| 1/1 [00:00<00:00, 75.23it/s]\n",
      "100%|█████████████████████████████████████████████| 1/1 [00:00<00:00, 13.26it/s]\n"
     ]
    },
    {
     "name": "stdout",
     "output_type": "stream",
     "text": [
      "I'm not in the place, I'll teleport somewhere else\n"
     ]
    },
    {
     "name": "stderr",
     "output_type": "stream",
     "text": [
      "100%|█████████████████████████████████████████████| 1/1 [00:00<00:00, 63.79it/s]\n",
      "100%|█████████████████████████████████████████████| 1/1 [00:00<00:00, 13.19it/s]\n"
     ]
    },
    {
     "name": "stdout",
     "output_type": "stream",
     "text": [
      "I'm not in the place, I'll teleport somewhere else\n"
     ]
    },
    {
     "name": "stderr",
     "output_type": "stream",
     "text": [
      "100%|█████████████████████████████████████████████| 1/1 [00:00<00:00, 73.54it/s]\n",
      "100%|█████████████████████████████████████████████| 1/1 [00:00<00:00, 12.32it/s]\n",
      "100%|█████████████████████████████████████████████| 1/1 [00:00<00:00, 68.99it/s]\n",
      "100%|█████████████████████████████████████████████| 1/1 [00:00<00:00, 11.96it/s]\n"
     ]
    },
    {
     "name": "stdout",
     "output_type": "stream",
     "text": [
      "I'm not in the place, I'll teleport somewhere else\n"
     ]
    },
    {
     "name": "stderr",
     "output_type": "stream",
     "text": [
      "100%|█████████████████████████████████████████████| 1/1 [00:00<00:00, 60.50it/s]\n",
      "100%|█████████████████████████████████████████████| 1/1 [00:00<00:00, 13.00it/s]\n"
     ]
    },
    {
     "name": "stdout",
     "output_type": "stream",
     "text": [
      "I'm not in the place, I'll teleport somewhere else\n"
     ]
    },
    {
     "name": "stderr",
     "output_type": "stream",
     "text": [
      "100%|█████████████████████████████████████████████| 1/1 [00:00<00:00, 67.91it/s]\n",
      "100%|█████████████████████████████████████████████| 1/1 [00:00<00:00, 12.98it/s]\n"
     ]
    },
    {
     "name": "stdout",
     "output_type": "stream",
     "text": [
      "Close to the object, but i will rotate so we might find it.\n"
     ]
    },
    {
     "name": "stderr",
     "output_type": "stream",
     "text": [
      "100%|█████████████████████████████████████████████| 1/1 [00:00<00:00, 68.72it/s]\n",
      "100%|█████████████████████████████████████████████| 1/1 [00:00<00:00, 13.53it/s]\n"
     ]
    },
    {
     "name": "stdout",
     "output_type": "stream",
     "text": [
      "I'm not in the place, I'll teleport somewhere else\n"
     ]
    },
    {
     "name": "stderr",
     "output_type": "stream",
     "text": [
      "100%|█████████████████████████████████████████████| 1/1 [00:00<00:00, 71.59it/s]\n",
      "100%|█████████████████████████████████████████████| 1/1 [00:00<00:00, 13.49it/s]\n"
     ]
    },
    {
     "name": "stdout",
     "output_type": "stream",
     "text": [
      "I'm not in the place, I'll teleport somewhere else\n"
     ]
    },
    {
     "name": "stderr",
     "output_type": "stream",
     "text": [
      "100%|█████████████████████████████████████████████| 1/1 [00:00<00:00, 70.14it/s]\n",
      "100%|█████████████████████████████████████████████| 1/1 [00:00<00:00, 12.27it/s]\n",
      "100%|█████████████████████████████████████████████| 1/1 [00:00<00:00, 64.34it/s]\n",
      "100%|█████████████████████████████████████████████| 1/1 [00:00<00:00, 12.90it/s]\n",
      "100%|█████████████████████████████████████████████| 1/1 [00:00<00:00, 69.26it/s]\n",
      "100%|█████████████████████████████████████████████| 1/1 [00:00<00:00, 13.62it/s]\n",
      "100%|█████████████████████████████████████████████| 1/1 [00:00<00:00, 64.01it/s]\n",
      "100%|█████████████████████████████████████████████| 1/1 [00:00<00:00, 12.49it/s]\n",
      "100%|█████████████████████████████████████████████| 1/1 [00:00<00:00, 67.79it/s]\n",
      "100%|█████████████████████████████████████████████| 1/1 [00:00<00:00, 13.40it/s]\n"
     ]
    },
    {
     "name": "stdout",
     "output_type": "stream",
     "text": [
      "I'm not in the place, I'll teleport somewhere else\n"
     ]
    },
    {
     "name": "stderr",
     "output_type": "stream",
     "text": [
      "100%|█████████████████████████████████████████████| 1/1 [00:00<00:00, 66.79it/s]\n",
      "100%|█████████████████████████████████████████████| 1/1 [00:00<00:00, 13.08it/s]\n"
     ]
    },
    {
     "name": "stdout",
     "output_type": "stream",
     "text": [
      "Close to the object, but i will rotate so we might find it.\n",
      "Did not find the place\n",
      "images/38.jpg :: next\n"
     ]
    },
    {
     "name": "stderr",
     "output_type": "stream",
     "text": [
      "100%|█████████████████████████████████████████████| 1/1 [00:00<00:00, 73.06it/s]\n",
      "100%|█████████████████████████████████████████████| 1/1 [00:00<00:00, 13.07it/s]\n",
      "100%|█████████████████████████████████████████████| 1/1 [00:00<00:00, 68.47it/s]\n",
      "100%|█████████████████████████████████████████████| 1/1 [00:00<00:00, 10.77it/s]\n"
     ]
    },
    {
     "name": "stdout",
     "output_type": "stream",
     "text": [
      "Close to the object, but i will rotate so we might find it.\n"
     ]
    },
    {
     "name": "stderr",
     "output_type": "stream",
     "text": [
      "100%|█████████████████████████████████████████████| 1/1 [00:00<00:00, 68.28it/s]\n",
      "100%|█████████████████████████████████████████████| 1/1 [00:00<00:00, 13.00it/s]\n",
      "100%|█████████████████████████████████████████████| 1/1 [00:00<00:00, 68.86it/s]\n",
      "100%|█████████████████████████████████████████████| 1/1 [00:00<00:00, 12.80it/s]\n"
     ]
    },
    {
     "name": "stdout",
     "output_type": "stream",
     "text": [
      "I'm not in the place, I'll teleport somewhere else\n"
     ]
    },
    {
     "name": "stderr",
     "output_type": "stream",
     "text": [
      "100%|█████████████████████████████████████████████| 1/1 [00:00<00:00, 69.42it/s]\n",
      "100%|█████████████████████████████████████████████| 1/1 [00:00<00:00, 13.46it/s]\n"
     ]
    },
    {
     "name": "stdout",
     "output_type": "stream",
     "text": [
      "I'm not in the place, I'll teleport somewhere else\n"
     ]
    },
    {
     "name": "stderr",
     "output_type": "stream",
     "text": [
      "100%|█████████████████████████████████████████████| 1/1 [00:00<00:00, 69.11it/s]\n",
      "100%|█████████████████████████████████████████████| 1/1 [00:00<00:00, 13.51it/s]\n"
     ]
    },
    {
     "name": "stdout",
     "output_type": "stream",
     "text": [
      "Close to the object, but i will rotate so we might find it.\n"
     ]
    },
    {
     "name": "stderr",
     "output_type": "stream",
     "text": [
      "100%|█████████████████████████████████████████████| 1/1 [00:00<00:00, 70.50it/s]\n",
      "100%|█████████████████████████████████████████████| 1/1 [00:00<00:00, 12.16it/s]\n"
     ]
    },
    {
     "name": "stdout",
     "output_type": "stream",
     "text": [
      "I'm not in the place, I'll teleport somewhere else\n"
     ]
    },
    {
     "name": "stderr",
     "output_type": "stream",
     "text": [
      "100%|█████████████████████████████████████████████| 1/1 [00:00<00:00, 67.76it/s]\n",
      "100%|█████████████████████████████████████████████| 1/1 [00:00<00:00, 13.42it/s]\n"
     ]
    },
    {
     "name": "stdout",
     "output_type": "stream",
     "text": [
      "Close to the object, but i will rotate so we might find it.\n"
     ]
    },
    {
     "name": "stderr",
     "output_type": "stream",
     "text": [
      "100%|█████████████████████████████████████████████| 1/1 [00:00<00:00, 69.20it/s]\n",
      "100%|█████████████████████████████████████████████| 1/1 [00:00<00:00, 13.15it/s]\n"
     ]
    },
    {
     "name": "stdout",
     "output_type": "stream",
     "text": [
      "I'm not in the place, I'll teleport somewhere else\n"
     ]
    },
    {
     "name": "stderr",
     "output_type": "stream",
     "text": [
      "100%|█████████████████████████████████████████████| 1/1 [00:00<00:00, 74.74it/s]\n",
      "100%|█████████████████████████████████████████████| 1/1 [00:00<00:00, 13.13it/s]\n"
     ]
    },
    {
     "name": "stdout",
     "output_type": "stream",
     "text": [
      "Cosine Similarity Score: 0.99567056\n",
      "I'm in the place\n",
      "Results saved in DataFrame.\n",
      "images/39.jpg :: next\n"
     ]
    },
    {
     "name": "stderr",
     "output_type": "stream",
     "text": [
      "100%|█████████████████████████████████████████████| 1/1 [00:00<00:00, 70.25it/s]\n",
      "100%|█████████████████████████████████████████████| 1/1 [00:00<00:00, 12.71it/s]\n",
      "100%|█████████████████████████████████████████████| 1/1 [00:00<00:00, 74.41it/s]\n",
      "100%|█████████████████████████████████████████████| 1/1 [00:00<00:00, 11.73it/s]\n",
      "100%|█████████████████████████████████████████████| 1/1 [00:00<00:00, 70.57it/s]\n",
      "100%|█████████████████████████████████████████████| 1/1 [00:00<00:00, 12.79it/s]\n"
     ]
    },
    {
     "name": "stdout",
     "output_type": "stream",
     "text": [
      "Cosine Similarity Score: 0.96537364\n",
      "I'm in the place\n",
      "Results saved in DataFrame.\n",
      "images/40.jpg :: next\n"
     ]
    },
    {
     "name": "stderr",
     "output_type": "stream",
     "text": [
      "100%|█████████████████████████████████████████████| 1/1 [00:00<00:00, 67.92it/s]\n",
      "100%|█████████████████████████████████████████████| 1/1 [00:00<00:00, 12.04it/s]\n",
      "100%|█████████████████████████████████████████████| 1/1 [00:00<00:00, 63.00it/s]\n",
      "100%|█████████████████████████████████████████████| 1/1 [00:00<00:00, 13.33it/s]\n"
     ]
    },
    {
     "name": "stdout",
     "output_type": "stream",
     "text": [
      "Cosine Similarity Score: 0.9638758\n",
      "I'm in the place\n",
      "Results saved in DataFrame.\n",
      "images/41.jpg :: next\n"
     ]
    },
    {
     "name": "stderr",
     "output_type": "stream",
     "text": [
      "100%|█████████████████████████████████████████████| 1/1 [00:00<00:00, 62.40it/s]\n",
      "100%|█████████████████████████████████████████████| 1/1 [00:00<00:00, 12.83it/s]\n",
      "100%|█████████████████████████████████████████████| 1/1 [00:00<00:00, 69.19it/s]\n",
      "100%|█████████████████████████████████████████████| 1/1 [00:00<00:00, 14.67it/s]\n",
      "100%|█████████████████████████████████████████████| 1/1 [00:00<00:00, 69.28it/s]\n",
      "100%|█████████████████████████████████████████████| 1/1 [00:00<00:00, 14.78it/s]\n"
     ]
    },
    {
     "name": "stdout",
     "output_type": "stream",
     "text": [
      "Close to the object, but i will rotate so we might find it.\n"
     ]
    },
    {
     "name": "stderr",
     "output_type": "stream",
     "text": [
      "100%|█████████████████████████████████████████████| 1/1 [00:00<00:00, 68.84it/s]\n",
      "100%|█████████████████████████████████████████████| 1/1 [00:00<00:00, 13.83it/s]\n",
      "100%|█████████████████████████████████████████████| 1/1 [00:00<00:00, 67.12it/s]\n",
      "100%|█████████████████████████████████████████████| 1/1 [00:00<00:00, 13.81it/s]\n"
     ]
    },
    {
     "name": "stdout",
     "output_type": "stream",
     "text": [
      "I'm not in the place, I'll teleport somewhere else\n"
     ]
    },
    {
     "name": "stderr",
     "output_type": "stream",
     "text": [
      "100%|█████████████████████████████████████████████| 1/1 [00:00<00:00, 66.67it/s]\n",
      "100%|█████████████████████████████████████████████| 1/1 [00:00<00:00, 13.61it/s]\n",
      "100%|█████████████████████████████████████████████| 1/1 [00:00<00:00, 69.73it/s]\n",
      "100%|█████████████████████████████████████████████| 1/1 [00:00<00:00, 11.77it/s]\n",
      "100%|█████████████████████████████████████████████| 1/1 [00:00<00:00, 68.80it/s]\n",
      "100%|█████████████████████████████████████████████| 1/1 [00:00<00:00, 13.19it/s]\n"
     ]
    },
    {
     "name": "stdout",
     "output_type": "stream",
     "text": [
      "Close to the object, but i will rotate so we might find it.\n"
     ]
    },
    {
     "name": "stderr",
     "output_type": "stream",
     "text": [
      "100%|█████████████████████████████████████████████| 1/1 [00:00<00:00, 66.89it/s]\n",
      "100%|█████████████████████████████████████████████| 1/1 [00:00<00:00, 12.78it/s]\n"
     ]
    },
    {
     "name": "stdout",
     "output_type": "stream",
     "text": [
      "Close to the object, but i will rotate so we might find it.\n"
     ]
    },
    {
     "name": "stderr",
     "output_type": "stream",
     "text": [
      "100%|█████████████████████████████████████████████| 1/1 [00:00<00:00, 68.49it/s]\n",
      "100%|█████████████████████████████████████████████| 1/1 [00:00<00:00, 13.65it/s]\n",
      "100%|█████████████████████████████████████████████| 1/1 [00:00<00:00, 71.60it/s]\n",
      "100%|█████████████████████████████████████████████| 1/1 [00:00<00:00, 12.78it/s]\n"
     ]
    },
    {
     "name": "stdout",
     "output_type": "stream",
     "text": [
      "I'm not in the place, I'll teleport somewhere else\n"
     ]
    },
    {
     "name": "stderr",
     "output_type": "stream",
     "text": [
      "100%|█████████████████████████████████████████████| 1/1 [00:00<00:00, 70.87it/s]\n",
      "100%|█████████████████████████████████████████████| 1/1 [00:00<00:00, 12.46it/s]\n"
     ]
    },
    {
     "name": "stdout",
     "output_type": "stream",
     "text": [
      "I'm not in the place, I'll teleport somewhere else\n"
     ]
    },
    {
     "name": "stderr",
     "output_type": "stream",
     "text": [
      "100%|█████████████████████████████████████████████| 1/1 [00:00<00:00, 68.95it/s]\n",
      "100%|█████████████████████████████████████████████| 1/1 [00:00<00:00, 11.57it/s]\n",
      "100%|█████████████████████████████████████████████| 1/1 [00:00<00:00, 75.26it/s]\n",
      "100%|█████████████████████████████████████████████| 1/1 [00:00<00:00, 11.64it/s]\n",
      "100%|█████████████████████████████████████████████| 1/1 [00:00<00:00, 68.69it/s]\n",
      "100%|█████████████████████████████████████████████| 1/1 [00:00<00:00, 12.92it/s]\n"
     ]
    },
    {
     "name": "stdout",
     "output_type": "stream",
     "text": [
      "Close to the object, but i will rotate so we might find it.\n"
     ]
    },
    {
     "name": "stderr",
     "output_type": "stream",
     "text": [
      "100%|█████████████████████████████████████████████| 1/1 [00:00<00:00, 70.73it/s]\n",
      "100%|█████████████████████████████████████████████| 1/1 [00:00<00:00, 12.82it/s]\n"
     ]
    },
    {
     "name": "stdout",
     "output_type": "stream",
     "text": [
      "Did not find the place\n",
      "images/42.jpg :: next\n"
     ]
    },
    {
     "name": "stderr",
     "output_type": "stream",
     "text": [
      "100%|█████████████████████████████████████████████| 1/1 [00:00<00:00, 70.50it/s]\n",
      "100%|█████████████████████████████████████████████| 1/1 [00:00<00:00, 12.90it/s]\n",
      "100%|█████████████████████████████████████████████| 1/1 [00:00<00:00, 70.63it/s]\n",
      "100%|█████████████████████████████████████████████| 1/1 [00:00<00:00, 13.95it/s]\n",
      "100%|█████████████████████████████████████████████| 1/1 [00:00<00:00, 71.23it/s]\n",
      "100%|█████████████████████████████████████████████| 1/1 [00:00<00:00, 13.26it/s]\n"
     ]
    },
    {
     "name": "stdout",
     "output_type": "stream",
     "text": [
      "Close to the object, but i will rotate so we might find it.\n"
     ]
    },
    {
     "name": "stderr",
     "output_type": "stream",
     "text": [
      "100%|█████████████████████████████████████████████| 1/1 [00:00<00:00, 70.52it/s]\n",
      "100%|█████████████████████████████████████████████| 1/1 [00:00<00:00, 13.37it/s]\n",
      "100%|█████████████████████████████████████████████| 1/1 [00:00<00:00, 70.27it/s]\n",
      "100%|█████████████████████████████████████████████| 1/1 [00:00<00:00, 13.05it/s]\n",
      "100%|█████████████████████████████████████████████| 1/1 [00:00<00:00, 63.94it/s]\n",
      "100%|█████████████████████████████████████████████| 1/1 [00:00<00:00, 12.55it/s]\n"
     ]
    },
    {
     "name": "stdout",
     "output_type": "stream",
     "text": [
      "Cosine Similarity Score: 0.9550005\n",
      "I'm in the place\n",
      "Results saved in DataFrame.\n",
      "images/43.jpg :: next\n"
     ]
    },
    {
     "name": "stderr",
     "output_type": "stream",
     "text": [
      "100%|█████████████████████████████████████████████| 1/1 [00:00<00:00, 72.37it/s]\n",
      "100%|█████████████████████████████████████████████| 1/1 [00:00<00:00, 11.55it/s]\n",
      "100%|█████████████████████████████████████████████| 1/1 [00:00<00:00, 76.38it/s]\n",
      "100%|█████████████████████████████████████████████| 1/1 [00:00<00:00, 13.26it/s]\n",
      "100%|█████████████████████████████████████████████| 1/1 [00:00<00:00, 69.58it/s]\n",
      "100%|█████████████████████████████████████████████| 1/1 [00:00<00:00, 13.29it/s]\n"
     ]
    },
    {
     "name": "stdout",
     "output_type": "stream",
     "text": [
      "I'm not in the place, I'll teleport somewhere else\n"
     ]
    },
    {
     "name": "stderr",
     "output_type": "stream",
     "text": [
      "100%|█████████████████████████████████████████████| 1/1 [00:00<00:00, 68.61it/s]\n",
      "100%|█████████████████████████████████████████████| 1/1 [00:00<00:00, 13.03it/s]\n"
     ]
    },
    {
     "name": "stdout",
     "output_type": "stream",
     "text": [
      "I'm not in the place, I'll teleport somewhere else\n"
     ]
    },
    {
     "name": "stderr",
     "output_type": "stream",
     "text": [
      "100%|█████████████████████████████████████████████| 1/1 [00:00<00:00, 67.63it/s]\n",
      "100%|█████████████████████████████████████████████| 1/1 [00:00<00:00, 12.40it/s]\n"
     ]
    },
    {
     "name": "stdout",
     "output_type": "stream",
     "text": [
      "I'm not in the place, I'll teleport somewhere else\n"
     ]
    },
    {
     "name": "stderr",
     "output_type": "stream",
     "text": [
      "100%|█████████████████████████████████████████████| 1/1 [00:00<00:00, 70.24it/s]\n",
      "100%|█████████████████████████████████████████████| 1/1 [00:00<00:00, 12.86it/s]\n"
     ]
    },
    {
     "name": "stdout",
     "output_type": "stream",
     "text": [
      "I'm not in the place, I'll teleport somewhere else\n"
     ]
    },
    {
     "name": "stderr",
     "output_type": "stream",
     "text": [
      "100%|█████████████████████████████████████████████| 1/1 [00:00<00:00, 65.65it/s]\n",
      "100%|█████████████████████████████████████████████| 1/1 [00:00<00:00, 14.23it/s]\n",
      "100%|█████████████████████████████████████████████| 1/1 [00:00<00:00, 69.24it/s]\n",
      "100%|█████████████████████████████████████████████| 1/1 [00:00<00:00, 12.43it/s]\n"
     ]
    },
    {
     "name": "stdout",
     "output_type": "stream",
     "text": [
      "I'm not in the place, I'll teleport somewhere else\n"
     ]
    },
    {
     "name": "stderr",
     "output_type": "stream",
     "text": [
      "100%|█████████████████████████████████████████████| 1/1 [00:00<00:00, 70.74it/s]\n",
      "100%|█████████████████████████████████████████████| 1/1 [00:00<00:00, 12.63it/s]\n"
     ]
    },
    {
     "name": "stdout",
     "output_type": "stream",
     "text": [
      "I'm not in the place, I'll teleport somewhere else\n"
     ]
    },
    {
     "name": "stderr",
     "output_type": "stream",
     "text": [
      "100%|█████████████████████████████████████████████| 1/1 [00:00<00:00, 71.46it/s]\n",
      "100%|█████████████████████████████████████████████| 1/1 [00:00<00:00, 12.90it/s]\n",
      "100%|█████████████████████████████████████████████| 1/1 [00:00<00:00, 67.28it/s]\n",
      "100%|█████████████████████████████████████████████| 1/1 [00:00<00:00, 13.37it/s]\n"
     ]
    },
    {
     "name": "stdout",
     "output_type": "stream",
     "text": [
      "Close to the object, but i will rotate so we might find it.\n"
     ]
    },
    {
     "name": "stderr",
     "output_type": "stream",
     "text": [
      "100%|█████████████████████████████████████████████| 1/1 [00:00<00:00, 72.87it/s]\n",
      "100%|█████████████████████████████████████████████| 1/1 [00:00<00:00, 11.75it/s]\n"
     ]
    },
    {
     "name": "stdout",
     "output_type": "stream",
     "text": [
      "I'm not in the place, I'll teleport somewhere else\n"
     ]
    },
    {
     "name": "stderr",
     "output_type": "stream",
     "text": [
      "100%|█████████████████████████████████████████████| 1/1 [00:00<00:00, 71.24it/s]\n",
      "100%|█████████████████████████████████████████████| 1/1 [00:00<00:00, 11.84it/s]\n",
      "100%|█████████████████████████████████████████████| 1/1 [00:00<00:00, 71.21it/s]\n",
      "100%|█████████████████████████████████████████████| 1/1 [00:00<00:00, 12.75it/s]\n"
     ]
    },
    {
     "name": "stdout",
     "output_type": "stream",
     "text": [
      "Close to the object, but i will rotate so we might find it.\n"
     ]
    },
    {
     "name": "stderr",
     "output_type": "stream",
     "text": [
      "100%|█████████████████████████████████████████████| 1/1 [00:00<00:00, 69.78it/s]\n",
      "100%|█████████████████████████████████████████████| 1/1 [00:00<00:00, 12.12it/s]\n",
      "100%|█████████████████████████████████████████████| 1/1 [00:00<00:00, 67.85it/s]\n",
      "100%|█████████████████████████████████████████████| 1/1 [00:00<00:00, 12.61it/s]\n"
     ]
    },
    {
     "name": "stdout",
     "output_type": "stream",
     "text": [
      "Did not find the place\n",
      "images/44.jpg :: next\n"
     ]
    },
    {
     "name": "stderr",
     "output_type": "stream",
     "text": [
      "100%|█████████████████████████████████████████████| 1/1 [00:00<00:00, 69.08it/s]\n",
      "100%|█████████████████████████████████████████████| 1/1 [00:00<00:00,  9.74it/s]\n",
      "100%|█████████████████████████████████████████████| 1/1 [00:00<00:00, 69.06it/s]\n",
      "100%|█████████████████████████████████████████████| 1/1 [00:00<00:00, 13.11it/s]\n",
      "100%|█████████████████████████████████████████████| 1/1 [00:00<00:00, 71.05it/s]\n",
      "100%|█████████████████████████████████████████████| 1/1 [00:00<00:00, 12.98it/s]\n"
     ]
    },
    {
     "name": "stdout",
     "output_type": "stream",
     "text": [
      "Cosine Similarity Score: 0.933731\n",
      "I'm in the place\n",
      "Results saved in DataFrame.\n",
      "images/45.jpg :: next\n"
     ]
    },
    {
     "name": "stderr",
     "output_type": "stream",
     "text": [
      "100%|█████████████████████████████████████████████| 1/1 [00:00<00:00, 61.77it/s]\n",
      "100%|█████████████████████████████████████████████| 1/1 [00:00<00:00, 11.84it/s]\n",
      "100%|█████████████████████████████████████████████| 1/1 [00:00<00:00, 66.27it/s]\n",
      "100%|█████████████████████████████████████████████| 1/1 [00:00<00:00, 13.11it/s]\n"
     ]
    },
    {
     "name": "stdout",
     "output_type": "stream",
     "text": [
      "Cosine Similarity Score: 0.9454545\n",
      "I'm in the place\n",
      "Results saved in DataFrame.\n",
      "images/46.jpg :: next\n"
     ]
    },
    {
     "name": "stderr",
     "output_type": "stream",
     "text": [
      "100%|█████████████████████████████████████████████| 1/1 [00:00<00:00, 68.80it/s]\n",
      "100%|█████████████████████████████████████████████| 1/1 [00:00<00:00, 13.37it/s]\n",
      "100%|█████████████████████████████████████████████| 1/1 [00:00<00:00, 37.67it/s]\n",
      "100%|█████████████████████████████████████████████| 1/1 [00:00<00:00, 11.79it/s]\n",
      "100%|█████████████████████████████████████████████| 1/1 [00:00<00:00, 70.62it/s]\n",
      "100%|█████████████████████████████████████████████| 1/1 [00:00<00:00, 13.05it/s]\n",
      "100%|█████████████████████████████████████████████| 1/1 [00:00<00:00, 67.75it/s]\n",
      "100%|█████████████████████████████████████████████| 1/1 [00:00<00:00, 12.80it/s]\n",
      "100%|█████████████████████████████████████████████| 1/1 [00:00<00:00, 72.06it/s]\n",
      "100%|█████████████████████████████████████████████| 1/1 [00:00<00:00, 12.93it/s]\n",
      "100%|█████████████████████████████████████████████| 1/1 [00:00<00:00, 69.53it/s]\n",
      "100%|█████████████████████████████████████████████| 1/1 [00:00<00:00, 12.99it/s]\n",
      "100%|█████████████████████████████████████████████| 1/1 [00:00<00:00, 62.20it/s]\n",
      "100%|█████████████████████████████████████████████| 1/1 [00:00<00:00, 13.69it/s]\n",
      "100%|█████████████████████████████████████████████| 1/1 [00:00<00:00, 68.43it/s]\n",
      "100%|█████████████████████████████████████████████| 1/1 [00:00<00:00, 13.47it/s]\n",
      "100%|█████████████████████████████████████████████| 1/1 [00:00<00:00, 65.38it/s]\n",
      "100%|█████████████████████████████████████████████| 1/1 [00:00<00:00, 13.88it/s]\n",
      "100%|█████████████████████████████████████████████| 1/1 [00:00<00:00, 65.57it/s]\n",
      "100%|█████████████████████████████████████████████| 1/1 [00:00<00:00, 13.90it/s]\n",
      "100%|█████████████████████████████████████████████| 1/1 [00:00<00:00, 67.23it/s]\n",
      "100%|█████████████████████████████████████████████| 1/1 [00:00<00:00, 13.62it/s]\n",
      "100%|█████████████████████████████████████████████| 1/1 [00:00<00:00, 59.17it/s]\n",
      "100%|█████████████████████████████████████████████| 1/1 [00:00<00:00, 13.49it/s]\n",
      "100%|█████████████████████████████████████████████| 1/1 [00:00<00:00, 39.20it/s]\n",
      "100%|█████████████████████████████████████████████| 1/1 [00:00<00:00, 11.45it/s]\n",
      "100%|█████████████████████████████████████████████| 1/1 [00:00<00:00, 65.36it/s]\n",
      "100%|█████████████████████████████████████████████| 1/1 [00:00<00:00, 14.12it/s]\n",
      "100%|█████████████████████████████████████████████| 1/1 [00:00<00:00, 69.35it/s]\n",
      "100%|█████████████████████████████████████████████| 1/1 [00:00<00:00, 13.48it/s]\n",
      "100%|█████████████████████████████████████████████| 1/1 [00:00<00:00, 68.98it/s]\n",
      "100%|█████████████████████████████████████████████| 1/1 [00:00<00:00, 13.49it/s]\n"
     ]
    },
    {
     "name": "stdout",
     "output_type": "stream",
     "text": [
      "Did not find the place\n",
      "images/47.jpg :: next\n"
     ]
    },
    {
     "name": "stderr",
     "output_type": "stream",
     "text": [
      "100%|█████████████████████████████████████████████| 1/1 [00:00<00:00, 67.52it/s]\n",
      "100%|█████████████████████████████████████████████| 1/1 [00:00<00:00, 13.31it/s]\n",
      "100%|█████████████████████████████████████████████| 1/1 [00:00<00:00, 63.13it/s]\n",
      "100%|█████████████████████████████████████████████| 1/1 [00:00<00:00, 13.13it/s]\n",
      "100%|█████████████████████████████████████████████| 1/1 [00:00<00:00, 68.99it/s]\n",
      "100%|█████████████████████████████████████████████| 1/1 [00:00<00:00, 14.94it/s]\n",
      "100%|█████████████████████████████████████████████| 1/1 [00:00<00:00, 66.87it/s]\n",
      "100%|█████████████████████████████████████████████| 1/1 [00:00<00:00, 14.19it/s]\n"
     ]
    },
    {
     "name": "stdout",
     "output_type": "stream",
     "text": [
      "Close to the object, but i will rotate so we might find it.\n"
     ]
    },
    {
     "name": "stderr",
     "output_type": "stream",
     "text": [
      "100%|█████████████████████████████████████████████| 1/1 [00:00<00:00, 67.93it/s]\n",
      "100%|█████████████████████████████████████████████| 1/1 [00:00<00:00, 14.77it/s]\n",
      "100%|█████████████████████████████████████████████| 1/1 [00:00<00:00, 69.81it/s]\n",
      "100%|█████████████████████████████████████████████| 1/1 [00:00<00:00, 12.81it/s]\n"
     ]
    },
    {
     "name": "stdout",
     "output_type": "stream",
     "text": [
      "I'm not in the place, I'll teleport somewhere else\n"
     ]
    },
    {
     "name": "stderr",
     "output_type": "stream",
     "text": [
      "100%|█████████████████████████████████████████████| 1/1 [00:00<00:00, 69.22it/s]\n",
      "100%|█████████████████████████████████████████████| 1/1 [00:00<00:00, 13.43it/s]\n",
      "100%|█████████████████████████████████████████████| 1/1 [00:00<00:00, 70.32it/s]\n",
      "100%|█████████████████████████████████████████████| 1/1 [00:00<00:00, 12.50it/s]\n"
     ]
    },
    {
     "name": "stdout",
     "output_type": "stream",
     "text": [
      "Close to the object, but i will rotate so we might find it.\n"
     ]
    },
    {
     "name": "stderr",
     "output_type": "stream",
     "text": [
      "100%|█████████████████████████████████████████████| 1/1 [00:00<00:00, 58.71it/s]\n",
      "100%|█████████████████████████████████████████████| 1/1 [00:00<00:00, 12.95it/s]\n"
     ]
    },
    {
     "name": "stdout",
     "output_type": "stream",
     "text": [
      "Close to the object, but i will rotate so we might find it.\n"
     ]
    },
    {
     "name": "stderr",
     "output_type": "stream",
     "text": [
      "100%|█████████████████████████████████████████████| 1/1 [00:00<00:00, 70.89it/s]\n",
      "100%|█████████████████████████████████████████████| 1/1 [00:00<00:00, 12.34it/s]\n"
     ]
    },
    {
     "name": "stdout",
     "output_type": "stream",
     "text": [
      "I'm not in the place, I'll teleport somewhere else\n"
     ]
    },
    {
     "name": "stderr",
     "output_type": "stream",
     "text": [
      "100%|█████████████████████████████████████████████| 1/1 [00:00<00:00, 69.04it/s]\n",
      "100%|█████████████████████████████████████████████| 1/1 [00:00<00:00, 13.19it/s]\n"
     ]
    },
    {
     "name": "stdout",
     "output_type": "stream",
     "text": [
      "I'm not in the place, I'll teleport somewhere else\n"
     ]
    },
    {
     "name": "stderr",
     "output_type": "stream",
     "text": [
      "100%|█████████████████████████████████████████████| 1/1 [00:00<00:00, 69.73it/s]\n",
      "100%|█████████████████████████████████████████████| 1/1 [00:00<00:00, 12.98it/s]\n",
      "100%|█████████████████████████████████████████████| 1/1 [00:00<00:00, 69.84it/s]\n",
      "100%|█████████████████████████████████████████████| 1/1 [00:00<00:00, 12.96it/s]\n"
     ]
    },
    {
     "name": "stdout",
     "output_type": "stream",
     "text": [
      "Close to the object, but i will rotate so we might find it.\n"
     ]
    },
    {
     "name": "stderr",
     "output_type": "stream",
     "text": [
      "100%|█████████████████████████████████████████████| 1/1 [00:00<00:00, 65.39it/s]\n",
      "100%|█████████████████████████████████████████████| 1/1 [00:00<00:00, 12.73it/s]\n"
     ]
    },
    {
     "name": "stdout",
     "output_type": "stream",
     "text": [
      "I'm not in the place, I'll teleport somewhere else\n"
     ]
    },
    {
     "name": "stderr",
     "output_type": "stream",
     "text": [
      "100%|█████████████████████████████████████████████| 1/1 [00:00<00:00, 71.83it/s]\n",
      "100%|█████████████████████████████████████████████| 1/1 [00:00<00:00, 13.09it/s]\n",
      "100%|█████████████████████████████████████████████| 1/1 [00:00<00:00, 75.64it/s]\n",
      "100%|█████████████████████████████████████████████| 1/1 [00:00<00:00, 12.84it/s]\n"
     ]
    },
    {
     "name": "stdout",
     "output_type": "stream",
     "text": [
      "I'm not in the place, I'll teleport somewhere else\n",
      "Did not find the place\n",
      "images/48.jpg :: next\n"
     ]
    },
    {
     "name": "stderr",
     "output_type": "stream",
     "text": [
      "100%|█████████████████████████████████████████████| 1/1 [00:00<00:00, 71.02it/s]\n",
      "100%|█████████████████████████████████████████████| 1/1 [00:00<00:00, 12.69it/s]\n",
      "100%|█████████████████████████████████████████████| 1/1 [00:00<00:00, 74.43it/s]\n",
      "100%|█████████████████████████████████████████████| 1/1 [00:00<00:00, 12.81it/s]\n",
      "100%|█████████████████████████████████████████████| 1/1 [00:00<00:00, 69.06it/s]\n",
      "100%|█████████████████████████████████████████████| 1/1 [00:00<00:00, 14.58it/s]\n",
      "100%|█████████████████████████████████████████████| 1/1 [00:00<00:00, 55.16it/s]\n",
      "100%|█████████████████████████████████████████████| 1/1 [00:00<00:00, 12.99it/s]\n",
      "100%|█████████████████████████████████████████████| 1/1 [00:00<00:00, 68.83it/s]\n",
      "100%|█████████████████████████████████████████████| 1/1 [00:00<00:00, 13.90it/s]\n",
      "100%|█████████████████████████████████████████████| 1/1 [00:00<00:00, 69.90it/s]\n",
      "100%|█████████████████████████████████████████████| 1/1 [00:00<00:00, 13.52it/s]\n",
      "100%|█████████████████████████████████████████████| 1/1 [00:00<00:00, 66.46it/s]\n",
      "100%|█████████████████████████████████████████████| 1/1 [00:00<00:00, 13.36it/s]\n"
     ]
    },
    {
     "name": "stdout",
     "output_type": "stream",
     "text": [
      "I'm not in the place, I'll teleport somewhere else\n"
     ]
    },
    {
     "name": "stderr",
     "output_type": "stream",
     "text": [
      "100%|█████████████████████████████████████████████| 1/1 [00:00<00:00, 68.21it/s]\n",
      "100%|█████████████████████████████████████████████| 1/1 [00:00<00:00, 11.54it/s]\n",
      "100%|█████████████████████████████████████████████| 1/1 [00:00<00:00, 63.60it/s]\n",
      "100%|█████████████████████████████████████████████| 1/1 [00:00<00:00, 13.23it/s]\n",
      "100%|█████████████████████████████████████████████| 1/1 [00:00<00:00, 69.36it/s]\n",
      "100%|█████████████████████████████████████████████| 1/1 [00:00<00:00, 12.91it/s]\n",
      "100%|█████████████████████████████████████████████| 1/1 [00:00<00:00, 69.27it/s]\n",
      "100%|█████████████████████████████████████████████| 1/1 [00:00<00:00, 13.43it/s]\n"
     ]
    },
    {
     "name": "stdout",
     "output_type": "stream",
     "text": [
      "I'm not in the place, I'll teleport somewhere else\n"
     ]
    },
    {
     "name": "stderr",
     "output_type": "stream",
     "text": [
      "100%|█████████████████████████████████████████████| 1/1 [00:00<00:00, 67.62it/s]\n",
      "100%|█████████████████████████████████████████████| 1/1 [00:00<00:00, 13.54it/s]\n"
     ]
    },
    {
     "name": "stdout",
     "output_type": "stream",
     "text": [
      "I'm not in the place, I'll teleport somewhere else\n"
     ]
    },
    {
     "name": "stderr",
     "output_type": "stream",
     "text": [
      "100%|█████████████████████████████████████████████| 1/1 [00:00<00:00, 68.61it/s]\n",
      "100%|█████████████████████████████████████████████| 1/1 [00:00<00:00, 13.43it/s]\n"
     ]
    },
    {
     "name": "stdout",
     "output_type": "stream",
     "text": [
      "I'm not in the place, I'll teleport somewhere else\n"
     ]
    },
    {
     "name": "stderr",
     "output_type": "stream",
     "text": [
      "100%|█████████████████████████████████████████████| 1/1 [00:00<00:00, 40.89it/s]\n",
      "100%|█████████████████████████████████████████████| 1/1 [00:00<00:00, 12.28it/s]\n"
     ]
    },
    {
     "name": "stdout",
     "output_type": "stream",
     "text": [
      "I'm not in the place, I'll teleport somewhere else\n"
     ]
    },
    {
     "name": "stderr",
     "output_type": "stream",
     "text": [
      "100%|█████████████████████████████████████████████| 1/1 [00:00<00:00, 72.31it/s]\n",
      "100%|█████████████████████████████████████████████| 1/1 [00:00<00:00, 13.80it/s]\n"
     ]
    },
    {
     "name": "stdout",
     "output_type": "stream",
     "text": [
      "I'm not in the place, I'll teleport somewhere else\n"
     ]
    },
    {
     "name": "stderr",
     "output_type": "stream",
     "text": [
      "100%|█████████████████████████████████████████████| 1/1 [00:00<00:00, 69.76it/s]\n",
      "100%|█████████████████████████████████████████████| 1/1 [00:00<00:00, 12.77it/s]\n"
     ]
    },
    {
     "name": "stdout",
     "output_type": "stream",
     "text": [
      "Did not find the place\n",
      "images/49.jpg :: next\n"
     ]
    },
    {
     "name": "stderr",
     "output_type": "stream",
     "text": [
      "100%|█████████████████████████████████████████████| 1/1 [00:00<00:00, 69.01it/s]\n",
      "100%|█████████████████████████████████████████████| 1/1 [00:00<00:00, 13.07it/s]\n",
      "100%|█████████████████████████████████████████████| 1/1 [00:00<00:00, 68.24it/s]\n",
      "100%|█████████████████████████████████████████████| 1/1 [00:00<00:00, 13.10it/s]\n",
      "100%|█████████████████████████████████████████████| 1/1 [00:00<00:00, 66.06it/s]\n",
      "100%|█████████████████████████████████████████████| 1/1 [00:00<00:00, 12.48it/s]\n",
      "100%|█████████████████████████████████████████████| 1/1 [00:00<00:00, 69.91it/s]\n",
      "100%|█████████████████████████████████████████████| 1/1 [00:00<00:00, 11.05it/s]\n"
     ]
    },
    {
     "name": "stdout",
     "output_type": "stream",
     "text": [
      "Close to the object, but i will rotate so we might find it.\n"
     ]
    },
    {
     "name": "stderr",
     "output_type": "stream",
     "text": [
      "100%|█████████████████████████████████████████████| 1/1 [00:00<00:00, 68.02it/s]\n",
      "100%|█████████████████████████████████████████████| 1/1 [00:00<00:00, 13.31it/s]\n",
      "100%|█████████████████████████████████████████████| 1/1 [00:00<00:00, 69.56it/s]\n",
      "100%|█████████████████████████████████████████████| 1/1 [00:00<00:00, 13.15it/s]\n"
     ]
    },
    {
     "name": "stdout",
     "output_type": "stream",
     "text": [
      "Close to the object, but i will rotate so we might find it.\n"
     ]
    },
    {
     "name": "stderr",
     "output_type": "stream",
     "text": [
      "100%|█████████████████████████████████████████████| 1/1 [00:00<00:00, 70.87it/s]\n",
      "100%|█████████████████████████████████████████████| 1/1 [00:00<00:00, 12.41it/s]\n"
     ]
    },
    {
     "name": "stdout",
     "output_type": "stream",
     "text": [
      "Close to the object, but i will rotate so we might find it.\n"
     ]
    },
    {
     "name": "stderr",
     "output_type": "stream",
     "text": [
      "100%|█████████████████████████████████████████████| 1/1 [00:00<00:00, 66.69it/s]\n",
      "100%|█████████████████████████████████████████████| 1/1 [00:00<00:00, 12.18it/s]\n"
     ]
    },
    {
     "name": "stdout",
     "output_type": "stream",
     "text": [
      "Close to the object, but i will rotate so we might find it.\n"
     ]
    },
    {
     "name": "stderr",
     "output_type": "stream",
     "text": [
      "100%|█████████████████████████████████████████████| 1/1 [00:00<00:00, 70.01it/s]\n",
      "100%|█████████████████████████████████████████████| 1/1 [00:00<00:00, 13.26it/s]\n",
      "100%|█████████████████████████████████████████████| 1/1 [00:00<00:00, 65.36it/s]\n",
      "100%|█████████████████████████████████████████████| 1/1 [00:00<00:00, 12.79it/s]\n"
     ]
    },
    {
     "name": "stdout",
     "output_type": "stream",
     "text": [
      "I'm not in the place, I'll teleport somewhere else\n"
     ]
    },
    {
     "name": "stderr",
     "output_type": "stream",
     "text": [
      "100%|█████████████████████████████████████████████| 1/1 [00:00<00:00, 71.29it/s]\n",
      "100%|█████████████████████████████████████████████| 1/1 [00:00<00:00, 12.33it/s]\n",
      "100%|█████████████████████████████████████████████| 1/1 [00:00<00:00, 70.46it/s]\n",
      "100%|█████████████████████████████████████████████| 1/1 [00:00<00:00, 14.16it/s]\n"
     ]
    },
    {
     "name": "stdout",
     "output_type": "stream",
     "text": [
      "I'm not in the place, I'll teleport somewhere else\n"
     ]
    },
    {
     "name": "stderr",
     "output_type": "stream",
     "text": [
      "100%|█████████████████████████████████████████████| 1/1 [00:00<00:00, 69.83it/s]\n",
      "100%|█████████████████████████████████████████████| 1/1 [00:00<00:00, 13.29it/s]\n"
     ]
    },
    {
     "name": "stdout",
     "output_type": "stream",
     "text": [
      "Cosine Similarity Score: 0.947849\n",
      "I'm in the place\n",
      "Results saved in DataFrame.\n",
      "images/50.jpg :: next\n"
     ]
    },
    {
     "name": "stderr",
     "output_type": "stream",
     "text": [
      "100%|█████████████████████████████████████████████| 1/1 [00:00<00:00, 72.19it/s]\n",
      "100%|█████████████████████████████████████████████| 1/1 [00:00<00:00, 12.96it/s]\n",
      "100%|█████████████████████████████████████████████| 1/1 [00:00<00:00, 74.52it/s]\n",
      "100%|█████████████████████████████████████████████| 1/1 [00:00<00:00, 13.17it/s]\n"
     ]
    },
    {
     "name": "stdout",
     "output_type": "stream",
     "text": [
      "I'm not in the place, I'll teleport somewhere else\n"
     ]
    },
    {
     "name": "stderr",
     "output_type": "stream",
     "text": [
      "100%|█████████████████████████████████████████████| 1/1 [00:00<00:00, 71.23it/s]\n",
      "100%|█████████████████████████████████████████████| 1/1 [00:00<00:00, 13.24it/s]\n"
     ]
    },
    {
     "name": "stdout",
     "output_type": "stream",
     "text": [
      "I'm not in the place, I'll teleport somewhere else\n"
     ]
    },
    {
     "name": "stderr",
     "output_type": "stream",
     "text": [
      "100%|█████████████████████████████████████████████| 1/1 [00:00<00:00, 74.12it/s]\n",
      "100%|█████████████████████████████████████████████| 1/1 [00:00<00:00, 12.63it/s]\n"
     ]
    },
    {
     "name": "stdout",
     "output_type": "stream",
     "text": [
      "I'm not in the place, I'll teleport somewhere else\n"
     ]
    },
    {
     "name": "stderr",
     "output_type": "stream",
     "text": [
      "100%|█████████████████████████████████████████████| 1/1 [00:00<00:00, 74.31it/s]\n",
      "100%|█████████████████████████████████████████████| 1/1 [00:00<00:00, 14.04it/s]\n",
      "100%|█████████████████████████████████████████████| 1/1 [00:00<00:00, 37.28it/s]\n",
      "100%|█████████████████████████████████████████████| 1/1 [00:00<00:00, 11.99it/s]\n"
     ]
    },
    {
     "name": "stdout",
     "output_type": "stream",
     "text": [
      "I'm not in the place, I'll teleport somewhere else\n"
     ]
    },
    {
     "name": "stderr",
     "output_type": "stream",
     "text": [
      "100%|█████████████████████████████████████████████| 1/1 [00:00<00:00, 65.84it/s]\n",
      "100%|█████████████████████████████████████████████| 1/1 [00:00<00:00, 13.17it/s]\n"
     ]
    },
    {
     "name": "stdout",
     "output_type": "stream",
     "text": [
      "I'm not in the place, I'll teleport somewhere else\n"
     ]
    },
    {
     "name": "stderr",
     "output_type": "stream",
     "text": [
      "100%|█████████████████████████████████████████████| 1/1 [00:00<00:00, 68.94it/s]\n",
      "100%|█████████████████████████████████████████████| 1/1 [00:00<00:00, 12.92it/s]\n"
     ]
    },
    {
     "name": "stdout",
     "output_type": "stream",
     "text": [
      "I'm not in the place, I'll teleport somewhere else\n"
     ]
    },
    {
     "name": "stderr",
     "output_type": "stream",
     "text": [
      "100%|█████████████████████████████████████████████| 1/1 [00:00<00:00, 68.31it/s]\n",
      "100%|█████████████████████████████████████████████| 1/1 [00:00<00:00, 12.04it/s]\n",
      "100%|█████████████████████████████████████████████| 1/1 [00:00<00:00, 71.04it/s]\n",
      "100%|█████████████████████████████████████████████| 1/1 [00:00<00:00, 11.29it/s]\n"
     ]
    },
    {
     "name": "stdout",
     "output_type": "stream",
     "text": [
      "I'm not in the place, I'll teleport somewhere else\n"
     ]
    },
    {
     "name": "stderr",
     "output_type": "stream",
     "text": [
      "100%|█████████████████████████████████████████████| 1/1 [00:00<00:00, 67.51it/s]\n",
      "100%|█████████████████████████████████████████████| 1/1 [00:00<00:00, 10.53it/s]\n"
     ]
    },
    {
     "name": "stdout",
     "output_type": "stream",
     "text": [
      "I'm not in the place, I'll teleport somewhere else\n"
     ]
    },
    {
     "name": "stderr",
     "output_type": "stream",
     "text": [
      "100%|█████████████████████████████████████████████| 1/1 [00:00<00:00, 66.65it/s]\n",
      "100%|█████████████████████████████████████████████| 1/1 [00:00<00:00, 11.97it/s]\n"
     ]
    },
    {
     "name": "stdout",
     "output_type": "stream",
     "text": [
      "I'm not in the place, I'll teleport somewhere else\n"
     ]
    },
    {
     "name": "stderr",
     "output_type": "stream",
     "text": [
      "100%|█████████████████████████████████████████████| 1/1 [00:00<00:00, 72.10it/s]\n",
      "100%|█████████████████████████████████████████████| 1/1 [00:00<00:00, 12.90it/s]\n"
     ]
    },
    {
     "name": "stdout",
     "output_type": "stream",
     "text": [
      "Close to the object, but i will rotate so we might find it.\n"
     ]
    },
    {
     "name": "stderr",
     "output_type": "stream",
     "text": [
      "100%|█████████████████████████████████████████████| 1/1 [00:00<00:00, 71.10it/s]\n",
      "100%|█████████████████████████████████████████████| 1/1 [00:00<00:00, 13.33it/s]\n"
     ]
    },
    {
     "name": "stdout",
     "output_type": "stream",
     "text": [
      "I'm not in the place, I'll teleport somewhere else\n"
     ]
    },
    {
     "name": "stderr",
     "output_type": "stream",
     "text": [
      "100%|█████████████████████████████████████████████| 1/1 [00:00<00:00, 63.86it/s]\n",
      "100%|█████████████████████████████████████████████| 1/1 [00:00<00:00, 14.19it/s]\n"
     ]
    },
    {
     "name": "stdout",
     "output_type": "stream",
     "text": [
      "I'm not in the place, I'll teleport somewhere else\n"
     ]
    },
    {
     "name": "stderr",
     "output_type": "stream",
     "text": [
      "100%|█████████████████████████████████████████████| 1/1 [00:00<00:00, 70.69it/s]\n",
      "100%|█████████████████████████████████████████████| 1/1 [00:00<00:00, 13.10it/s]\n"
     ]
    },
    {
     "name": "stdout",
     "output_type": "stream",
     "text": [
      "Did not find the place\n"
     ]
    }
   ],
   "source": [
    "# Constants\n",
    "COSINE_SIMILARITY_THRESHOLD = 0.93 #need to run the program a bunch of times to find suitable threshold values\n",
    "CLOSE_OBJECTS_THRESHOLD_LOW = 0.83\n",
    "CLOSE_OBJECTS_THRESHOLD_HIGH = 0.93\n",
    "MAX_ITERATIONS = 15\n",
    "\n",
    "\n",
    "# Directory to save images\n",
    "image_dir = \"found_images\"\n",
    "\n",
    "# Create the directory if it doesn't exist\n",
    "os.makedirs(image_dir, exist_ok=True)\n",
    "\n",
    "def main(human_text, img, org_img_path):\n",
    "    NR_ROTATIONS = 0\n",
    "    \n",
    "    human_room_prediction = predict_room(human_text)\n",
    "    human_text_embeddings = vec.encode_text_with_bert(human_text)\n",
    "    find = False\n",
    "\n",
    "    for count in range(MAX_ITERATIONS):\n",
    "        generated_caption = caption.image_to_caption(img)['generated_text']\n",
    "        robot_room_prediction = predict_room(generated_caption)\n",
    "        robot_text_embeddings = vec.encode_text_with_bert(generated_caption)\n",
    "\n",
    "        # Check if the robot is in the same room as the human\n",
    "        if robot_room_prediction == human_room_prediction:\n",
    "            # Check for similarity with input text\n",
    "            similarity_score = cosine_similarity(human_text_embeddings, robot_text_embeddings)[0][0]\n",
    "\n",
    "            if similarity_score >= COSINE_SIMILARITY_THRESHOLD:\n",
    "                print(\"Cosine Similarity Score:\", similarity_score)\n",
    "                print(\"I'm in the place\")\n",
    "                find = True\n",
    "\n",
    "                # Define the image filename\n",
    "                image_filename = f\"{org_img_path[7:-4:]}_found.jpg\"\n",
    "                \n",
    "                # Save the image to the specified directory\n",
    "                img.save(os.path.join(image_dir, image_filename))\n",
    "\n",
    "\n",
    "                \n",
    "                break\n",
    "            elif CLOSE_OBJECTS_THRESHOLD_LOW <= similarity_score < CLOSE_OBJECTS_THRESHOLD_HIGH and NR_ROTATIONS < 4: #as long as we have turned max 3 times\n",
    "                NR_ROTATIONS = NR_ROTATIONS + 1\n",
    "                img = Low_score_actions() #we turn and add one to the NR_ROTATIONS\n",
    "                continue \n",
    "            else:\n",
    "                print(\"I'm not in the place, I'll teleport somewhere else\")\n",
    "                img = Teleporting()\n",
    "        else:\n",
    "            img = Teleporting()\n",
    "\n",
    "    if find:\n",
    "        # display(img)\n",
    "        # Append the results to the DataFrame\n",
    "        result_df.loc[len(result_df)] = [org_img_path, human_text, human_room_prediction,image_filename,generated_caption, robot_room_prediction, similarity_score]\n",
    "        print(\"Results saved in DataFrame.\")\n",
    "    else:\n",
    "        print('Did not find the place')\n",
    "\n",
    "\n",
    "def predict_room(text):\n",
    "    filtered_text = remove_stopwords_and_make_dataframe(text)\n",
    "    model = room.load_best_model()\n",
    "    prediction = model.predict([filtered_text])[0]\n",
    "    return prediction[0]\n",
    "\n",
    "\n",
    "\n",
    "# DataFrame initialization to save result\n",
    "result_columns = [\"Original Image\", \"Input Text\",'user predicted room', \"predicted place\", \"Generated Caption\", 'robot predicted room' ,\"Cosine Similarity Score\"]\n",
    "result_df = pd.DataFrame(columns=result_columns)\n",
    "\n",
    "# Loading the evaluation data\n",
    "file_path = 'data_evaluation.tsv'\n",
    "df_eval = pd.read_csv(file_path, sep=';')\n",
    "\n",
    "\n",
    "num_of_caption = 50\n",
    "\n",
    "# Loop through the adjusted captions\n",
    "for index, row in df_eval.head(num_of_caption).iterrows():\n",
    "    \n",
    "    # controller = Controller(platform=CloudRendering)\n",
    "    img = Image.fromarray(controller.last_event.frame)\n",
    "\n",
    "    input_text = row['adjusted Caption']\n",
    "    org_img_path = row['Image Path']\n",
    "    print(org_img_path,\"::\",'next')\n",
    "\n",
    "    # run the simulation\n",
    "    main(input_text, img,org_img_path)\n",
    "\n",
    "# Save results\n",
    "result_df.to_csv(\"place_found.csv\")"
   ]
  },
  {
   "cell_type": "code",
   "execution_count": 16,
   "metadata": {},
   "outputs": [
    {
     "data": {
      "text/html": [
       "<div>\n",
       "<style scoped>\n",
       "    .dataframe tbody tr th:only-of-type {\n",
       "        vertical-align: middle;\n",
       "    }\n",
       "\n",
       "    .dataframe tbody tr th {\n",
       "        vertical-align: top;\n",
       "    }\n",
       "\n",
       "    .dataframe thead th {\n",
       "        text-align: right;\n",
       "    }\n",
       "</style>\n",
       "<table border=\"1\" class=\"dataframe\">\n",
       "  <thead>\n",
       "    <tr style=\"text-align: right;\">\n",
       "      <th></th>\n",
       "      <th>Unnamed: 0</th>\n",
       "      <th>Original Image</th>\n",
       "      <th>Input Text</th>\n",
       "      <th>user predicted room</th>\n",
       "      <th>predicted place</th>\n",
       "      <th>Generated Caption</th>\n",
       "      <th>robot predicted room</th>\n",
       "      <th>Cosine Similarity Score</th>\n",
       "    </tr>\n",
       "  </thead>\n",
       "  <tbody>\n",
       "    <tr>\n",
       "      <th>0</th>\n",
       "      <td>0</td>\n",
       "      <td>images/8.jpg</td>\n",
       "      <td>a kitchen equipped with a refrigerator, sink, ...</td>\n",
       "      <td>3</td>\n",
       "      <td>8_found.jpg</td>\n",
       "      <td>a kitchen with a stove, sink, and refrigerator</td>\n",
       "      <td>3</td>\n",
       "      <td>0.967165</td>\n",
       "    </tr>\n",
       "    <tr>\n",
       "      <th>1</th>\n",
       "      <td>1</td>\n",
       "      <td>images/10.jpg</td>\n",
       "      <td>a kitchen with a counter, sink, and a window</td>\n",
       "      <td>3</td>\n",
       "      <td>10_found.jpg</td>\n",
       "      <td>a kitchen with a stove, sink, and a refrigerator</td>\n",
       "      <td>3</td>\n",
       "      <td>0.945124</td>\n",
       "    </tr>\n",
       "    <tr>\n",
       "      <th>2</th>\n",
       "      <td>2</td>\n",
       "      <td>images/20.jpg</td>\n",
       "      <td>a kitchen with a microwave, sink, stove, and r...</td>\n",
       "      <td>3</td>\n",
       "      <td>20_found.jpg</td>\n",
       "      <td>a kitchen with a stove, microwave, refrigerato...</td>\n",
       "      <td>3</td>\n",
       "      <td>0.962595</td>\n",
       "    </tr>\n",
       "    <tr>\n",
       "      <th>3</th>\n",
       "      <td>3</td>\n",
       "      <td>images/27.jpg</td>\n",
       "      <td>a room with a black and white floor and a whit...</td>\n",
       "      <td>1</td>\n",
       "      <td>27_found.jpg</td>\n",
       "      <td>a room with a white wall and a black floor</td>\n",
       "      <td>1</td>\n",
       "      <td>0.973317</td>\n",
       "    </tr>\n",
       "    <tr>\n",
       "      <th>4</th>\n",
       "      <td>4</td>\n",
       "      <td>images/28.jpg</td>\n",
       "      <td>a room with a black wall and a white floor</td>\n",
       "      <td>1</td>\n",
       "      <td>28_found.jpg</td>\n",
       "      <td>a room with a white wall and a black floor</td>\n",
       "      <td>1</td>\n",
       "      <td>0.999162</td>\n",
       "    </tr>\n",
       "    <tr>\n",
       "      <th>5</th>\n",
       "      <td>5</td>\n",
       "      <td>images/29.jpg</td>\n",
       "      <td>a kitchen with a sink, refrigerator, and stove</td>\n",
       "      <td>3</td>\n",
       "      <td>29_found.jpg</td>\n",
       "      <td>a kitchen with a sink, stove, and a window</td>\n",
       "      <td>3</td>\n",
       "      <td>0.948319</td>\n",
       "    </tr>\n",
       "    <tr>\n",
       "      <th>6</th>\n",
       "      <td>6</td>\n",
       "      <td>images/31.jpg</td>\n",
       "      <td>a kitchen with a refrigerator, sink, and stove</td>\n",
       "      <td>3</td>\n",
       "      <td>31_found.jpg</td>\n",
       "      <td>a kitchen with a stove, refrigerator, and a sink</td>\n",
       "      <td>3</td>\n",
       "      <td>0.983192</td>\n",
       "    </tr>\n",
       "    <tr>\n",
       "      <th>7</th>\n",
       "      <td>7</td>\n",
       "      <td>images/32.jpg</td>\n",
       "      <td>a room with a door and a wooden floor</td>\n",
       "      <td>1</td>\n",
       "      <td>32_found.jpg</td>\n",
       "      <td>a hallway with a wooden floor and a wooden floor</td>\n",
       "      <td>1</td>\n",
       "      <td>0.939449</td>\n",
       "    </tr>\n",
       "    <tr>\n",
       "      <th>8</th>\n",
       "      <td>8</td>\n",
       "      <td>images/33.jpg</td>\n",
       "      <td>a room with a window and a wall</td>\n",
       "      <td>1</td>\n",
       "      <td>33_found.jpg</td>\n",
       "      <td>a room with a door and a wall with a wooden fl...</td>\n",
       "      <td>1</td>\n",
       "      <td>0.944226</td>\n",
       "    </tr>\n",
       "    <tr>\n",
       "      <th>9</th>\n",
       "      <td>9</td>\n",
       "      <td>images/38.jpg</td>\n",
       "      <td>a room with a black and white floor and a whit...</td>\n",
       "      <td>1</td>\n",
       "      <td>38_found.jpg</td>\n",
       "      <td>a room with a white wall and a black and white...</td>\n",
       "      <td>1</td>\n",
       "      <td>0.995671</td>\n",
       "    </tr>\n",
       "    <tr>\n",
       "      <th>10</th>\n",
       "      <td>10</td>\n",
       "      <td>images/39.jpg</td>\n",
       "      <td>a kitchen with a table, sink, refrigerator, an...</td>\n",
       "      <td>3</td>\n",
       "      <td>39_found.jpg</td>\n",
       "      <td>a kitchen with a stove, sink, and cabinets</td>\n",
       "      <td>3</td>\n",
       "      <td>0.965374</td>\n",
       "    </tr>\n",
       "    <tr>\n",
       "      <th>11</th>\n",
       "      <td>11</td>\n",
       "      <td>images/40.jpg</td>\n",
       "      <td>a kitchen with a table, sink, stove, and refri...</td>\n",
       "      <td>3</td>\n",
       "      <td>40_found.jpg</td>\n",
       "      <td>a kitchen with a stove, sink, and cabinets</td>\n",
       "      <td>3</td>\n",
       "      <td>0.963876</td>\n",
       "    </tr>\n",
       "    <tr>\n",
       "      <th>12</th>\n",
       "      <td>12</td>\n",
       "      <td>images/42.jpg</td>\n",
       "      <td>a kitchen with a stove, refrigerator, and a table</td>\n",
       "      <td>3</td>\n",
       "      <td>42_found.jpg</td>\n",
       "      <td>a kitchen with a stove, sink, and refrigerator</td>\n",
       "      <td>3</td>\n",
       "      <td>0.955001</td>\n",
       "    </tr>\n",
       "    <tr>\n",
       "      <th>13</th>\n",
       "      <td>13</td>\n",
       "      <td>images/44.jpg</td>\n",
       "      <td>a kitchen with a table, sink, stove, and refri...</td>\n",
       "      <td>3</td>\n",
       "      <td>44_found.jpg</td>\n",
       "      <td>a kitchen with a sink, a refrigerator, and a t...</td>\n",
       "      <td>3</td>\n",
       "      <td>0.933731</td>\n",
       "    </tr>\n",
       "    <tr>\n",
       "      <th>14</th>\n",
       "      <td>14</td>\n",
       "      <td>images/45.jpg</td>\n",
       "      <td>a kitchen with a refrigerator, sink, and stove</td>\n",
       "      <td>3</td>\n",
       "      <td>45_found.jpg</td>\n",
       "      <td>a kitchen with a sink, a refrigerator, and a t...</td>\n",
       "      <td>3</td>\n",
       "      <td>0.945454</td>\n",
       "    </tr>\n",
       "    <tr>\n",
       "      <th>15</th>\n",
       "      <td>15</td>\n",
       "      <td>images/49.jpg</td>\n",
       "      <td>a room with a blue door and a white wall</td>\n",
       "      <td>1</td>\n",
       "      <td>49_found.jpg</td>\n",
       "      <td>a room with a white wall and a light on</td>\n",
       "      <td>1</td>\n",
       "      <td>0.947849</td>\n",
       "    </tr>\n",
       "  </tbody>\n",
       "</table>\n",
       "</div>"
      ],
      "text/plain": [
       "    Unnamed: 0 Original Image  \\\n",
       "0            0   images/8.jpg   \n",
       "1            1  images/10.jpg   \n",
       "2            2  images/20.jpg   \n",
       "3            3  images/27.jpg   \n",
       "4            4  images/28.jpg   \n",
       "5            5  images/29.jpg   \n",
       "6            6  images/31.jpg   \n",
       "7            7  images/32.jpg   \n",
       "8            8  images/33.jpg   \n",
       "9            9  images/38.jpg   \n",
       "10          10  images/39.jpg   \n",
       "11          11  images/40.jpg   \n",
       "12          12  images/42.jpg   \n",
       "13          13  images/44.jpg   \n",
       "14          14  images/45.jpg   \n",
       "15          15  images/49.jpg   \n",
       "\n",
       "                                           Input Text  user predicted room  \\\n",
       "0   a kitchen equipped with a refrigerator, sink, ...                    3   \n",
       "1        a kitchen with a counter, sink, and a window                    3   \n",
       "2   a kitchen with a microwave, sink, stove, and r...                    3   \n",
       "3   a room with a black and white floor and a whit...                    1   \n",
       "4          a room with a black wall and a white floor                    1   \n",
       "5      a kitchen with a sink, refrigerator, and stove                    3   \n",
       "6      a kitchen with a refrigerator, sink, and stove                    3   \n",
       "7               a room with a door and a wooden floor                    1   \n",
       "8                     a room with a window and a wall                    1   \n",
       "9   a room with a black and white floor and a whit...                    1   \n",
       "10  a kitchen with a table, sink, refrigerator, an...                    3   \n",
       "11  a kitchen with a table, sink, stove, and refri...                    3   \n",
       "12  a kitchen with a stove, refrigerator, and a table                    3   \n",
       "13  a kitchen with a table, sink, stove, and refri...                    3   \n",
       "14     a kitchen with a refrigerator, sink, and stove                    3   \n",
       "15           a room with a blue door and a white wall                    1   \n",
       "\n",
       "   predicted place                                  Generated Caption  \\\n",
       "0      8_found.jpg    a kitchen with a stove, sink, and refrigerator    \n",
       "1     10_found.jpg  a kitchen with a stove, sink, and a refrigerator    \n",
       "2     20_found.jpg  a kitchen with a stove, microwave, refrigerato...   \n",
       "3     27_found.jpg        a room with a white wall and a black floor    \n",
       "4     28_found.jpg        a room with a white wall and a black floor    \n",
       "5     29_found.jpg        a kitchen with a sink, stove, and a window    \n",
       "6     31_found.jpg  a kitchen with a stove, refrigerator, and a sink    \n",
       "7     32_found.jpg  a hallway with a wooden floor and a wooden floor    \n",
       "8     33_found.jpg  a room with a door and a wall with a wooden fl...   \n",
       "9     38_found.jpg  a room with a white wall and a black and white...   \n",
       "10    39_found.jpg        a kitchen with a stove, sink, and cabinets    \n",
       "11    40_found.jpg        a kitchen with a stove, sink, and cabinets    \n",
       "12    42_found.jpg    a kitchen with a stove, sink, and refrigerator    \n",
       "13    44_found.jpg  a kitchen with a sink, a refrigerator, and a t...   \n",
       "14    45_found.jpg  a kitchen with a sink, a refrigerator, and a t...   \n",
       "15    49_found.jpg           a room with a white wall and a light on    \n",
       "\n",
       "    robot predicted room  Cosine Similarity Score  \n",
       "0                      3                 0.967165  \n",
       "1                      3                 0.945124  \n",
       "2                      3                 0.962595  \n",
       "3                      1                 0.973317  \n",
       "4                      1                 0.999162  \n",
       "5                      3                 0.948319  \n",
       "6                      3                 0.983192  \n",
       "7                      1                 0.939449  \n",
       "8                      1                 0.944226  \n",
       "9                      1                 0.995671  \n",
       "10                     3                 0.965374  \n",
       "11                     3                 0.963876  \n",
       "12                     3                 0.955001  \n",
       "13                     3                 0.933731  \n",
       "14                     3                 0.945454  \n",
       "15                     1                 0.947849  "
      ]
     },
     "execution_count": 16,
     "metadata": {},
     "output_type": "execute_result"
    }
   ],
   "source": [
    "file_path = 'place_found.csv'\n",
    "result = pd.read_csv(file_path)\n",
    "\n",
    "result"
   ]
  },
  {
   "cell_type": "code",
   "execution_count": null,
   "metadata": {},
   "outputs": [],
   "source": []
  }
 ],
 "metadata": {
  "colab": {
   "provenance": []
  },
  "kernelspec": {
   "display_name": "Python 3 (ipykernel)",
   "language": "python",
   "name": "python3"
  },
  "language_info": {
   "codemirror_mode": {
    "name": "ipython",
    "version": 3
   },
   "file_extension": ".py",
   "mimetype": "text/x-python",
   "name": "python",
   "nbconvert_exporter": "python",
   "pygments_lexer": "ipython3",
   "version": "3.10.11"
  },
  "widgets": {
   "application/vnd.jupyter.widget-state+json": {
    "18246aae7d414e9db5c7c11968d85f96": {
     "model_module": "@jupyter-widgets/controls",
     "model_module_version": "1.5.0",
     "model_name": "HBoxModel",
     "state": {
      "_dom_classes": [],
      "_model_module": "@jupyter-widgets/controls",
      "_model_module_version": "1.5.0",
      "_model_name": "HBoxModel",
      "_view_count": null,
      "_view_module": "@jupyter-widgets/controls",
      "_view_module_version": "1.5.0",
      "_view_name": "HBoxView",
      "box_style": "",
      "children": [
       "IPY_MODEL_e712ee16b4df4e578c28eba98b48c648",
       "IPY_MODEL_8e50cb34a82141b1b27d1e741133e296",
       "IPY_MODEL_a24ea782ab3f4095a4c5f1295f552033"
      ],
      "layout": "IPY_MODEL_a2c68912e47745d18d7df7e0924b3dcc"
     }
    },
    "1de76081655745faa2a2681b589db214": {
     "model_module": "@jupyter-widgets/controls",
     "model_module_version": "1.5.0",
     "model_name": "HBoxModel",
     "state": {
      "_dom_classes": [],
      "_model_module": "@jupyter-widgets/controls",
      "_model_module_version": "1.5.0",
      "_model_name": "HBoxModel",
      "_view_count": null,
      "_view_module": "@jupyter-widgets/controls",
      "_view_module_version": "1.5.0",
      "_view_name": "HBoxView",
      "box_style": "",
      "children": [
       "IPY_MODEL_dfed8cc40d80477d8d95ecdcdf30e4ef",
       "IPY_MODEL_ff61d7960e3d414fa7201ae8180c7a85",
       "IPY_MODEL_031375c7b90c4e0695a8c3db2713e900"
      ],
      "layout": "IPY_MODEL_30892c9ac9ba462682868ba21556931c"
     }
    },
    "43cad8e0bf684a8e9ba810823df0e596": {
     "model_module": "@jupyter-widgets/controls",
     "model_module_version": "1.5.0",
     "model_name": "HBoxModel",
     "state": {
      "_dom_classes": [],
      "_model_module": "@jupyter-widgets/controls",
      "_model_module_version": "1.5.0",
      "_model_name": "HBoxModel",
      "_view_count": null,
      "_view_module": "@jupyter-widgets/controls",
      "_view_module_version": "1.5.0",
      "_view_name": "HBoxView",
      "box_style": "",
      "children": [
       "IPY_MODEL_8fa03a02b9994a229e78bfb0460c1718",
       "IPY_MODEL_07a9396d741b4fda957b092d9d9ac710",
       "IPY_MODEL_924ae00d14d9421cbe98d9b790dcf0cf"
      ],
      "layout": "IPY_MODEL_c8fc2c7289fe458d9f9542fdaa4ccc2d"
     }
    },
    "49378ba2fb20408a833d0c90e1d8dfa7": {
     "model_module": "@jupyter-widgets/controls",
     "model_module_version": "1.5.0",
     "model_name": "HBoxModel",
     "state": {
      "_dom_classes": [],
      "_model_module": "@jupyter-widgets/controls",
      "_model_module_version": "1.5.0",
      "_model_name": "HBoxModel",
      "_view_count": null,
      "_view_module": "@jupyter-widgets/controls",
      "_view_module_version": "1.5.0",
      "_view_name": "HBoxView",
      "box_style": "",
      "children": [
       "IPY_MODEL_237da10b5a504abbb1db20255cf88400",
       "IPY_MODEL_55a4d016eb0b4e8db58c52ec2bce1251",
       "IPY_MODEL_9696ea472ed54c28b92371cd6dd7ead8"
      ],
      "layout": "IPY_MODEL_72c2c0d5d792405580b180d3906c5a42"
     }
    },
    "4d5fd76d12814268a87cd5eaad6659e9": {
     "model_module": "@jupyter-widgets/controls",
     "model_module_version": "1.5.0",
     "model_name": "HBoxModel",
     "state": {
      "_dom_classes": [],
      "_model_module": "@jupyter-widgets/controls",
      "_model_module_version": "1.5.0",
      "_model_name": "HBoxModel",
      "_view_count": null,
      "_view_module": "@jupyter-widgets/controls",
      "_view_module_version": "1.5.0",
      "_view_name": "HBoxView",
      "box_style": "",
      "children": [
       "IPY_MODEL_5e1e34a95d004ed6b24132eb847edee7",
       "IPY_MODEL_b04399156ae845a7b22d1c408fb2da41",
       "IPY_MODEL_ecddb22f8d8e42f7a1d1c9550bbd3285"
      ],
      "layout": "IPY_MODEL_14b4161f4a484464956d7ea79595bd02"
     }
    },
    "5fb0c67a237d4926b3260c8876258260": {
     "model_module": "@jupyter-widgets/controls",
     "model_module_version": "1.5.0",
     "model_name": "HBoxModel",
     "state": {
      "_dom_classes": [],
      "_model_module": "@jupyter-widgets/controls",
      "_model_module_version": "1.5.0",
      "_model_name": "HBoxModel",
      "_view_count": null,
      "_view_module": "@jupyter-widgets/controls",
      "_view_module_version": "1.5.0",
      "_view_name": "HBoxView",
      "box_style": "",
      "children": [
       "IPY_MODEL_1e3aa861b2ca49bdafc33903854c3385",
       "IPY_MODEL_a3660fe933fd47db9209135e79d2b65d",
       "IPY_MODEL_be3fed9d7b5441bbad52a6ab8728679c"
      ],
      "layout": "IPY_MODEL_9d4834c11cd040389c59a7e8e98aa6c1"
     }
    },
    "6ba69ef09bdc4364a67d03a4a4d05e71": {
     "model_module": "@jupyter-widgets/controls",
     "model_module_version": "1.5.0",
     "model_name": "HBoxModel",
     "state": {
      "_dom_classes": [],
      "_model_module": "@jupyter-widgets/controls",
      "_model_module_version": "1.5.0",
      "_model_name": "HBoxModel",
      "_view_count": null,
      "_view_module": "@jupyter-widgets/controls",
      "_view_module_version": "1.5.0",
      "_view_name": "HBoxView",
      "box_style": "",
      "children": [
       "IPY_MODEL_7d2a199d83c34731a1316d904ab10311",
       "IPY_MODEL_5bae968e1a8f4fe89b26397e768894f6",
       "IPY_MODEL_f189bd3c75d148048b054137434984b4"
      ],
      "layout": "IPY_MODEL_96b500e6eff84d1c8e1cac7fac8fbaa6"
     }
    },
    "6cc0607a0ba242a78ad5b2d8cae804e7": {
     "model_module": "@jupyter-widgets/controls",
     "model_module_version": "1.5.0",
     "model_name": "HBoxModel",
     "state": {
      "_dom_classes": [],
      "_model_module": "@jupyter-widgets/controls",
      "_model_module_version": "1.5.0",
      "_model_name": "HBoxModel",
      "_view_count": null,
      "_view_module": "@jupyter-widgets/controls",
      "_view_module_version": "1.5.0",
      "_view_name": "HBoxView",
      "box_style": "",
      "children": [
       "IPY_MODEL_36451845388e44bc9fd4191af3c80c9c",
       "IPY_MODEL_3c153120de884156a4353a7b786bb26a",
       "IPY_MODEL_a414226e64be436fa670e60d909723c7"
      ],
      "layout": "IPY_MODEL_6a65ea49487e416284dd8ab48d433b02"
     }
    },
    "76814b92fca646769f5e4f6342f5bb5b": {
     "model_module": "@jupyter-widgets/controls",
     "model_module_version": "1.5.0",
     "model_name": "HBoxModel",
     "state": {
      "_dom_classes": [],
      "_model_module": "@jupyter-widgets/controls",
      "_model_module_version": "1.5.0",
      "_model_name": "HBoxModel",
      "_view_count": null,
      "_view_module": "@jupyter-widgets/controls",
      "_view_module_version": "1.5.0",
      "_view_name": "HBoxView",
      "box_style": "",
      "children": [
       "IPY_MODEL_f6d3169d04cc4737a723658f49f2c3cc",
       "IPY_MODEL_ab856db2b34347aca95b73f9e0ee72e4",
       "IPY_MODEL_5fa22c716e7542ef9b126fc7323e9d67"
      ],
      "layout": "IPY_MODEL_29fbf3f3f560422cbf361529525d162d"
     }
    },
    "99708abca95a4dd28aad3e17c5dbc20f": {
     "model_module": "@jupyter-widgets/controls",
     "model_module_version": "1.5.0",
     "model_name": "HBoxModel",
     "state": {
      "_dom_classes": [],
      "_model_module": "@jupyter-widgets/controls",
      "_model_module_version": "1.5.0",
      "_model_name": "HBoxModel",
      "_view_count": null,
      "_view_module": "@jupyter-widgets/controls",
      "_view_module_version": "1.5.0",
      "_view_name": "HBoxView",
      "box_style": "",
      "children": [
       "IPY_MODEL_592f428ecec34b9aabb4f22794fec9c9",
       "IPY_MODEL_bb8df6058ca7483c93d25e5686c80233",
       "IPY_MODEL_bcfec316cc41496e8be6e9ba492db192"
      ],
      "layout": "IPY_MODEL_88b336f01840438e8ca44e3b83c536b0"
     }
    },
    "a518385bb16c44c2baa935446cffb08f": {
     "model_module": "@jupyter-widgets/controls",
     "model_module_version": "1.5.0",
     "model_name": "HBoxModel",
     "state": {
      "_dom_classes": [],
      "_model_module": "@jupyter-widgets/controls",
      "_model_module_version": "1.5.0",
      "_model_name": "HBoxModel",
      "_view_count": null,
      "_view_module": "@jupyter-widgets/controls",
      "_view_module_version": "1.5.0",
      "_view_name": "HBoxView",
      "box_style": "",
      "children": [
       "IPY_MODEL_f9c53e1cc7d34e7aaa2bd7d10bee96ab",
       "IPY_MODEL_b312f3134b724c4d9083dec96ada929a",
       "IPY_MODEL_0f043a585ff54792a871ec3b8c64f1d4"
      ],
      "layout": "IPY_MODEL_c9facc1843bd4acb8c04797c4c749fb9"
     }
    },
    "aec741e41ca2474db7bc05f1698bab7d": {
     "model_module": "@jupyter-widgets/controls",
     "model_module_version": "1.5.0",
     "model_name": "HBoxModel",
     "state": {
      "_dom_classes": [],
      "_model_module": "@jupyter-widgets/controls",
      "_model_module_version": "1.5.0",
      "_model_name": "HBoxModel",
      "_view_count": null,
      "_view_module": "@jupyter-widgets/controls",
      "_view_module_version": "1.5.0",
      "_view_name": "HBoxView",
      "box_style": "",
      "children": [
       "IPY_MODEL_f09036798f4e4a9cac6b51df976dc792",
       "IPY_MODEL_8fd4fee82e8341db878bbf2ce398f45e",
       "IPY_MODEL_dba58e68bc3e491a8f1cd34291415b5a"
      ],
      "layout": "IPY_MODEL_b903eaf4e09b4aea87e0da96fedda8c5"
     }
    },
    "b2272268cebb485584fdcdc56417a82e": {
     "model_module": "@jupyter-widgets/controls",
     "model_module_version": "1.5.0",
     "model_name": "HBoxModel",
     "state": {
      "_dom_classes": [],
      "_model_module": "@jupyter-widgets/controls",
      "_model_module_version": "1.5.0",
      "_model_name": "HBoxModel",
      "_view_count": null,
      "_view_module": "@jupyter-widgets/controls",
      "_view_module_version": "1.5.0",
      "_view_name": "HBoxView",
      "box_style": "",
      "children": [
       "IPY_MODEL_d94fbe8888384d69b0f3cb4bc4ce0961",
       "IPY_MODEL_cd1632ee01524f8385860ecbe443b783",
       "IPY_MODEL_8d90be73f6b74aa0b6c4d12f5606f318"
      ],
      "layout": "IPY_MODEL_2adf13d3ed2448a58a2bf9ddd373f9d4"
     }
    },
    "bacde573fdae4818ada034833bb2a1f5": {
     "model_module": "@jupyter-widgets/controls",
     "model_module_version": "1.5.0",
     "model_name": "HBoxModel",
     "state": {
      "_dom_classes": [],
      "_model_module": "@jupyter-widgets/controls",
      "_model_module_version": "1.5.0",
      "_model_name": "HBoxModel",
      "_view_count": null,
      "_view_module": "@jupyter-widgets/controls",
      "_view_module_version": "1.5.0",
      "_view_name": "HBoxView",
      "box_style": "",
      "children": [
       "IPY_MODEL_829748cc5bed4c32b07fac520ccb9404",
       "IPY_MODEL_f770f06c5cd64cb29727e5a60743df4f",
       "IPY_MODEL_d58ac986bf004ea18be4520a63a1bd2d"
      ],
      "layout": "IPY_MODEL_47840ca5623545928f7ad23f7b7a99ae"
     }
    },
    "bfd07e4208c3480aaa8fa4db066a0280": {
     "model_module": "@jupyter-widgets/controls",
     "model_module_version": "1.5.0",
     "model_name": "HBoxModel",
     "state": {
      "_dom_classes": [],
      "_model_module": "@jupyter-widgets/controls",
      "_model_module_version": "1.5.0",
      "_model_name": "HBoxModel",
      "_view_count": null,
      "_view_module": "@jupyter-widgets/controls",
      "_view_module_version": "1.5.0",
      "_view_name": "HBoxView",
      "box_style": "",
      "children": [
       "IPY_MODEL_70731d4310804f8ba1a300719330be79",
       "IPY_MODEL_c76933c9615044a781a73f22bbd4c086",
       "IPY_MODEL_0d55b6466b794a8485d796a8c7c99c2f"
      ],
      "layout": "IPY_MODEL_5ea80921262846c4b96990bc92bebafa"
     }
    },
    "c3f37f5e543e4fd593536ecfe6cb78e9": {
     "model_module": "@jupyter-widgets/controls",
     "model_module_version": "1.5.0",
     "model_name": "HBoxModel",
     "state": {
      "_dom_classes": [],
      "_model_module": "@jupyter-widgets/controls",
      "_model_module_version": "1.5.0",
      "_model_name": "HBoxModel",
      "_view_count": null,
      "_view_module": "@jupyter-widgets/controls",
      "_view_module_version": "1.5.0",
      "_view_name": "HBoxView",
      "box_style": "",
      "children": [
       "IPY_MODEL_2d3152f66e594714ad6ca5d02f3c3f2a",
       "IPY_MODEL_f8606f19334b4220acaee3a04aba7065",
       "IPY_MODEL_1db895be0f124508b89795a3ac14be27"
      ],
      "layout": "IPY_MODEL_b475ea2fd9d64691879f74de76bde401"
     }
    },
    "e435f2d13b684aa3b83e583657b3718e": {
     "model_module": "@jupyter-widgets/controls",
     "model_module_version": "1.5.0",
     "model_name": "HBoxModel",
     "state": {
      "_dom_classes": [],
      "_model_module": "@jupyter-widgets/controls",
      "_model_module_version": "1.5.0",
      "_model_name": "HBoxModel",
      "_view_count": null,
      "_view_module": "@jupyter-widgets/controls",
      "_view_module_version": "1.5.0",
      "_view_name": "HBoxView",
      "box_style": "",
      "children": [
       "IPY_MODEL_f1f276533ad7488c80e535d14d084ab1",
       "IPY_MODEL_628fd02df1b041ed99d8f95c5b3c7b42",
       "IPY_MODEL_40a2883cbfcd49008afae5989dfe7d0d"
      ],
      "layout": "IPY_MODEL_5d2991a9fbf34727a16de8f40eb274ff"
     }
    },
    "e69d862ba2e648a8a4a4a1e34b35410f": {
     "model_module": "@jupyter-widgets/controls",
     "model_module_version": "1.5.0",
     "model_name": "HBoxModel",
     "state": {
      "_dom_classes": [],
      "_model_module": "@jupyter-widgets/controls",
      "_model_module_version": "1.5.0",
      "_model_name": "HBoxModel",
      "_view_count": null,
      "_view_module": "@jupyter-widgets/controls",
      "_view_module_version": "1.5.0",
      "_view_name": "HBoxView",
      "box_style": "",
      "children": [
       "IPY_MODEL_5b1207f4db3143c698445ee9795aa3a7",
       "IPY_MODEL_e225a61f063345d2935987f252f8a883",
       "IPY_MODEL_7cdf1670e5d141b8bf50cc7ab7be88ac"
      ],
      "layout": "IPY_MODEL_ebd9ef001d2645d9be8eefeadae954da"
     }
    },
    "e736660f447d42fbbc7cec13161e1ad8": {
     "model_module": "@jupyter-widgets/controls",
     "model_module_version": "1.5.0",
     "model_name": "HBoxModel",
     "state": {
      "_dom_classes": [],
      "_model_module": "@jupyter-widgets/controls",
      "_model_module_version": "1.5.0",
      "_model_name": "HBoxModel",
      "_view_count": null,
      "_view_module": "@jupyter-widgets/controls",
      "_view_module_version": "1.5.0",
      "_view_name": "HBoxView",
      "box_style": "",
      "children": [
       "IPY_MODEL_22ac3b8a4fdf4ba59c246ed1f7b9ffa5",
       "IPY_MODEL_01c3d9edaf7f480191bd176d92dddcb2",
       "IPY_MODEL_91059ac0f3af48ecb03f3c45b3984c47"
      ],
      "layout": "IPY_MODEL_9a29499385b9413cb13964339f1b80c5"
     }
    },
    "e8ff56466da9407eb6910b92292ddbcd": {
     "model_module": "@jupyter-widgets/controls",
     "model_module_version": "1.5.0",
     "model_name": "HBoxModel",
     "state": {
      "_dom_classes": [],
      "_model_module": "@jupyter-widgets/controls",
      "_model_module_version": "1.5.0",
      "_model_name": "HBoxModel",
      "_view_count": null,
      "_view_module": "@jupyter-widgets/controls",
      "_view_module_version": "1.5.0",
      "_view_name": "HBoxView",
      "box_style": "",
      "children": [
       "IPY_MODEL_8f214b2625b543da8ad69040f80caf0f",
       "IPY_MODEL_9163813e5f014164a8777a94377cdd90",
       "IPY_MODEL_cd08cbf9d0994e28be6832f39a2c290c"
      ],
      "layout": "IPY_MODEL_61f3a730dabf45d2b30d05525e4d6b70"
     }
    },
    "f4888182816b4ca19efa83f6c666bca5": {
     "model_module": "@jupyter-widgets/controls",
     "model_module_version": "1.5.0",
     "model_name": "HBoxModel",
     "state": {
      "_dom_classes": [],
      "_model_module": "@jupyter-widgets/controls",
      "_model_module_version": "1.5.0",
      "_model_name": "HBoxModel",
      "_view_count": null,
      "_view_module": "@jupyter-widgets/controls",
      "_view_module_version": "1.5.0",
      "_view_name": "HBoxView",
      "box_style": "",
      "children": [
       "IPY_MODEL_0bd3af94a3544b618beef156bbd9c52e",
       "IPY_MODEL_b2ed3e6558d34003af56dd5976e4d5df",
       "IPY_MODEL_5c8b84171668444ea2b63d6b0f3b260c"
      ],
      "layout": "IPY_MODEL_569c292207ae4d83a269c899190db55b"
     }
    }
   }
  }
 },
 "nbformat": 4,
 "nbformat_minor": 4
}
