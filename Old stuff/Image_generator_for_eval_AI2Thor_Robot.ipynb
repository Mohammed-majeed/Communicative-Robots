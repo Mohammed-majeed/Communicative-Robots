{
 "cells": [
  {
   "cell_type": "code",
   "execution_count": 3,
   "metadata": {
    "colab": {
     "base_uri": "https://localhost:8080/"
    },
    "id": "IxBJ8_7deZLO",
    "outputId": "dc634953-cff6-4bca-8d2a-fa013b40f229"
   },
   "outputs": [],
   "source": [
    "# from google.colab import drive\n",
    "# drive.mount('/content/drive')"
   ]
  },
  {
   "cell_type": "code",
   "execution_count": 4,
   "metadata": {
    "id": "GQBCDu3_IYYq"
   },
   "outputs": [],
   "source": [
    "import random\n",
    "import warnings,logging\n",
    "warnings.simplefilter('ignore')\n",
    "logging.disable(logging.WARNING)"
   ]
  },
  {
   "cell_type": "code",
   "execution_count": 5,
   "metadata": {
    "colab": {
     "base_uri": "https://localhost:8080/"
    },
    "id": "jxBioLb7HHCr",
    "outputId": "3c6f90a6-4456-4238-863b-721d17ad9eaf"
   },
   "outputs": [],
   "source": [
    "# !pip install --upgrade ai2thor --quiet\n",
    "# !pip install ai2thor-colab prior --upgrade &> /dev/null"
   ]
  },
  {
   "cell_type": "code",
   "execution_count": 6,
   "metadata": {
    "colab": {
     "base_uri": "https://localhost:8080/",
     "height": 161
    },
    "id": "54gDkjSSHNwr",
    "outputId": "08666dd7-c589-4d9a-ebee-10aa42d351ff"
   },
   "outputs": [
    {
     "name": "stderr",
     "output_type": "stream",
     "text": [
      "E: Could not open lock file /var/lib/dpkg/lock-frontend - open (13: Permission denied)\n",
      "E: Unable to acquire the dpkg frontend lock (/var/lib/dpkg/lock-frontend), are you root?\n"
     ]
    },
    {
     "name": "stdout",
     "output_type": "stream",
     "text": [
      "[AI2-THOR WARNING] There has been an update to ProcTHOR-10K that must be used with AI2-THOR version 5.0+. To use the new version of ProcTHOR-10K, please update AI2-THOR to version 5.0+ by running:\n",
      "    pip install --upgrade ai2thor\n",
      "Alternatively, to downgrade to the old version of ProcTHOR-10K, run:\n",
      "   prior.load_dataset(\"procthor-10k\", revision=\"ab3cacd0fc17754d4c080a3fd50b18395fae8647\")\n"
     ]
    },
    {
     "name": "stderr",
     "output_type": "stream",
     "text": [
      "Loading train: 100%|████████████████████| 10000/10000 [00:01<00:00, 7393.54it/s]\n",
      "Loading val: 100%|████████████████████████| 1000/1000 [00:00<00:00, 7749.06it/s]\n",
      "Loading test: 100%|███████████████████████| 1000/1000 [00:00<00:00, 7765.30it/s]\n"
     ]
    }
   ],
   "source": [
    "import os\n",
    "os.system('apt-get install xvfb')\n",
    "\n",
    "import prior\n",
    "dataset = prior.load_dataset(\"procthor-10k\")\n",
    "house = dataset[\"train\"][11]\n",
    "\n",
    "# import ai2thor_colab\n",
    "# ai2thor_colab.start_xserver()"
   ]
  },
  {
   "cell_type": "code",
   "execution_count": 7,
   "metadata": {
    "colab": {
     "base_uri": "https://localhost:8080/"
    },
    "id": "VgU8W_hymi7R",
    "outputId": "f42ee291-0ab0-42b4-b028-0dcae54057f1"
   },
   "outputs": [],
   "source": [
    "from ai2thor.controller import Controller\n",
    "from ai2thor.platform import CloudRendering\n",
    "from PIL import Image\n",
    "\n",
    "controller = Controller(platform=CloudRendering)\n",
    "# controller = Controller(scene='FloorPlan30',platform=CloudRendering)\n",
    "# controller = Controller(scene=house, visibilityDistance=1.5 , width=150, height=100)\n",
    "# img = Image.fromarray(controller.last_event.frame)"
   ]
  },
  {
   "cell_type": "code",
   "execution_count": null,
   "metadata": {},
   "outputs": [],
   "source": [
    "# Function to teleport and get an image\n",
    "def Teleporting():\n",
    "    event = controller.step(action=\"GetReachablePositions\")\n",
    "    reachable_positions = event.metadata[\"actionReturn\"]\n",
    "    position = random.choice(reachable_positions)\n",
    "    rotation = random.choice(range(360))\n",
    "    event = controller.step(action=\"Teleport\", position=position, rotation=rotation)\n",
    "    img = Image.fromarray(controller.last_event.frame)\n",
    "    return img, controller.last_event.frame"
   ]
  },
  {
   "cell_type": "markdown",
   "metadata": {
    "id": "Vr5QZ640HUg2"
   },
   "source": [
    "# Image to text"
   ]
  },
  {
   "cell_type": "code",
   "execution_count": 9,
   "metadata": {
    "colab": {
     "base_uri": "https://localhost:8080/"
    },
    "id": "wzsWiY-MHgCH",
    "outputId": "5eb77500-8029-4e3a-e80d-3de3303ca7ce"
   },
   "outputs": [],
   "source": [
    "# ! pip install transformers -q"
   ]
  },
  {
   "cell_type": "code",
   "execution_count": 10,
   "metadata": {
    "id": "ib1CaIrFHl1U"
   },
   "outputs": [],
   "source": [
    "from transformers import pipeline"
   ]
  },
  {
   "cell_type": "code",
   "execution_count": 11,
   "metadata": {
    "colab": {
     "base_uri": "https://localhost:8080/",
     "height": 273,
     "referenced_widgets": [
      "bfd07e4208c3480aaa8fa4db066a0280",
      "bacde573fdae4818ada034833bb2a1f5",
      "4d5fd76d12814268a87cd5eaad6659e9",
      "18246aae7d414e9db5c7c11968d85f96",
      "5fb0c67a237d4926b3260c8876258260",
      "1de76081655745faa2a2681b589db214",
      "99708abca95a4dd28aad3e17c5dbc20f",
      "e8ff56466da9407eb6910b92292ddbcd",
      "70731d4310804f8ba1a300719330be79",
      "c76933c9615044a781a73f22bbd4c086",
      "0d55b6466b794a8485d796a8c7c99c2f",
      "5ea80921262846c4b96990bc92bebafa",
      "829748cc5bed4c32b07fac520ccb9404",
      "f770f06c5cd64cb29727e5a60743df4f",
      "d58ac986bf004ea18be4520a63a1bd2d",
      "47840ca5623545928f7ad23f7b7a99ae",
      "5e1e34a95d004ed6b24132eb847edee7",
      "b04399156ae845a7b22d1c408fb2da41",
      "ecddb22f8d8e42f7a1d1c9550bbd3285",
      "14b4161f4a484464956d7ea79595bd02",
      "e712ee16b4df4e578c28eba98b48c648",
      "8e50cb34a82141b1b27d1e741133e296",
      "a24ea782ab3f4095a4c5f1295f552033",
      "a2c68912e47745d18d7df7e0924b3dcc",
      "1e3aa861b2ca49bdafc33903854c3385",
      "a3660fe933fd47db9209135e79d2b65d",
      "be3fed9d7b5441bbad52a6ab8728679c",
      "9d4834c11cd040389c59a7e8e98aa6c1",
      "dfed8cc40d80477d8d95ecdcdf30e4ef",
      "ff61d7960e3d414fa7201ae8180c7a85",
      "031375c7b90c4e0695a8c3db2713e900",
      "30892c9ac9ba462682868ba21556931c",
      "592f428ecec34b9aabb4f22794fec9c9",
      "bb8df6058ca7483c93d25e5686c80233",
      "bcfec316cc41496e8be6e9ba492db192",
      "88b336f01840438e8ca44e3b83c536b0",
      "8f214b2625b543da8ad69040f80caf0f",
      "9163813e5f014164a8777a94377cdd90",
      "cd08cbf9d0994e28be6832f39a2c290c",
      "61f3a730dabf45d2b30d05525e4d6b70"
     ]
    },
    "id": "IZwIZaeOHmr7",
    "outputId": "e0451cf1-3283-4961-9636-312a97eb6bc0"
   },
   "outputs": [],
   "source": [
    "captioner = pipeline(model=\"ydshieh/vit-gpt2-coco-en\")\n",
    "# caption = pipeline('image-to-text')\n",
    "def image_to_caption(img):\n",
    "    caption = pipeline('image-to-text')\n",
    "    image_text= caption(img)[0]\n",
    "    return image_text"
   ]
  },
  {
   "cell_type": "markdown",
   "metadata": {},
   "source": [
    "# Generate Images"
   ]
  },
  {
   "cell_type": "code",
   "execution_count": 12,
   "metadata": {},
   "outputs": [],
   "source": [
    "# to generate data for evaluation\n",
    "import time \n",
    "import pandas as pd\n",
    "import os\n",
    "import random\n",
    "from PIL import Image\n",
    "from transformers import pipeline\n",
    "\n",
    "\n",
    "# Initialize a DataFrame to store image paths and captions\n",
    "df = pd.DataFrame(columns=[\"Image Path\", \"Caption\"])\n",
    "\n",
    "# Directory to save images\n",
    "image_dir = \"images\"\n",
    "\n",
    "# Create the directory if it doesn't exist\n",
    "os.makedirs(image_dir, exist_ok=True)\n",
    "\n",
    "# Get the highest index in the image filenames\n",
    "existing_image_indices = [int(filename.split(\".\")[0]) for filename in os.listdir(image_dir) if filename.endswith(\".jpg\")]\n",
    "highest_index = max(existing_image_indices, default=-1)\n",
    "\n",
    "# Load the existing CSV file if it exists\n",
    "existing_csv_file_path = \"image_captions_new.csv\"\n",
    "if os.path.exists(existing_csv_file_path):\n",
    "    existing_df = pd.read_csv(existing_csv_file_path)\n",
    "else:\n",
    "    existing_df = pd.DataFrame(columns=[\"Image Path\", \"Caption\"])\n",
    "\n",
    "for i in range(highest_index + 1, highest_index + 1 + 150):\n",
    "    img, x = Teleporting()\n",
    "    \n",
    "    # Generate a caption for the image\n",
    "    caption_result = image_to_caption(img)\n",
    "    caption = caption_result['generated_text']\n",
    "    \n",
    "    # Define the image filename\n",
    "    image_filename = f\"{i}.jpg\"\n",
    "    \n",
    "    # Save the image to the specified directory\n",
    "    img.save(os.path.join(image_dir, image_filename))\n",
    "    \n",
    "    # Add the image path and caption to the DataFrame\n",
    "    df = pd.concat([df, pd.DataFrame({\"Image Path\": [os.path.join(image_dir, image_filename)], \"Caption\": [caption]})], ignore_index=True)\n",
    "    \n",
    "    time.sleep(1)\n",
    "\n",
    "# Append the new data to the existing DataFrame\n",
    "combined_df = pd.concat([existing_df, df], ignore_index=True)\n",
    "\n",
    "# Save the updated DataFrame to the same CSV file\n",
    "combined_df.to_csv(existing_csv_file_path, index=False, encoding='utf-8')\n"
   ]
  }
 ],
 "metadata": {
  "colab": {
   "provenance": []
  },
  "kernelspec": {
   "display_name": "Python 3 (ipykernel)",
   "language": "python",
   "name": "python3"
  },
  "language_info": {
   "codemirror_mode": {
    "name": "ipython",
    "version": 3
   },
   "file_extension": ".py",
   "mimetype": "text/x-python",
   "name": "python",
   "nbconvert_exporter": "python",
   "pygments_lexer": "ipython3",
   "version": "3.10.11"
  },
  "widgets": {
   "application/vnd.jupyter.widget-state+json": {
    "18246aae7d414e9db5c7c11968d85f96": {
     "model_module": "@jupyter-widgets/controls",
     "model_module_version": "1.5.0",
     "model_name": "HBoxModel",
     "state": {
      "_dom_classes": [],
      "_model_module": "@jupyter-widgets/controls",
      "_model_module_version": "1.5.0",
      "_model_name": "HBoxModel",
      "_view_count": null,
      "_view_module": "@jupyter-widgets/controls",
      "_view_module_version": "1.5.0",
      "_view_name": "HBoxView",
      "box_style": "",
      "children": [
       "IPY_MODEL_e712ee16b4df4e578c28eba98b48c648",
       "IPY_MODEL_8e50cb34a82141b1b27d1e741133e296",
       "IPY_MODEL_a24ea782ab3f4095a4c5f1295f552033"
      ],
      "layout": "IPY_MODEL_a2c68912e47745d18d7df7e0924b3dcc"
     }
    },
    "1de76081655745faa2a2681b589db214": {
     "model_module": "@jupyter-widgets/controls",
     "model_module_version": "1.5.0",
     "model_name": "HBoxModel",
     "state": {
      "_dom_classes": [],
      "_model_module": "@jupyter-widgets/controls",
      "_model_module_version": "1.5.0",
      "_model_name": "HBoxModel",
      "_view_count": null,
      "_view_module": "@jupyter-widgets/controls",
      "_view_module_version": "1.5.0",
      "_view_name": "HBoxView",
      "box_style": "",
      "children": [
       "IPY_MODEL_dfed8cc40d80477d8d95ecdcdf30e4ef",
       "IPY_MODEL_ff61d7960e3d414fa7201ae8180c7a85",
       "IPY_MODEL_031375c7b90c4e0695a8c3db2713e900"
      ],
      "layout": "IPY_MODEL_30892c9ac9ba462682868ba21556931c"
     }
    },
    "43cad8e0bf684a8e9ba810823df0e596": {
     "model_module": "@jupyter-widgets/controls",
     "model_module_version": "1.5.0",
     "model_name": "HBoxModel",
     "state": {
      "_dom_classes": [],
      "_model_module": "@jupyter-widgets/controls",
      "_model_module_version": "1.5.0",
      "_model_name": "HBoxModel",
      "_view_count": null,
      "_view_module": "@jupyter-widgets/controls",
      "_view_module_version": "1.5.0",
      "_view_name": "HBoxView",
      "box_style": "",
      "children": [
       "IPY_MODEL_8fa03a02b9994a229e78bfb0460c1718",
       "IPY_MODEL_07a9396d741b4fda957b092d9d9ac710",
       "IPY_MODEL_924ae00d14d9421cbe98d9b790dcf0cf"
      ],
      "layout": "IPY_MODEL_c8fc2c7289fe458d9f9542fdaa4ccc2d"
     }
    },
    "49378ba2fb20408a833d0c90e1d8dfa7": {
     "model_module": "@jupyter-widgets/controls",
     "model_module_version": "1.5.0",
     "model_name": "HBoxModel",
     "state": {
      "_dom_classes": [],
      "_model_module": "@jupyter-widgets/controls",
      "_model_module_version": "1.5.0",
      "_model_name": "HBoxModel",
      "_view_count": null,
      "_view_module": "@jupyter-widgets/controls",
      "_view_module_version": "1.5.0",
      "_view_name": "HBoxView",
      "box_style": "",
      "children": [
       "IPY_MODEL_237da10b5a504abbb1db20255cf88400",
       "IPY_MODEL_55a4d016eb0b4e8db58c52ec2bce1251",
       "IPY_MODEL_9696ea472ed54c28b92371cd6dd7ead8"
      ],
      "layout": "IPY_MODEL_72c2c0d5d792405580b180d3906c5a42"
     }
    },
    "4d5fd76d12814268a87cd5eaad6659e9": {
     "model_module": "@jupyter-widgets/controls",
     "model_module_version": "1.5.0",
     "model_name": "HBoxModel",
     "state": {
      "_dom_classes": [],
      "_model_module": "@jupyter-widgets/controls",
      "_model_module_version": "1.5.0",
      "_model_name": "HBoxModel",
      "_view_count": null,
      "_view_module": "@jupyter-widgets/controls",
      "_view_module_version": "1.5.0",
      "_view_name": "HBoxView",
      "box_style": "",
      "children": [
       "IPY_MODEL_5e1e34a95d004ed6b24132eb847edee7",
       "IPY_MODEL_b04399156ae845a7b22d1c408fb2da41",
       "IPY_MODEL_ecddb22f8d8e42f7a1d1c9550bbd3285"
      ],
      "layout": "IPY_MODEL_14b4161f4a484464956d7ea79595bd02"
     }
    },
    "5fb0c67a237d4926b3260c8876258260": {
     "model_module": "@jupyter-widgets/controls",
     "model_module_version": "1.5.0",
     "model_name": "HBoxModel",
     "state": {
      "_dom_classes": [],
      "_model_module": "@jupyter-widgets/controls",
      "_model_module_version": "1.5.0",
      "_model_name": "HBoxModel",
      "_view_count": null,
      "_view_module": "@jupyter-widgets/controls",
      "_view_module_version": "1.5.0",
      "_view_name": "HBoxView",
      "box_style": "",
      "children": [
       "IPY_MODEL_1e3aa861b2ca49bdafc33903854c3385",
       "IPY_MODEL_a3660fe933fd47db9209135e79d2b65d",
       "IPY_MODEL_be3fed9d7b5441bbad52a6ab8728679c"
      ],
      "layout": "IPY_MODEL_9d4834c11cd040389c59a7e8e98aa6c1"
     }
    },
    "6ba69ef09bdc4364a67d03a4a4d05e71": {
     "model_module": "@jupyter-widgets/controls",
     "model_module_version": "1.5.0",
     "model_name": "HBoxModel",
     "state": {
      "_dom_classes": [],
      "_model_module": "@jupyter-widgets/controls",
      "_model_module_version": "1.5.0",
      "_model_name": "HBoxModel",
      "_view_count": null,
      "_view_module": "@jupyter-widgets/controls",
      "_view_module_version": "1.5.0",
      "_view_name": "HBoxView",
      "box_style": "",
      "children": [
       "IPY_MODEL_7d2a199d83c34731a1316d904ab10311",
       "IPY_MODEL_5bae968e1a8f4fe89b26397e768894f6",
       "IPY_MODEL_f189bd3c75d148048b054137434984b4"
      ],
      "layout": "IPY_MODEL_96b500e6eff84d1c8e1cac7fac8fbaa6"
     }
    },
    "6cc0607a0ba242a78ad5b2d8cae804e7": {
     "model_module": "@jupyter-widgets/controls",
     "model_module_version": "1.5.0",
     "model_name": "HBoxModel",
     "state": {
      "_dom_classes": [],
      "_model_module": "@jupyter-widgets/controls",
      "_model_module_version": "1.5.0",
      "_model_name": "HBoxModel",
      "_view_count": null,
      "_view_module": "@jupyter-widgets/controls",
      "_view_module_version": "1.5.0",
      "_view_name": "HBoxView",
      "box_style": "",
      "children": [
       "IPY_MODEL_36451845388e44bc9fd4191af3c80c9c",
       "IPY_MODEL_3c153120de884156a4353a7b786bb26a",
       "IPY_MODEL_a414226e64be436fa670e60d909723c7"
      ],
      "layout": "IPY_MODEL_6a65ea49487e416284dd8ab48d433b02"
     }
    },
    "76814b92fca646769f5e4f6342f5bb5b": {
     "model_module": "@jupyter-widgets/controls",
     "model_module_version": "1.5.0",
     "model_name": "HBoxModel",
     "state": {
      "_dom_classes": [],
      "_model_module": "@jupyter-widgets/controls",
      "_model_module_version": "1.5.0",
      "_model_name": "HBoxModel",
      "_view_count": null,
      "_view_module": "@jupyter-widgets/controls",
      "_view_module_version": "1.5.0",
      "_view_name": "HBoxView",
      "box_style": "",
      "children": [
       "IPY_MODEL_f6d3169d04cc4737a723658f49f2c3cc",
       "IPY_MODEL_ab856db2b34347aca95b73f9e0ee72e4",
       "IPY_MODEL_5fa22c716e7542ef9b126fc7323e9d67"
      ],
      "layout": "IPY_MODEL_29fbf3f3f560422cbf361529525d162d"
     }
    },
    "99708abca95a4dd28aad3e17c5dbc20f": {
     "model_module": "@jupyter-widgets/controls",
     "model_module_version": "1.5.0",
     "model_name": "HBoxModel",
     "state": {
      "_dom_classes": [],
      "_model_module": "@jupyter-widgets/controls",
      "_model_module_version": "1.5.0",
      "_model_name": "HBoxModel",
      "_view_count": null,
      "_view_module": "@jupyter-widgets/controls",
      "_view_module_version": "1.5.0",
      "_view_name": "HBoxView",
      "box_style": "",
      "children": [
       "IPY_MODEL_592f428ecec34b9aabb4f22794fec9c9",
       "IPY_MODEL_bb8df6058ca7483c93d25e5686c80233",
       "IPY_MODEL_bcfec316cc41496e8be6e9ba492db192"
      ],
      "layout": "IPY_MODEL_88b336f01840438e8ca44e3b83c536b0"
     }
    },
    "a518385bb16c44c2baa935446cffb08f": {
     "model_module": "@jupyter-widgets/controls",
     "model_module_version": "1.5.0",
     "model_name": "HBoxModel",
     "state": {
      "_dom_classes": [],
      "_model_module": "@jupyter-widgets/controls",
      "_model_module_version": "1.5.0",
      "_model_name": "HBoxModel",
      "_view_count": null,
      "_view_module": "@jupyter-widgets/controls",
      "_view_module_version": "1.5.0",
      "_view_name": "HBoxView",
      "box_style": "",
      "children": [
       "IPY_MODEL_f9c53e1cc7d34e7aaa2bd7d10bee96ab",
       "IPY_MODEL_b312f3134b724c4d9083dec96ada929a",
       "IPY_MODEL_0f043a585ff54792a871ec3b8c64f1d4"
      ],
      "layout": "IPY_MODEL_c9facc1843bd4acb8c04797c4c749fb9"
     }
    },
    "aec741e41ca2474db7bc05f1698bab7d": {
     "model_module": "@jupyter-widgets/controls",
     "model_module_version": "1.5.0",
     "model_name": "HBoxModel",
     "state": {
      "_dom_classes": [],
      "_model_module": "@jupyter-widgets/controls",
      "_model_module_version": "1.5.0",
      "_model_name": "HBoxModel",
      "_view_count": null,
      "_view_module": "@jupyter-widgets/controls",
      "_view_module_version": "1.5.0",
      "_view_name": "HBoxView",
      "box_style": "",
      "children": [
       "IPY_MODEL_f09036798f4e4a9cac6b51df976dc792",
       "IPY_MODEL_8fd4fee82e8341db878bbf2ce398f45e",
       "IPY_MODEL_dba58e68bc3e491a8f1cd34291415b5a"
      ],
      "layout": "IPY_MODEL_b903eaf4e09b4aea87e0da96fedda8c5"
     }
    },
    "b2272268cebb485584fdcdc56417a82e": {
     "model_module": "@jupyter-widgets/controls",
     "model_module_version": "1.5.0",
     "model_name": "HBoxModel",
     "state": {
      "_dom_classes": [],
      "_model_module": "@jupyter-widgets/controls",
      "_model_module_version": "1.5.0",
      "_model_name": "HBoxModel",
      "_view_count": null,
      "_view_module": "@jupyter-widgets/controls",
      "_view_module_version": "1.5.0",
      "_view_name": "HBoxView",
      "box_style": "",
      "children": [
       "IPY_MODEL_d94fbe8888384d69b0f3cb4bc4ce0961",
       "IPY_MODEL_cd1632ee01524f8385860ecbe443b783",
       "IPY_MODEL_8d90be73f6b74aa0b6c4d12f5606f318"
      ],
      "layout": "IPY_MODEL_2adf13d3ed2448a58a2bf9ddd373f9d4"
     }
    },
    "bacde573fdae4818ada034833bb2a1f5": {
     "model_module": "@jupyter-widgets/controls",
     "model_module_version": "1.5.0",
     "model_name": "HBoxModel",
     "state": {
      "_dom_classes": [],
      "_model_module": "@jupyter-widgets/controls",
      "_model_module_version": "1.5.0",
      "_model_name": "HBoxModel",
      "_view_count": null,
      "_view_module": "@jupyter-widgets/controls",
      "_view_module_version": "1.5.0",
      "_view_name": "HBoxView",
      "box_style": "",
      "children": [
       "IPY_MODEL_829748cc5bed4c32b07fac520ccb9404",
       "IPY_MODEL_f770f06c5cd64cb29727e5a60743df4f",
       "IPY_MODEL_d58ac986bf004ea18be4520a63a1bd2d"
      ],
      "layout": "IPY_MODEL_47840ca5623545928f7ad23f7b7a99ae"
     }
    },
    "bfd07e4208c3480aaa8fa4db066a0280": {
     "model_module": "@jupyter-widgets/controls",
     "model_module_version": "1.5.0",
     "model_name": "HBoxModel",
     "state": {
      "_dom_classes": [],
      "_model_module": "@jupyter-widgets/controls",
      "_model_module_version": "1.5.0",
      "_model_name": "HBoxModel",
      "_view_count": null,
      "_view_module": "@jupyter-widgets/controls",
      "_view_module_version": "1.5.0",
      "_view_name": "HBoxView",
      "box_style": "",
      "children": [
       "IPY_MODEL_70731d4310804f8ba1a300719330be79",
       "IPY_MODEL_c76933c9615044a781a73f22bbd4c086",
       "IPY_MODEL_0d55b6466b794a8485d796a8c7c99c2f"
      ],
      "layout": "IPY_MODEL_5ea80921262846c4b96990bc92bebafa"
     }
    },
    "c3f37f5e543e4fd593536ecfe6cb78e9": {
     "model_module": "@jupyter-widgets/controls",
     "model_module_version": "1.5.0",
     "model_name": "HBoxModel",
     "state": {
      "_dom_classes": [],
      "_model_module": "@jupyter-widgets/controls",
      "_model_module_version": "1.5.0",
      "_model_name": "HBoxModel",
      "_view_count": null,
      "_view_module": "@jupyter-widgets/controls",
      "_view_module_version": "1.5.0",
      "_view_name": "HBoxView",
      "box_style": "",
      "children": [
       "IPY_MODEL_2d3152f66e594714ad6ca5d02f3c3f2a",
       "IPY_MODEL_f8606f19334b4220acaee3a04aba7065",
       "IPY_MODEL_1db895be0f124508b89795a3ac14be27"
      ],
      "layout": "IPY_MODEL_b475ea2fd9d64691879f74de76bde401"
     }
    },
    "e435f2d13b684aa3b83e583657b3718e": {
     "model_module": "@jupyter-widgets/controls",
     "model_module_version": "1.5.0",
     "model_name": "HBoxModel",
     "state": {
      "_dom_classes": [],
      "_model_module": "@jupyter-widgets/controls",
      "_model_module_version": "1.5.0",
      "_model_name": "HBoxModel",
      "_view_count": null,
      "_view_module": "@jupyter-widgets/controls",
      "_view_module_version": "1.5.0",
      "_view_name": "HBoxView",
      "box_style": "",
      "children": [
       "IPY_MODEL_f1f276533ad7488c80e535d14d084ab1",
       "IPY_MODEL_628fd02df1b041ed99d8f95c5b3c7b42",
       "IPY_MODEL_40a2883cbfcd49008afae5989dfe7d0d"
      ],
      "layout": "IPY_MODEL_5d2991a9fbf34727a16de8f40eb274ff"
     }
    },
    "e69d862ba2e648a8a4a4a1e34b35410f": {
     "model_module": "@jupyter-widgets/controls",
     "model_module_version": "1.5.0",
     "model_name": "HBoxModel",
     "state": {
      "_dom_classes": [],
      "_model_module": "@jupyter-widgets/controls",
      "_model_module_version": "1.5.0",
      "_model_name": "HBoxModel",
      "_view_count": null,
      "_view_module": "@jupyter-widgets/controls",
      "_view_module_version": "1.5.0",
      "_view_name": "HBoxView",
      "box_style": "",
      "children": [
       "IPY_MODEL_5b1207f4db3143c698445ee9795aa3a7",
       "IPY_MODEL_e225a61f063345d2935987f252f8a883",
       "IPY_MODEL_7cdf1670e5d141b8bf50cc7ab7be88ac"
      ],
      "layout": "IPY_MODEL_ebd9ef001d2645d9be8eefeadae954da"
     }
    },
    "e736660f447d42fbbc7cec13161e1ad8": {
     "model_module": "@jupyter-widgets/controls",
     "model_module_version": "1.5.0",
     "model_name": "HBoxModel",
     "state": {
      "_dom_classes": [],
      "_model_module": "@jupyter-widgets/controls",
      "_model_module_version": "1.5.0",
      "_model_name": "HBoxModel",
      "_view_count": null,
      "_view_module": "@jupyter-widgets/controls",
      "_view_module_version": "1.5.0",
      "_view_name": "HBoxView",
      "box_style": "",
      "children": [
       "IPY_MODEL_22ac3b8a4fdf4ba59c246ed1f7b9ffa5",
       "IPY_MODEL_01c3d9edaf7f480191bd176d92dddcb2",
       "IPY_MODEL_91059ac0f3af48ecb03f3c45b3984c47"
      ],
      "layout": "IPY_MODEL_9a29499385b9413cb13964339f1b80c5"
     }
    },
    "e8ff56466da9407eb6910b92292ddbcd": {
     "model_module": "@jupyter-widgets/controls",
     "model_module_version": "1.5.0",
     "model_name": "HBoxModel",
     "state": {
      "_dom_classes": [],
      "_model_module": "@jupyter-widgets/controls",
      "_model_module_version": "1.5.0",
      "_model_name": "HBoxModel",
      "_view_count": null,
      "_view_module": "@jupyter-widgets/controls",
      "_view_module_version": "1.5.0",
      "_view_name": "HBoxView",
      "box_style": "",
      "children": [
       "IPY_MODEL_8f214b2625b543da8ad69040f80caf0f",
       "IPY_MODEL_9163813e5f014164a8777a94377cdd90",
       "IPY_MODEL_cd08cbf9d0994e28be6832f39a2c290c"
      ],
      "layout": "IPY_MODEL_61f3a730dabf45d2b30d05525e4d6b70"
     }
    },
    "f4888182816b4ca19efa83f6c666bca5": {
     "model_module": "@jupyter-widgets/controls",
     "model_module_version": "1.5.0",
     "model_name": "HBoxModel",
     "state": {
      "_dom_classes": [],
      "_model_module": "@jupyter-widgets/controls",
      "_model_module_version": "1.5.0",
      "_model_name": "HBoxModel",
      "_view_count": null,
      "_view_module": "@jupyter-widgets/controls",
      "_view_module_version": "1.5.0",
      "_view_name": "HBoxView",
      "box_style": "",
      "children": [
       "IPY_MODEL_0bd3af94a3544b618beef156bbd9c52e",
       "IPY_MODEL_b2ed3e6558d34003af56dd5976e4d5df",
       "IPY_MODEL_5c8b84171668444ea2b63d6b0f3b260c"
      ],
      "layout": "IPY_MODEL_569c292207ae4d83a269c899190db55b"
     }
    }
   }
  }
 },
 "nbformat": 4,
 "nbformat_minor": 4
}
